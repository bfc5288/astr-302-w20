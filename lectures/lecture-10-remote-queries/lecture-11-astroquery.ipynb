{
 "cells": [
  {
   "cell_type": "markdown",
   "metadata": {
    "slideshow": {
     "slide_type": "slide"
    }
   },
   "source": [
    "## Astroquery (continued) ##\n",
    "\n",
    "(based on https://github.com/ESO-python/ESOPythonTutorials)\n",
    "\n",
    "[Astroquery](http://astroquery.readthedocs.org) is a set of related tools for querying different astronomical database services,  e.g. SIMBAD, VizieR, and IRSA-IPAC, and for retrieving data from archives, e.g. the ESO, IRSA, and NRAO archives.  It also includes tools for querying other astronomy-related databases such as line-list servers at NIST (primarily for optical/NIR electronic transitions) and Splatalogue for mm/radio molecular transitions."
   ]
  },
  {
   "cell_type": "markdown",
   "metadata": {
    "slideshow": {
     "slide_type": "slide"
    }
   },
   "source": [
    "### Warning: Work in Progress\n",
    "\n",
    "Astroquery submodules _try_ to expose a common API (i.e., the function names, arguments, return values, should be the same from module to module). Each astroquery submodule should include a `query` method, or a set of `query_*` methods, depending on the capabilities the service offers. This is still _not_ the case universally (even if documentation says otherwise)."
   ]
  },
  {
   "cell_type": "markdown",
   "metadata": {
    "slideshow": {
     "slide_type": "slide"
    }
   },
   "source": [
    "## Examples: SIMBAD general query\n",
    "\n",
    "SIMBAD is the acronym for **S**et of **I**dentifications, **M**easurements and **B**ibliography for **A**stronomical **D**ata. The SIMBAD database is managed by the Centre de Données astronomiques de Strasbourg (CDS), France.\n",
    "\n",
    "SIMBAD supports queries by source name (`query_object`) and by region (`query_region`).  The returned values are (almost) always [astropy tables](docs.astropy.org/en/latest/tables/)."
   ]
  },
  {
   "cell_type": "code",
   "execution_count": 1,
   "metadata": {
    "slideshow": {
     "slide_type": "-"
    }
   },
   "outputs": [],
   "source": [
    "from astroquery.simbad import Simbad\n",
    "from astropy import coordinates\n",
    "from astropy import units as u"
   ]
  },
  {
   "cell_type": "markdown",
   "metadata": {
    "slideshow": {
     "slide_type": "slide"
    }
   },
   "source": [
    "Querying an object by name:"
   ]
  },
  {
   "cell_type": "code",
   "execution_count": 2,
   "metadata": {
    "slideshow": {
     "slide_type": "-"
    }
   },
   "outputs": [
    {
     "data": {
      "text/html": [
       "<i>Table length=1</i>\n",
       "<table id=\"table4760997792\" class=\"table-striped table-bordered table-condensed\">\n",
       "<thead><tr><th>MAIN_ID</th><th>RA</th><th>DEC</th><th>RA_PREC</th><th>DEC_PREC</th><th>COO_ERR_MAJA</th><th>COO_ERR_MINA</th><th>COO_ERR_ANGLE</th><th>COO_QUAL</th><th>COO_WAVELENGTH</th><th>COO_BIBCODE</th></tr></thead>\n",
       "<thead><tr><th></th><th>&quot;h:m:s&quot;</th><th>&quot;d:m:s&quot;</th><th></th><th></th><th>mas</th><th>mas</th><th>deg</th><th></th><th></th><th></th></tr></thead>\n",
       "<thead><tr><th>object</th><th>str13</th><th>str13</th><th>int16</th><th>int16</th><th>float32</th><th>float32</th><th>int16</th><th>str1</th><th>str1</th><th>object</th></tr></thead>\n",
       "<tr><td>M  31</td><td>00 42 44.330</td><td>+41 16 07.50</td><td>7</td><td>7</td><td>--</td><td>--</td><td>0</td><td>C</td><td>I</td><td>2006AJ....131.1163S</td></tr>\n",
       "</table>"
      ],
      "text/plain": [
       "<Table length=1>\n",
       "MAIN_ID      RA          DEC      ... COO_WAVELENGTH     COO_BIBCODE    \n",
       "          \"h:m:s\"      \"d:m:s\"    ...                                   \n",
       " object    str13        str13     ...      str1             object      \n",
       "------- ------------ ------------ ... -------------- -------------------\n",
       "  M  31 00 42 44.330 +41 16 07.50 ...              I 2006AJ....131.1163S"
      ]
     },
     "execution_count": 2,
     "metadata": {},
     "output_type": "execute_result"
    }
   ],
   "source": [
    "result1 = Simbad.query_object('M 31')\n",
    "result1"
   ]
  },
  {
   "cell_type": "markdown",
   "metadata": {
    "slideshow": {
     "slide_type": "slide"
    }
   },
   "source": [
    "Querying by position:"
   ]
  },
  {
   "cell_type": "code",
   "execution_count": 3,
   "metadata": {
    "scrolled": true,
    "slideshow": {
     "slide_type": "-"
    }
   },
   "outputs": [
    {
     "name": "stderr",
     "output_type": "stream",
     "text": [
      "WARNING: InputWarning: Coordinate string is being interpreted as an ICRS coordinate. [astroquery.utils.commons]\n"
     ]
    },
    {
     "data": {
      "text/html": [
       "<i>Table length=715</i>\n",
       "<table id=\"table4489599680\" class=\"table-striped table-bordered table-condensed\">\n",
       "<thead><tr><th>MAIN_ID</th><th>RA</th><th>DEC</th><th>RA_PREC</th><th>DEC_PREC</th><th>COO_ERR_MAJA</th><th>COO_ERR_MINA</th><th>COO_ERR_ANGLE</th><th>COO_QUAL</th><th>COO_WAVELENGTH</th><th>COO_BIBCODE</th></tr></thead>\n",
       "<thead><tr><th></th><th>&quot;h:m:s&quot;</th><th>&quot;d:m:s&quot;</th><th></th><th></th><th>mas</th><th>mas</th><th>deg</th><th></th><th></th><th></th></tr></thead>\n",
       "<thead><tr><th>object</th><th>str13</th><th>str13</th><th>int16</th><th>int16</th><th>float32</th><th>float32</th><th>int16</th><th>str1</th><th>str1</th><th>object</th></tr></thead>\n",
       "<tr><td>NAME Ori Region</td><td>05 35 17.30</td><td>-05 23 28.0</td><td>6</td><td>6</td><td>--</td><td>--</td><td>0</td><td>D</td><td>O</td><td></td></tr>\n",
       "<tr><td>M  42</td><td>05 35 17.3</td><td>-05 23 28</td><td>5</td><td>5</td><td>7500.000</td><td>7500.000</td><td>90</td><td>D</td><td></td><td>1981MNRAS.194..693L</td></tr>\n",
       "<tr><td>[OW94] 172-327</td><td>05 35 17.2210</td><td>-05 23 26.542</td><td>9</td><td>9</td><td>--</td><td>--</td><td>0</td><td>C</td><td>R</td><td>2016ApJ...822...93F</td></tr>\n",
       "<tr><td>DOH  7 175-328</td><td>05 35 17.5</td><td>-05 23 28</td><td>5</td><td>5</td><td>--</td><td>--</td><td>0</td><td>D</td><td></td><td>2004AJ....127.3456D</td></tr>\n",
       "<tr><td>MAX 126</td><td>05 35 17.11</td><td>-05 23 29.3</td><td>6</td><td>6</td><td>--</td><td>--</td><td>0</td><td>D</td><td>I</td><td>2005AJ....129.1534R</td></tr>\n",
       "<tr><td>DOH  7 171-327</td><td>05 35 17.1</td><td>-05 23 27</td><td>5</td><td>5</td><td>--</td><td>--</td><td>0</td><td>D</td><td></td><td>2004AJ....127.3456D</td></tr>\n",
       "<tr><td>MAX 125</td><td>05 35 17.11</td><td>-05 23 26.6</td><td>6</td><td>6</td><td>--</td><td>--</td><td>0</td><td>D</td><td>I</td><td>2005AJ....129.1534R</td></tr>\n",
       "<tr><td>[OW94] 171-326</td><td>05 35 17.1</td><td>-05 23 26</td><td>5</td><td>5</td><td>--</td><td>--</td><td>0</td><td>D</td><td></td><td>2004AJ....127.3456D</td></tr>\n",
       "<tr><td>DOH  7 171-325</td><td>05 35 17.1</td><td>-05 23 25</td><td>5</td><td>5</td><td>--</td><td>--</td><td>0</td><td>D</td><td></td><td>2004AJ....127.3456D</td></tr>\n",
       "<tr><td>...</td><td>...</td><td>...</td><td>...</td><td>...</td><td>...</td><td>...</td><td>...</td><td>...</td><td>...</td><td>...</td></tr>\n",
       "<tr><td>[FTC93] 053253.59-052542.02</td><td>05 35 21.04</td><td>-05 23 49.0</td><td>6</td><td>6</td><td>--</td><td>--</td><td>0</td><td>D</td><td></td><td></td></tr>\n",
       "<tr><td>[OW94] 133-329</td><td>05 35 13.3</td><td>-05 23 29</td><td>5</td><td>5</td><td>--</td><td>--</td><td>0</td><td>D</td><td></td><td>2004AJ....127.3456D</td></tr>\n",
       "<tr><td>V* V1399 Ori</td><td>05 35 21.0492</td><td>-05 23 48.989</td><td>14</td><td>14</td><td>0.050</td><td>0.054</td><td>90</td><td>A</td><td>O</td><td>2018yCat.1345....0G</td></tr>\n",
       "<tr><td>[FRM2016] 112</td><td>05 35 13.2944</td><td>-05 23 29.674</td><td>9</td><td>9</td><td>--</td><td>--</td><td>0</td><td>C</td><td>R</td><td>2016ApJ...822...93F</td></tr>\n",
       "<tr><td>DOH 14 210-351</td><td>05 35 21.0</td><td>-05 23 51</td><td>5</td><td>5</td><td>--</td><td>--</td><td>0</td><td>D</td><td></td><td>2004AJ....127.3456D</td></tr>\n",
       "<tr><td>COUP J053521.2-052316</td><td>05 35 21.239</td><td>-05 23 16.95</td><td>7</td><td>7</td><td>--</td><td>--</td><td>0</td><td>D</td><td></td><td>2000ApJ...540.1016L</td></tr>\n",
       "<tr><td>[H97b] 20072</td><td>05 35 16.91</td><td>-05 22 28.4</td><td>6</td><td>6</td><td>150.000</td><td>150.000</td><td>90</td><td>C</td><td>O</td><td>2009A&amp;A...502..883R</td></tr>\n",
       "<tr><td>[OW94] 134-342</td><td>05 35 13.4</td><td>-05 23 42</td><td>5</td><td>5</td><td>--</td><td>--</td><td>0</td><td>D</td><td>O</td><td>2003AJ....125..277O</td></tr>\n",
       "<tr><td>[SCB99] 181</td><td>05 35 17.608</td><td>-05 22 28.24</td><td>7</td><td>7</td><td>--</td><td>--</td><td>0</td><td>D</td><td></td><td>1999AJ....117.1375S</td></tr>\n",
       "<tr><td>MMB G208.996-19.386</td><td>05 35 14.50</td><td>-05 22 45.0</td><td>6</td><td>6</td><td>400.000</td><td>400.000</td><td>90</td><td>C</td><td>R</td><td>2010MNRAS.404.1029C</td></tr>\n",
       "</table>"
      ],
      "text/plain": [
       "<Table length=715>\n",
       "          MAIN_ID                 RA      ... COO_WAVELENGTH     COO_BIBCODE    \n",
       "                               \"h:m:s\"    ...                                   \n",
       "           object               str13     ...      str1             object      \n",
       "--------------------------- ------------- ... -------------- -------------------\n",
       "            NAME Ori Region   05 35 17.30 ...              O                    \n",
       "                      M  42    05 35 17.3 ...                1981MNRAS.194..693L\n",
       "             [OW94] 172-327 05 35 17.2210 ...              R 2016ApJ...822...93F\n",
       "             DOH  7 175-328    05 35 17.5 ...                2004AJ....127.3456D\n",
       "                    MAX 126   05 35 17.11 ...              I 2005AJ....129.1534R\n",
       "             DOH  7 171-327    05 35 17.1 ...                2004AJ....127.3456D\n",
       "                    MAX 125   05 35 17.11 ...              I 2005AJ....129.1534R\n",
       "             [OW94] 171-326    05 35 17.1 ...                2004AJ....127.3456D\n",
       "             DOH  7 171-325    05 35 17.1 ...                2004AJ....127.3456D\n",
       "                        ...           ... ...            ...                 ...\n",
       "[FTC93] 053253.59-052542.02   05 35 21.04 ...                                   \n",
       "             [OW94] 133-329    05 35 13.3 ...                2004AJ....127.3456D\n",
       "               V* V1399 Ori 05 35 21.0492 ...              O 2018yCat.1345....0G\n",
       "              [FRM2016] 112 05 35 13.2944 ...              R 2016ApJ...822...93F\n",
       "             DOH 14 210-351    05 35 21.0 ...                2004AJ....127.3456D\n",
       "      COUP J053521.2-052316  05 35 21.239 ...                2000ApJ...540.1016L\n",
       "               [H97b] 20072   05 35 16.91 ...              O 2009A&A...502..883R\n",
       "             [OW94] 134-342    05 35 13.4 ...              O 2003AJ....125..277O\n",
       "                [SCB99] 181  05 35 17.608 ...                1999AJ....117.1375S\n",
       "        MMB G208.996-19.386   05 35 14.50 ...              R 2010MNRAS.404.1029C"
      ]
     },
     "execution_count": 3,
     "metadata": {},
     "output_type": "execute_result"
    }
   ],
   "source": [
    "result2 = Simbad.query_region(\"05h35m17.3s -05d23m28s\", radius=1*u.arcmin)\n",
    "result2"
   ]
  },
  {
   "cell_type": "markdown",
   "metadata": {
    "slideshow": {
     "slide_type": "slide"
    }
   },
   "source": [
    "Better:"
   ]
  },
  {
   "cell_type": "code",
   "execution_count": 4,
   "metadata": {
    "slideshow": {
     "slide_type": "-"
    }
   },
   "outputs": [
    {
     "data": {
      "text/html": [
       "<i>Table length=4</i>\n",
       "<table id=\"table4489600496\" class=\"table-striped table-bordered table-condensed\">\n",
       "<thead><tr><th>MAIN_ID</th><th>RA</th><th>DEC</th><th>RA_PREC</th><th>DEC_PREC</th><th>COO_ERR_MAJA</th><th>COO_ERR_MINA</th><th>COO_ERR_ANGLE</th><th>COO_QUAL</th><th>COO_WAVELENGTH</th><th>COO_BIBCODE</th></tr></thead>\n",
       "<thead><tr><th></th><th>&quot;h:m:s&quot;</th><th>&quot;d:m:s&quot;</th><th></th><th></th><th>mas</th><th>mas</th><th>deg</th><th></th><th></th><th></th></tr></thead>\n",
       "<thead><tr><th>object</th><th>str13</th><th>str13</th><th>int16</th><th>int16</th><th>float32</th><th>float32</th><th>int16</th><th>str1</th><th>str1</th><th>object</th></tr></thead>\n",
       "<tr><td>NAME Barnard&apos;s star</td><td>17 57 48.4997</td><td>+04 41 36.111</td><td>14</td><td>14</td><td>0.223</td><td>0.304</td><td>90</td><td>A</td><td>O</td><td>2018yCat.1345....0G</td></tr>\n",
       "<tr><td>NAME Barnard&apos;s Star b</td><td>17 57 48.4997</td><td>+04 41 36.111</td><td>14</td><td>14</td><td>0.223</td><td>0.304</td><td>90</td><td>A</td><td>O</td><td>2018yCat.1345....0G</td></tr>\n",
       "<tr><td>TYC  425-262-1</td><td>17 57 51.9500</td><td>+04 42 20.199</td><td>14</td><td>14</td><td>0.041</td><td>0.054</td><td>90</td><td>A</td><td>O</td><td>2018yCat.1345....0G</td></tr>\n",
       "<tr><td>1RXS J175749.5+043955</td><td>17 57 49.505</td><td>+04 39 55.01</td><td>7</td><td>7</td><td>--</td><td>--</td><td>0</td><td>E</td><td></td><td>2000IAUC.7432R...1V</td></tr>\n",
       "</table>"
      ],
      "text/plain": [
       "<Table length=4>\n",
       "       MAIN_ID              RA      ... COO_WAVELENGTH     COO_BIBCODE    \n",
       "                         \"h:m:s\"    ...                                   \n",
       "        object            str13     ...      str1             object      \n",
       "--------------------- ------------- ... -------------- -------------------\n",
       "  NAME Barnard's star 17 57 48.4997 ...              O 2018yCat.1345....0G\n",
       "NAME Barnard's Star b 17 57 48.4997 ...              O 2018yCat.1345....0G\n",
       "       TYC  425-262-1 17 57 51.9500 ...              O 2018yCat.1345....0G\n",
       "1RXS J175749.5+043955  17 57 49.505 ...                2000IAUC.7432R...1V"
      ]
     },
     "execution_count": 4,
     "metadata": {},
     "output_type": "execute_result"
    }
   ],
   "source": [
    "co = coordinates.SkyCoord(l=31.0087, b=14.0627,\n",
    "                          unit=(u.deg, u.deg),\n",
    "                          frame='galactic')\n",
    "result3 = Simbad.query_region(co)\n",
    "result3"
   ]
  },
  {
   "cell_type": "markdown",
   "metadata": {
    "slideshow": {
     "slide_type": "slide"
    }
   },
   "source": [
    "### SIMBAD: Querying named catalogs"
   ]
  },
  {
   "cell_type": "markdown",
   "metadata": {
    "slideshow": {
     "slide_type": "-"
    }
   },
   "source": [
    "There are also other query tools for some services, e.g. SIMBAD has a `query_catalog` feature that allows you to query named catalogs, e.g. the NGC catalog or the ESO catalog"
   ]
  },
  {
   "cell_type": "code",
   "execution_count": 5,
   "metadata": {
    "slideshow": {
     "slide_type": "slide"
    }
   },
   "outputs": [
    {
     "data": {
      "text/html": [
       "<i>Table length=100</i>\n",
       "<table id=\"table4764211040\" class=\"table-striped table-bordered table-condensed\">\n",
       "<thead><tr><th>MAIN_ID</th><th>RA</th><th>DEC</th><th>RA_PREC</th><th>DEC_PREC</th><th>COO_ERR_MAJA</th><th>COO_ERR_MINA</th><th>COO_ERR_ANGLE</th><th>COO_QUAL</th><th>COO_WAVELENGTH</th><th>COO_BIBCODE</th></tr></thead>\n",
       "<thead><tr><th></th><th>&quot;h:m:s&quot;</th><th>&quot;d:m:s&quot;</th><th></th><th></th><th>mas</th><th>mas</th><th>deg</th><th></th><th></th><th></th></tr></thead>\n",
       "<thead><tr><th>object</th><th>str13</th><th>str13</th><th>int16</th><th>int16</th><th>float32</th><th>float32</th><th>int16</th><th>str1</th><th>str1</th><th>object</th></tr></thead>\n",
       "<tr><td>ESO-HA    1</td><td>08 30 07.4083</td><td>-43 25 46.560</td><td>9</td><td>9</td><td>60.000</td><td>60.000</td><td>90</td><td>C</td><td>N</td><td>2003yCat.2246....0C</td></tr>\n",
       "<tr><td>NGC  2573</td><td>01 41 38.0117</td><td>-89 20 04.266</td><td>14</td><td>14</td><td>0.035</td><td>0.032</td><td>90</td><td>A</td><td>O</td><td>2018yCat.1345....0G</td></tr>\n",
       "<tr><td>ESO   1-2</td><td>05 04 36.8</td><td>-87 34 19</td><td>5</td><td>5</td><td>8000.000</td><td>8000.000</td><td>90</td><td>D</td><td></td><td>1982ESO...C......0L</td></tr>\n",
       "<tr><td>ESO   1-3</td><td>05 22 36.509</td><td>-87 50 50.02</td><td>7</td><td>7</td><td>--</td><td>--</td><td>0</td><td>C</td><td>I</td><td>2006AJ....131.1163S</td></tr>\n",
       "<tr><td>ESO   1-4</td><td>07 49 28.8195</td><td>-87 56 00.293</td><td>14</td><td>14</td><td>1.913</td><td>3.141</td><td>90</td><td>C</td><td>O</td><td>2018yCat.1345....0G</td></tr>\n",
       "<tr><td>ESO   1-5</td><td>08 53 05.006</td><td>-88 05 23.00</td><td>7</td><td>7</td><td>--</td><td>--</td><td>0</td><td>C</td><td>I</td><td>2006AJ....131.1163S</td></tr>\n",
       "<tr><td>ESO   1-6</td><td>14 27 19.4897</td><td>-87 46 19.985</td><td>14</td><td>14</td><td>1.582</td><td>1.150</td><td>90</td><td>C</td><td>O</td><td>2018yCat.1345....0G</td></tr>\n",
       "<tr><td>ESO   1-7</td><td>17 02 45.879</td><td>-88 55 01.94</td><td>7</td><td>7</td><td>--</td><td>--</td><td>0</td><td>C</td><td>I</td><td>2006AJ....131.1163S</td></tr>\n",
       "<tr><td>ESO   1-8</td><td>23 07 33.618</td><td>-89 06 59.07</td><td>7</td><td>7</td><td>--</td><td>--</td><td>0</td><td>C</td><td>I</td><td>2006AJ....131.1163S</td></tr>\n",
       "<tr><td>...</td><td>...</td><td>...</td><td>...</td><td>...</td><td>...</td><td>...</td><td>...</td><td>...</td><td>...</td><td>...</td></tr>\n",
       "<tr><td>ESO   4-3</td><td>03 29 49.8</td><td>-87 09 41</td><td>5</td><td>5</td><td>8000.000</td><td>8000.000</td><td>90</td><td>D</td><td></td><td>1982ESO...C......0L</td></tr>\n",
       "<tr><td>ESO   4-4</td><td>03 42 06.1</td><td>-83 53 01</td><td>5</td><td>5</td><td>8000.000</td><td>8000.000</td><td>90</td><td>D</td><td></td><td>1982ESO...C......0L</td></tr>\n",
       "<tr><td>ESO   4-5</td><td>03 44 16.134</td><td>-83 09 12.17</td><td>7</td><td>7</td><td>--</td><td>--</td><td>0</td><td>C</td><td>I</td><td>2006AJ....131.1163S</td></tr>\n",
       "<tr><td>ESO   4-6</td><td>03 49 36.9</td><td>-83 57 41</td><td>5</td><td>5</td><td>8000.000</td><td>8000.000</td><td>90</td><td>D</td><td></td><td>1982ESO...C......0L</td></tr>\n",
       "<tr><td>IC 2051</td><td>03 52 00.7661</td><td>-83 49 50.607</td><td>14</td><td>14</td><td>1.106</td><td>1.063</td><td>90</td><td>C</td><td>O</td><td>2018yCat.1345....0G</td></tr>\n",
       "<tr><td>ESO   4-8</td><td>03 58 49.2113</td><td>-82 30 56.679</td><td>14</td><td>14</td><td>1.598</td><td>1.897</td><td>90</td><td>C</td><td>O</td><td>2018yCat.1345....0G</td></tr>\n",
       "<tr><td>ESO   4-9</td><td>03 57 53.5</td><td>-84 21 50</td><td>5</td><td>5</td><td>8000.000</td><td>8000.000</td><td>90</td><td>D</td><td></td><td>1982ESO...C......0L</td></tr>\n",
       "<tr><td>ESO   4-10</td><td>03 59 49.1875</td><td>-84 05 37.900</td><td>14</td><td>14</td><td>2.920</td><td>2.248</td><td>90</td><td>C</td><td>O</td><td>2018yCat.1345....0G</td></tr>\n",
       "<tr><td>ESO   4-11</td><td>04 00 37.201</td><td>-84 22 00.20</td><td>7</td><td>7</td><td>--</td><td>--</td><td>0</td><td>C</td><td>I</td><td>2006AJ....131.1163S</td></tr>\n",
       "<tr><td>ESO   4-12</td><td>04 22 19.590</td><td>-85 22 38.98</td><td>7</td><td>7</td><td>--</td><td>--</td><td>0</td><td>C</td><td>I</td><td>2006AJ....131.1163S</td></tr>\n",
       "</table>"
      ],
      "text/plain": [
       "<Table length=100>\n",
       "  MAIN_ID         RA           DEC      ... COO_WAVELENGTH     COO_BIBCODE    \n",
       "               \"h:m:s\"       \"d:m:s\"    ...                                   \n",
       "   object       str13         str13     ...      str1             object      \n",
       "----------- ------------- ------------- ... -------------- -------------------\n",
       "ESO-HA    1 08 30 07.4083 -43 25 46.560 ...              N 2003yCat.2246....0C\n",
       "  NGC  2573 01 41 38.0117 -89 20 04.266 ...              O 2018yCat.1345....0G\n",
       "  ESO   1-2    05 04 36.8     -87 34 19 ...                1982ESO...C......0L\n",
       "  ESO   1-3  05 22 36.509  -87 50 50.02 ...              I 2006AJ....131.1163S\n",
       "  ESO   1-4 07 49 28.8195 -87 56 00.293 ...              O 2018yCat.1345....0G\n",
       "  ESO   1-5  08 53 05.006  -88 05 23.00 ...              I 2006AJ....131.1163S\n",
       "  ESO   1-6 14 27 19.4897 -87 46 19.985 ...              O 2018yCat.1345....0G\n",
       "  ESO   1-7  17 02 45.879  -88 55 01.94 ...              I 2006AJ....131.1163S\n",
       "  ESO   1-8  23 07 33.618  -89 06 59.07 ...              I 2006AJ....131.1163S\n",
       "        ...           ...           ... ...            ...                 ...\n",
       "  ESO   4-3    03 29 49.8     -87 09 41 ...                1982ESO...C......0L\n",
       "  ESO   4-4    03 42 06.1     -83 53 01 ...                1982ESO...C......0L\n",
       "  ESO   4-5  03 44 16.134  -83 09 12.17 ...              I 2006AJ....131.1163S\n",
       "  ESO   4-6    03 49 36.9     -83 57 41 ...                1982ESO...C......0L\n",
       "    IC 2051 03 52 00.7661 -83 49 50.607 ...              O 2018yCat.1345....0G\n",
       "  ESO   4-8 03 58 49.2113 -82 30 56.679 ...              O 2018yCat.1345....0G\n",
       "  ESO   4-9    03 57 53.5     -84 21 50 ...                1982ESO...C......0L\n",
       " ESO   4-10 03 59 49.1875 -84 05 37.900 ...              O 2018yCat.1345....0G\n",
       " ESO   4-11  04 00 37.201  -84 22 00.20 ...              I 2006AJ....131.1163S\n",
       " ESO   4-12  04 22 19.590  -85 22 38.98 ...              I 2006AJ....131.1163S"
      ]
     },
     "execution_count": 5,
     "metadata": {},
     "output_type": "execute_result"
    }
   ],
   "source": [
    "Simbad.ROW_LIMIT = 100\n",
    "esocat = Simbad.query_catalog('eso')\n",
    "esocat"
   ]
  },
  {
   "cell_type": "code",
   "execution_count": 6,
   "metadata": {
    "slideshow": {
     "slide_type": "slide"
    }
   },
   "outputs": [
    {
     "data": {
      "text/html": [
       "<i>Table length=100</i>\n",
       "<table id=\"table4760997408\" class=\"table-striped table-bordered table-condensed\">\n",
       "<thead><tr><th>MAIN_ID</th><th>RA</th><th>DEC</th><th>RA_PREC</th><th>DEC_PREC</th><th>COO_ERR_MAJA</th><th>COO_ERR_MINA</th><th>COO_ERR_ANGLE</th><th>COO_QUAL</th><th>COO_WAVELENGTH</th><th>COO_BIBCODE</th></tr></thead>\n",
       "<thead><tr><th></th><th>&quot;h:m:s&quot;</th><th>&quot;d:m:s&quot;</th><th></th><th></th><th>mas</th><th>mas</th><th>deg</th><th></th><th></th><th></th></tr></thead>\n",
       "<thead><tr><th>object</th><th>str13</th><th>str13</th><th>int16</th><th>int16</th><th>float32</th><th>float32</th><th>int16</th><th>str1</th><th>str1</th><th>object</th></tr></thead>\n",
       "<tr><td>NGC     1</td><td>00 07 15.8554</td><td>+27 42 29.024</td><td>14</td><td>14</td><td>3.580</td><td>3.437</td><td>90</td><td>C</td><td>O</td><td>2018yCat.1345....0G</td></tr>\n",
       "<tr><td>NGC     2</td><td>00 07 17.1152</td><td>+27 40 42.032</td><td>14</td><td>14</td><td>2.978</td><td>2.498</td><td>90</td><td>C</td><td>O</td><td>2018yCat.1345....0G</td></tr>\n",
       "<tr><td>NGC     3</td><td>00 07 16.804</td><td>+08 18 05.84</td><td>7</td><td>7</td><td>--</td><td>--</td><td>0</td><td>C</td><td>I</td><td>2006AJ....131.1163S</td></tr>\n",
       "<tr><td>NGC     4</td><td>00 07 24.4</td><td>+08 22 30</td><td>5</td><td>5</td><td>--</td><td>--</td><td>0</td><td>D</td><td>O</td><td>2003A&amp;A...412...45P</td></tr>\n",
       "<tr><td>NGC     5</td><td>00 07 48.898</td><td>+35 21 44.46</td><td>7</td><td>7</td><td>--</td><td>--</td><td>0</td><td>C</td><td>I</td><td>2006AJ....131.1163S</td></tr>\n",
       "<tr><td>NGC     7</td><td>00 08 20.3</td><td>-29 55 01</td><td>5</td><td>5</td><td>--</td><td>--</td><td>0</td><td>D</td><td>O</td><td>2003A&amp;A...412...45P</td></tr>\n",
       "<tr><td>NGC     8</td><td>00 08 45.3</td><td>+23 50 19</td><td>5</td><td>5</td><td>--</td><td>--</td><td>0</td><td>D</td><td>O</td><td>2003A&amp;A...412...45P</td></tr>\n",
       "<tr><td>NGC     9</td><td>00 08 54.713</td><td>+23 49 00.92</td><td>7</td><td>7</td><td>--</td><td>--</td><td>0</td><td>C</td><td>I</td><td>2006AJ....131.1163S</td></tr>\n",
       "<tr><td>NGC    10</td><td>00 08 34.5366</td><td>-33 51 30.188</td><td>14</td><td>14</td><td>8.780</td><td>5.359</td><td>90</td><td>C</td><td>O</td><td>2018yCat.1345....0G</td></tr>\n",
       "<tr><td>...</td><td>...</td><td>...</td><td>...</td><td>...</td><td>...</td><td>...</td><td>...</td><td>...</td><td>...</td><td>...</td></tr>\n",
       "<tr><td>NGC    89</td><td>00 21 24.355</td><td>-48 39 55.28</td><td>7</td><td>7</td><td>--</td><td>--</td><td>0</td><td>C</td><td>I</td><td>2006AJ....131.1163S</td></tr>\n",
       "<tr><td>NGC    90</td><td>00 21 51.409</td><td>+22 24 00.15</td><td>7</td><td>7</td><td>--</td><td>--</td><td>0</td><td>C</td><td>I</td><td>2006AJ....131.1163S</td></tr>\n",
       "<tr><td>UCAC2  39602310</td><td>00 21 51.6259</td><td>+22 22 05.616</td><td>14</td><td>14</td><td>0.030</td><td>0.041</td><td>90</td><td>A</td><td>O</td><td>2018yCat.1345....0G</td></tr>\n",
       "<tr><td>NGC    92</td><td>00 21 31.713</td><td>-48 37 29.23</td><td>7</td><td>7</td><td>--</td><td>--</td><td>0</td><td>C</td><td>I</td><td>2006AJ....131.1163S</td></tr>\n",
       "<tr><td>NGC    93</td><td>00 22 03.2289</td><td>+22 24 29.188</td><td>14</td><td>14</td><td>50.459</td><td>11.111</td><td>90</td><td>C</td><td>O</td><td>2018yCat.1345....0G</td></tr>\n",
       "<tr><td>NGC    94</td><td>00 22 13.5333</td><td>+22 28 58.853</td><td>14</td><td>14</td><td>2.545</td><td>2.146</td><td>90</td><td>C</td><td>O</td><td>2018yCat.1345....0G</td></tr>\n",
       "<tr><td>NGC    95</td><td>00 22 13.5413</td><td>+10 29 29.703</td><td>14</td><td>14</td><td>2.820</td><td>1.446</td><td>90</td><td>C</td><td>O</td><td>2018yCat.1345....0G</td></tr>\n",
       "<tr><td>NGC    96</td><td>00 22 17.7201</td><td>+22 32 46.707</td><td>14</td><td>14</td><td>2.547</td><td>2.440</td><td>90</td><td>C</td><td>O</td><td>2018yCat.1345....0G</td></tr>\n",
       "<tr><td>NGC    97</td><td>00 22 30.0163</td><td>+29 44 43.124</td><td>14</td><td>14</td><td>5.674</td><td>8.794</td><td>90</td><td>C</td><td>O</td><td>2018yCat.1345....0G</td></tr>\n",
       "<tr><td>NGC    98</td><td>00 22 49.5591</td><td>-45 16 08.600</td><td>14</td><td>14</td><td>1.885</td><td>2.786</td><td>90</td><td>C</td><td>O</td><td>2018yCat.1345....0G</td></tr>\n",
       "</table>"
      ],
      "text/plain": [
       "<Table length=100>\n",
       "    MAIN_ID           RA      ... COO_WAVELENGTH     COO_BIBCODE    \n",
       "                   \"h:m:s\"    ...                                   \n",
       "     object         str13     ...      str1             object      \n",
       "--------------- ------------- ... -------------- -------------------\n",
       "      NGC     1 00 07 15.8554 ...              O 2018yCat.1345....0G\n",
       "      NGC     2 00 07 17.1152 ...              O 2018yCat.1345....0G\n",
       "      NGC     3  00 07 16.804 ...              I 2006AJ....131.1163S\n",
       "      NGC     4    00 07 24.4 ...              O 2003A&A...412...45P\n",
       "      NGC     5  00 07 48.898 ...              I 2006AJ....131.1163S\n",
       "      NGC     7    00 08 20.3 ...              O 2003A&A...412...45P\n",
       "      NGC     8    00 08 45.3 ...              O 2003A&A...412...45P\n",
       "      NGC     9  00 08 54.713 ...              I 2006AJ....131.1163S\n",
       "      NGC    10 00 08 34.5366 ...              O 2018yCat.1345....0G\n",
       "            ...           ... ...            ...                 ...\n",
       "      NGC    89  00 21 24.355 ...              I 2006AJ....131.1163S\n",
       "      NGC    90  00 21 51.409 ...              I 2006AJ....131.1163S\n",
       "UCAC2  39602310 00 21 51.6259 ...              O 2018yCat.1345....0G\n",
       "      NGC    92  00 21 31.713 ...              I 2006AJ....131.1163S\n",
       "      NGC    93 00 22 03.2289 ...              O 2018yCat.1345....0G\n",
       "      NGC    94 00 22 13.5333 ...              O 2018yCat.1345....0G\n",
       "      NGC    95 00 22 13.5413 ...              O 2018yCat.1345....0G\n",
       "      NGC    96 00 22 17.7201 ...              O 2018yCat.1345....0G\n",
       "      NGC    97 00 22 30.0163 ...              O 2018yCat.1345....0G\n",
       "      NGC    98 00 22 49.5591 ...              O 2018yCat.1345....0G"
      ]
     },
     "execution_count": 6,
     "metadata": {},
     "output_type": "execute_result"
    }
   ],
   "source": [
    "ngccat = Simbad.query_catalog('ngc')\n",
    "ngccat"
   ]
  },
  {
   "cell_type": "markdown",
   "metadata": {
    "slideshow": {
     "slide_type": "slide"
    }
   },
   "source": [
    "### Querying sources from publications\n",
    "\n",
    "In SIMBAD, you can also query a publication to find the sources"
   ]
  },
  {
   "cell_type": "code",
   "execution_count": 7,
   "metadata": {},
   "outputs": [
    {
     "data": {
      "text/html": [
       "<i>Table length=14</i>\n",
       "<table id=\"table4764120496\" class=\"table-striped table-bordered table-condensed\">\n",
       "<thead><tr><th>MAIN_ID</th><th>RA</th><th>DEC</th><th>RA_PREC</th><th>DEC_PREC</th><th>COO_ERR_MAJA</th><th>COO_ERR_MINA</th><th>COO_ERR_ANGLE</th><th>COO_QUAL</th><th>COO_WAVELENGTH</th><th>COO_BIBCODE</th></tr></thead>\n",
       "<thead><tr><th></th><th>&quot;h:m:s&quot;</th><th>&quot;d:m:s&quot;</th><th></th><th></th><th>mas</th><th>mas</th><th>deg</th><th></th><th></th><th></th></tr></thead>\n",
       "<thead><tr><th>object</th><th>str13</th><th>str13</th><th>int16</th><th>int16</th><th>float32</th><th>float32</th><th>int16</th><th>str1</th><th>str1</th><th>object</th></tr></thead>\n",
       "<tr><td>M  31</td><td>00 42 44.330</td><td>+41 16 07.50</td><td>7</td><td>7</td><td>--</td><td>--</td><td>0</td><td>C</td><td>I</td><td>2006AJ....131.1163S</td></tr>\n",
       "<tr><td>[NYR2002] S167-54-21.5</td><td>02 28</td><td>+00.0</td><td>2</td><td>2</td><td>--</td><td>--</td><td>0</td><td>E</td><td></td><td></td></tr>\n",
       "<tr><td>[NYR2002] S200-24-19.8</td><td>05 03</td><td>+00.0</td><td>2</td><td>2</td><td>--</td><td>--</td><td>0</td><td>E</td><td></td><td></td></tr>\n",
       "<tr><td>[NYR2002] S183+22-19.4</td><td>07 26</td><td>+36.0</td><td>2</td><td>2</td><td>--</td><td>--</td><td>0</td><td>E</td><td></td><td></td></tr>\n",
       "<tr><td>[NYR2002] S218+22-19.5</td><td>08 19</td><td>+06.0</td><td>2</td><td>2</td><td>--</td><td>--</td><td>0</td><td>E</td><td></td><td></td></tr>\n",
       "<tr><td>[NYR2002] S223+20-19.4</td><td>08 21</td><td>+01.0</td><td>2</td><td>2</td><td>--</td><td>--</td><td>0</td><td>E</td><td></td><td></td></tr>\n",
       "<tr><td>[NYR2002] S297+63-20.5</td><td>12 41</td><td>+00.0</td><td>2</td><td>2</td><td>--</td><td>--</td><td>0</td><td>E</td><td></td><td></td></tr>\n",
       "<tr><td>[NYR2002] S006+41-20.0</td><td>14 01</td><td>+08.0</td><td>2</td><td>2</td><td>--</td><td>--</td><td>0</td><td>E</td><td></td><td></td></tr>\n",
       "<tr><td>[NYR2002] S341+57-22.5</td><td>14 10</td><td>+00.0</td><td>2</td><td>2</td><td>--</td><td>--</td><td>0</td><td>E</td><td></td><td></td></tr>\n",
       "<tr><td>NAME Serpens Dwarf</td><td>15 16 05.30</td><td>-00 06 41.0</td><td>6</td><td>6</td><td>--</td><td>--</td><td>0</td><td>D</td><td></td><td>2006MNRAS.365.1357D</td></tr>\n",
       "<tr><td>NAME Gal Center</td><td>17 45 40.04</td><td>-29 00 28.1</td><td>6</td><td>6</td><td>--</td><td>--</td><td>0</td><td>E</td><td></td><td></td></tr>\n",
       "<tr><td>NAME SDG</td><td>18 55 03.1</td><td>-30 28 42</td><td>5</td><td>5</td><td>--</td><td>--</td><td>0</td><td>D</td><td></td><td>2004AJ....127.2031K</td></tr>\n",
       "<tr><td>[NYR2002] S052-32-20.4</td><td>21 18</td><td>+00.0</td><td>2</td><td>2</td><td>--</td><td>--</td><td>0</td><td>E</td><td></td><td></td></tr>\n",
       "<tr><td>NAME Galactic Bulge</td><td></td><td></td><td>0</td><td>0</td><td>--</td><td>--</td><td>0</td><td></td><td></td><td></td></tr>\n",
       "</table>"
      ],
      "text/plain": [
       "<Table length=14>\n",
       "       MAIN_ID              RA      ... COO_WAVELENGTH     COO_BIBCODE    \n",
       "                         \"h:m:s\"    ...                                   \n",
       "        object            str13     ...      str1             object      \n",
       "---------------------- ------------ ... -------------- -------------------\n",
       "                 M  31 00 42 44.330 ...              I 2006AJ....131.1163S\n",
       "[NYR2002] S167-54-21.5        02 28 ...                                   \n",
       "[NYR2002] S200-24-19.8        05 03 ...                                   \n",
       "[NYR2002] S183+22-19.4        07 26 ...                                   \n",
       "[NYR2002] S218+22-19.5        08 19 ...                                   \n",
       "[NYR2002] S223+20-19.4        08 21 ...                                   \n",
       "[NYR2002] S297+63-20.5        12 41 ...                                   \n",
       "[NYR2002] S006+41-20.0        14 01 ...                                   \n",
       "[NYR2002] S341+57-22.5        14 10 ...                                   \n",
       "    NAME Serpens Dwarf  15 16 05.30 ...                2006MNRAS.365.1357D\n",
       "       NAME Gal Center  17 45 40.04 ...                                   \n",
       "              NAME SDG   18 55 03.1 ...                2004AJ....127.2031K\n",
       "[NYR2002] S052-32-20.4        21 18 ...                                   \n",
       "   NAME Galactic Bulge              ...                                   "
      ]
     },
     "execution_count": 7,
     "metadata": {},
     "output_type": "execute_result"
    }
   ],
   "source": [
    "newberg2002 = Simbad.query_bibobj('2002ApJ...569..245N')\n",
    "newberg2002"
   ]
  },
  {
   "cell_type": "markdown",
   "metadata": {
    "slideshow": {
     "slide_type": "slide"
    }
   },
   "source": [
    "Finally, you can modify the default parameters of the query tool, such as the `TIMEOUT` (the maximum wait time before deciding the query has failed) and the `ROW_LIMIT` (the maximum number of entries returned) by creating a new object.  You can also tell SIMBAD to return additional information, e.g. the number of citations for each object."
   ]
  },
  {
   "cell_type": "code",
   "execution_count": 8,
   "metadata": {
    "slideshow": {
     "slide_type": "-"
    }
   },
   "outputs": [
    {
     "data": {
      "text/html": [
       "<i>Table length=14</i>\n",
       "<table id=\"table4765339120\" class=\"table-striped table-bordered table-condensed\">\n",
       "<thead><tr><th>MAIN_ID</th><th>RA</th><th>DEC</th><th>RA_PREC</th><th>DEC_PREC</th><th>COO_ERR_MAJA</th><th>COO_ERR_MINA</th><th>COO_ERR_ANGLE</th><th>COO_QUAL</th><th>COO_WAVELENGTH</th><th>COO_BIBCODE</th><th>BIBLIST_1800_2014</th></tr></thead>\n",
       "<thead><tr><th></th><th>&quot;h:m:s&quot;</th><th>&quot;d:m:s&quot;</th><th></th><th></th><th>mas</th><th>mas</th><th>deg</th><th></th><th></th><th></th><th></th></tr></thead>\n",
       "<thead><tr><th>object</th><th>str13</th><th>str13</th><th>int16</th><th>int16</th><th>float32</th><th>float32</th><th>int16</th><th>str1</th><th>str1</th><th>object</th><th>int32</th></tr></thead>\n",
       "<tr><td>M  31</td><td>00 42 44.330</td><td>+41 16 07.50</td><td>7</td><td>7</td><td>--</td><td>--</td><td>0</td><td>C</td><td>I</td><td>2006AJ....131.1163S</td><td>8389</td></tr>\n",
       "<tr><td>[NYR2002] S167-54-21.5</td><td>02 28</td><td>+00.0</td><td>2</td><td>2</td><td>--</td><td>--</td><td>0</td><td>E</td><td></td><td></td><td>8</td></tr>\n",
       "<tr><td>[NYR2002] S200-24-19.8</td><td>05 03</td><td>+00.0</td><td>2</td><td>2</td><td>--</td><td>--</td><td>0</td><td>E</td><td></td><td></td><td>4</td></tr>\n",
       "<tr><td>[NYR2002] S183+22-19.4</td><td>07 26</td><td>+36.0</td><td>2</td><td>2</td><td>--</td><td>--</td><td>0</td><td>E</td><td></td><td></td><td>3</td></tr>\n",
       "<tr><td>[NYR2002] S218+22-19.5</td><td>08 19</td><td>+06.0</td><td>2</td><td>2</td><td>--</td><td>--</td><td>0</td><td>E</td><td></td><td></td><td>3</td></tr>\n",
       "<tr><td>[NYR2002] S223+20-19.4</td><td>08 21</td><td>+01.0</td><td>2</td><td>2</td><td>--</td><td>--</td><td>0</td><td>E</td><td></td><td></td><td>6</td></tr>\n",
       "<tr><td>[NYR2002] S297+63-20.5</td><td>12 41</td><td>+00.0</td><td>2</td><td>2</td><td>--</td><td>--</td><td>0</td><td>E</td><td></td><td></td><td>14</td></tr>\n",
       "<tr><td>[NYR2002] S006+41-20.0</td><td>14 01</td><td>+08.0</td><td>2</td><td>2</td><td>--</td><td>--</td><td>0</td><td>E</td><td></td><td></td><td>2</td></tr>\n",
       "<tr><td>[NYR2002] S341+57-22.5</td><td>14 10</td><td>+00.0</td><td>2</td><td>2</td><td>--</td><td>--</td><td>0</td><td>E</td><td></td><td></td><td>6</td></tr>\n",
       "<tr><td>NAME Serpens Dwarf</td><td>15 16 05.30</td><td>-00 06 41.0</td><td>6</td><td>6</td><td>--</td><td>--</td><td>0</td><td>D</td><td></td><td>2006MNRAS.365.1357D</td><td>450</td></tr>\n",
       "<tr><td>NAME Gal Center</td><td>17 45 40.04</td><td>-29 00 28.1</td><td>6</td><td>6</td><td>--</td><td>--</td><td>0</td><td>E</td><td></td><td></td><td>7612</td></tr>\n",
       "<tr><td>NAME SDG</td><td>18 55 03.1</td><td>-30 28 42</td><td>5</td><td>5</td><td>--</td><td>--</td><td>0</td><td>D</td><td></td><td>2004AJ....127.2031K</td><td>1205</td></tr>\n",
       "<tr><td>[NYR2002] S052-32-20.4</td><td>21 18</td><td>+00.0</td><td>2</td><td>2</td><td>--</td><td>--</td><td>0</td><td>E</td><td></td><td></td><td>2</td></tr>\n",
       "<tr><td>NAME Galactic Bulge</td><td></td><td></td><td>0</td><td>0</td><td>--</td><td>--</td><td>0</td><td></td><td></td><td></td><td>2143</td></tr>\n",
       "</table>"
      ],
      "text/plain": [
       "<Table length=14>\n",
       "       MAIN_ID              RA      ...     COO_BIBCODE     BIBLIST_1800_2014\n",
       "                         \"h:m:s\"    ...                                      \n",
       "        object            str13     ...        object             int32      \n",
       "---------------------- ------------ ... ------------------- -----------------\n",
       "                 M  31 00 42 44.330 ... 2006AJ....131.1163S              8389\n",
       "[NYR2002] S167-54-21.5        02 28 ...                                     8\n",
       "[NYR2002] S200-24-19.8        05 03 ...                                     4\n",
       "[NYR2002] S183+22-19.4        07 26 ...                                     3\n",
       "[NYR2002] S218+22-19.5        08 19 ...                                     3\n",
       "[NYR2002] S223+20-19.4        08 21 ...                                     6\n",
       "[NYR2002] S297+63-20.5        12 41 ...                                    14\n",
       "[NYR2002] S006+41-20.0        14 01 ...                                     2\n",
       "[NYR2002] S341+57-22.5        14 10 ...                                     6\n",
       "    NAME Serpens Dwarf  15 16 05.30 ... 2006MNRAS.365.1357D               450\n",
       "       NAME Gal Center  17 45 40.04 ...                                  7612\n",
       "              NAME SDG   18 55 03.1 ... 2004AJ....127.2031K              1205\n",
       "[NYR2002] S052-32-20.4        21 18 ...                                     2\n",
       "   NAME Galactic Bulge              ...                                  2143"
      ]
     },
     "execution_count": 8,
     "metadata": {},
     "output_type": "execute_result"
    }
   ],
   "source": [
    "customSimbad = Simbad()\n",
    "customSimbad.ROW_LIMIT = 100\n",
    "customSimbad.add_votable_fields('bibcodelist(1800-2014)')\n",
    "\n",
    "# bibcodelist(date1-date2) lists the number of bibliography\n",
    "# items referring to each object over that date range\n",
    "newberg2002 = customSimbad.query_bibobj('2002ApJ...569..245N')\n",
    "newberg2002"
   ]
  },
  {
   "cell_type": "markdown",
   "metadata": {
    "slideshow": {
     "slide_type": "slide"
    }
   },
   "source": [
    "## More than just catalogs\n",
    "There are archive query services that return images, spectra, instrument information, and metadata in addition to catalogs."
   ]
  },
  {
   "cell_type": "markdown",
   "metadata": {
    "slideshow": {
     "slide_type": "slide"
    }
   },
   "source": [
    "### Example: ESO archive\n",
    "\n",
    "The ESO service has the following methods:\n",
    "\n",
    " * `list_instruments` to list the available instruments that can be queried\n",
    " * `list_surveys` lists the available large public surveys\n",
    " * `query_instrument` queries for data sets from a specific instrument\n",
    " * `query_surveys` does the same for surveys\n",
    " * `get_headers` gets header information for any datasets listed from a previous query\n",
    " * `login` logs you in with your username, which is *required* for *any* data retrieval (even public data)\n",
    " * `retrieve_datasets` or (deprecated) `data_retrieval` allows you to stage *and* download any data set your username is allowed to access\n",
    " \n",
    "Queries are cached, so repeating them should be fast.  Downloaded data is also cached to the `Eso.cache_location`"
   ]
  },
  {
   "cell_type": "code",
   "execution_count": 9,
   "metadata": {
    "slideshow": {
     "slide_type": "slide"
    }
   },
   "outputs": [],
   "source": [
    "from astroquery.eso import Eso"
   ]
  },
  {
   "cell_type": "code",
   "execution_count": 10,
   "metadata": {
    "slideshow": {
     "slide_type": "-"
    }
   },
   "outputs": [
    {
     "data": {
      "text/plain": [
       "['fors1',\n",
       " 'fors2',\n",
       " 'sphere',\n",
       " 'vimos',\n",
       " 'omegacam',\n",
       " 'hawki',\n",
       " 'isaac',\n",
       " 'naco',\n",
       " 'visir',\n",
       " 'vircam',\n",
       " 'apex',\n",
       " 'giraffe',\n",
       " 'uves',\n",
       " 'xshooter',\n",
       " 'espresso',\n",
       " 'muse',\n",
       " 'crires',\n",
       " 'kmos',\n",
       " 'sinfoni',\n",
       " 'amber',\n",
       " 'gravity',\n",
       " 'matisse',\n",
       " 'midi',\n",
       " 'pionier',\n",
       " 'wlgsu']"
      ]
     },
     "execution_count": 10,
     "metadata": {},
     "output_type": "execute_result"
    }
   ],
   "source": [
    "Eso.list_instruments()"
   ]
  },
  {
   "cell_type": "markdown",
   "metadata": {
    "slideshow": {
     "slide_type": "slide"
    }
   },
   "source": [
    "In order to figure out how to construct a query, you can open the form directly"
   ]
  },
  {
   "cell_type": "code",
   "execution_count": 11,
   "metadata": {
    "slideshow": {
     "slide_type": "-"
    }
   },
   "outputs": [],
   "source": [
    "Eso.query_instrument('kmos', open_form=True)"
   ]
  },
  {
   "cell_type": "markdown",
   "metadata": {
    "slideshow": {
     "slide_type": "-"
    }
   },
   "source": [
    "or use the ``help`` keyword.  The printout will then show what keywords correspond to each form name.  For example, the keyword ``pi_coi`` corresponds to the form box ``PI/CoI Name``."
   ]
  },
  {
   "cell_type": "code",
   "execution_count": 12,
   "metadata": {
    "slideshow": {
     "slide_type": "-"
    }
   },
   "outputs": [
    {
     "name": "stdout",
     "output_type": "stream",
     "text": [
      "INFO: List of accepted column_filters parameters. [astroquery.eso.core]\n",
      "INFO: The presence of a column in the result table can be controlled if prefixed with a [ ] checkbox. [astroquery.eso.core]\n",
      "INFO: The default columns in the result table are shown as already ticked: [x]. [astroquery.eso.core]\n",
      "\n",
      "Target Information\n",
      "------------------\n",
      "    target: \n",
      "    resolver: simbad (SIMBAD name), ned (NED name), none (OBJECT as specified by the observer)\n",
      "    coord_sys: eq (Equatorial (FK5)), gal (Galactic)\n",
      "    coord1: \n",
      "    coord2: \n",
      "    box: \n",
      "    format: sexagesimal (Sexagesimal), decimal (Decimal)\n",
      "[x] wdb_input_file: \n",
      "\n",
      "Observation and proposal parameters\n",
      "-----------------------------------\n",
      "[ ] night: \n",
      "    stime: \n",
      "    starttime: 00 (00 hrs [UT]), 01 (01 hrs [UT]), 02 (02 hrs [UT]), 03 (03 hrs [UT]), 04 (04 hrs [UT]), 05 (05 hrs [UT]), 06 (06 hrs [UT]), 07 (07 hrs [UT]), 08 (08 hrs [UT]), 09 (09 hrs [UT]), 10 (10 hrs [UT]), 11 (11 hrs [UT]), 12 (12 hrs [UT]), 13 (13 hrs [UT]), 14 (14 hrs [UT]), 15 (15 hrs [UT]), 16 (16 hrs [UT]), 17 (17 hrs [UT]), 18 (18 hrs [UT]), 19 (19 hrs [UT]), 20 (20 hrs [UT]), 21 (21 hrs [UT]), 22 (22 hrs [UT]), 23 (23 hrs [UT]), 24 (24 hrs [UT])\n",
      "    etime: \n",
      "    endtime: 00 (00 hrs [UT]), 01 (01 hrs [UT]), 02 (02 hrs [UT]), 03 (03 hrs [UT]), 04 (04 hrs [UT]), 05 (05 hrs [UT]), 06 (06 hrs [UT]), 07 (07 hrs [UT]), 08 (08 hrs [UT]), 09 (09 hrs [UT]), 10 (10 hrs [UT]), 11 (11 hrs [UT]), 12 (12 hrs [UT]), 13 (13 hrs [UT]), 14 (14 hrs [UT]), 15 (15 hrs [UT]), 16 (16 hrs [UT]), 17 (17 hrs [UT]), 18 (18 hrs [UT]), 19 (19 hrs [UT]), 20 (20 hrs [UT]), 21 (21 hrs [UT]), 22 (22 hrs [UT]), 23 (23 hrs [UT]), 24 (24 hrs [UT])\n",
      "[x] prog_id: \n",
      "[ ] prog_type: % (Any), 0 (Normal), 1 (GTO), 2 (DDT), 3 (ToO), 4 (Large), 5 (Short), 6 (Calibration)\n",
      "[ ] obs_mode: % (All modes), s (Service), v (Visitor)\n",
      "[ ] pi_coi: \n",
      "    pi_coi_name: PI_only (as PI only), none (as PI or CoI)\n",
      "[ ] prog_title: \n",
      "\n",
      "Generic File Information\n",
      "------------------------\n",
      "[x] dp_id: \n",
      "[x] ob_id: \n",
      "[x] obs_targ_name: \n",
      "[x] exptime: \n",
      "[x] dp_cat: % (Any), ACQUISITION (ACQUISITION), CALIB (CALIB), SCIENCE (SCIENCE)\n",
      "[x] dp_type: % (Any), DARK (DARK), FLAT% (FLAT), FLAT,LAMP (FLAT,LAMP), FLAT,OFF (FLAT,OFF), FLAT,SKY (FLAT,SKY), OBJECT (OBJECT), OBJECT,SKY (OBJECT,SKY), OBJECT,SKY,STD,FLUX (OBJECT,SKY,STD,FLUX), SKY (SKY), WAVE,LAMP (WAVE,LAMP), WAVE,OFF (WAVE,OFF)\n",
      "    dp_type_user: \n",
      "[x] dp_tech: % (Any), IFU (IFU), IMAGE (IMAGE), SPECTRUM (SPECTRUM)\n",
      "    dp_tech_user: \n",
      "[ ] tpl_id: \n",
      "[x] tpl_start: \n",
      "[ ] tpl_nexp: \n",
      "[ ] tpl_expno: \n",
      "[ ] obs_tplno: \n",
      "\n",
      "Specific Instrument Information\n",
      "-------------------------------\n",
      "[x] ins_grat1_name: % (Any), IZ% (IZ), YJ% (YJ), H% (H), K% (K), HK% (HK)\n",
      "[x] ins_filt1_name: % (Any), IZ% (IZ), YJ% (YJ), H% (H), K% (K), HK% (HK)\n",
      "[x] ins_lamp1_name: \n",
      "[x] ins_lamp2_name: \n",
      "[x] ins_lamp3_name: \n",
      "[x] det_seq1_dit: \n",
      "[x] det_ndit: \n",
      "\n",
      "Ambient Parameters\n",
      "------------------\n",
      "[x] fwhm_avg: \n",
      "[ ] airmass_range: \n",
      "[ ] night_flag: % (Any), 0 (Night), 1 (Twilight), 2 (Daytime)\n",
      "[ ] moon_illu: \n",
      "\n",
      "Result set\n",
      "----------\n",
      "    order:  (nothing (faster)), dp_id (Observation Time), dp_cat (DPR.CATG), dp_tech (DPR.TECH), tpl_start (TPL.START), ob_id asc (OB.ID (ascending)), ob_id desc (OB.ID (descending)), period asc,prog_id asc (Period and Run ID (earliest first)), period desc,prog_id desc (Period and Run ID (latest first))\n"
     ]
    }
   ],
   "source": [
    "Eso.query_instrument('kmos', help=True)"
   ]
  },
  {
   "cell_type": "code",
   "execution_count": 13,
   "metadata": {
    "slideshow": {
     "slide_type": "slide"
    }
   },
   "outputs": [
    {
     "data": {
      "text/html": [
       "<i>Table length=50</i>\n",
       "<table id=\"table4768953344\" class=\"table-striped table-bordered table-condensed\">\n",
       "<thead><tr><th>Release Date</th><th>Object</th><th>RA</th><th>DEC</th><th>Target Ra Dec</th><th>Target l b</th><th>ProgId</th><th>DP.ID</th><th>OB.ID</th><th>OBS.TARG.NAME</th><th>EXPTIME</th><th>DPR.CATG</th><th>DPR.TYPE</th><th>DPR.TECH</th><th>INS MODE</th><th>SEQ.ARM</th><th>DET.READ.CLOCK</th><th>INS.FILT1.NAME</th><th>INS.OPTI2.NAME</th><th>INS.OPTI3.NAME</th><th>INS.OPTI4.NAME</th><th>INS.OPTI5.NAME</th><th>DIMM Seeing-avg</th></tr></thead>\n",
       "<thead><tr><th>str10</th><th>str8</th><th>float64</th><th>float64</th><th>str23</th><th>str21</th><th>str13</th><th>str29</th><th>int64</th><th>str22</th><th>float64</th><th>str11</th><th>str8</th><th>str20</th><th>str8</th><th>str3</th><th>str20</th><th>str1</th><th>str4</th><th>str7</th><th>str7</th><th>str7</th><th>str11</th></tr></thead>\n",
       "<tr><td>2016-01-28</td><td>LAMP,AFC</td><td>167.009583</td><td>-76.67619</td><td>11:08:02.30 -76:40:34.3</td><td>296.960415 -15.018610</td><td>096.C-0979(A)</td><td>XSHOO.2016-01-28T05:58:34.628</td><td>1261417</td><td>LM717</td><td>2.0</td><td>CALIB</td><td>LAMP,AFC</td><td>ECHELLE</td><td>CALIB</td><td>NIR</td><td>--</td><td>--</td><td>SLOT</td><td>Pin_0.5</td><td>Pin_0.5</td><td>Pin_0.5</td><td>0.90 [0.01]</td></tr>\n",
       "<tr><td>2016-01-28</td><td>LAMP,AFC</td><td>167.009583</td><td>-76.67619</td><td>11:08:02.30 -76:40:34.3</td><td>296.960415 -15.018610</td><td>096.C-0979(A)</td><td>XSHOO.2016-01-28T05:59:04.026</td><td>1261417</td><td>LM717</td><td>1.0</td><td>CALIB</td><td>LAMP,AFC</td><td>ECHELLE</td><td>CALIB</td><td>VIS</td><td>400k/1pt/lg/AFC</td><td>--</td><td>PIN</td><td>5.0x11</td><td>5.0x11</td><td>5.0x11</td><td>0.90 [0.01]</td></tr>\n",
       "<tr><td>2016-01-28</td><td>OBJECT</td><td>167.010573</td><td>-76.67625</td><td>11:08:02.54 -76:40:34.5</td><td>296.960657 -15.018573</td><td>096.C-0979(A)</td><td>XSHOO.2016-01-28T06:02:27.308</td><td>1261417</td><td>LM717</td><td>15.0</td><td>ACQUISITION</td><td>OBJECT</td><td>IMAGE</td><td>IMAG</td><td>AGC</td><td>acetecE2V57I_ENG.clk</td><td>V</td><td>MIR</td><td>5.0x11</td><td>5.0x11</td><td>5.0x11</td><td>0.93 [0.01]</td></tr>\n",
       "<tr><td>2016-01-28</td><td>LAMP,AFC</td><td>167.009583</td><td>-76.67619</td><td>11:08:02.30 -76:40:34.3</td><td>296.960415 -15.018610</td><td>096.C-0979(A)</td><td>XSHOO.2016-01-28T05:59:03.842</td><td>1261417</td><td>LM717</td><td>2.0</td><td>CALIB</td><td>LAMP,AFC</td><td>ECHELLE</td><td>CALIB</td><td>NIR</td><td>--</td><td>--</td><td>PIN</td><td>5.0x11</td><td>5.0x11</td><td>5.0x11</td><td>0.90 [0.01]</td></tr>\n",
       "<tr><td>2016-01-28</td><td>LAMP,AFC</td><td>241.460833</td><td>-25.55378</td><td>16:05:50.60 -25:33:13.6</td><td>348.826268 19.528763</td><td>096.C-0979(A)</td><td>XSHOO.2016-01-28T09:03:47.852</td><td>1261387</td><td>PZ99J160550.5-2533</td><td>5.0</td><td>CALIB</td><td>LAMP,AFC</td><td>ECHELLE</td><td>CALIB</td><td>UVB</td><td>400k/1pt/lg/AFC</td><td>--</td><td>SLOT</td><td>Pin_0.5</td><td>Pin_0.5</td><td>Pin_0.5</td><td>1.30 [0.63]</td></tr>\n",
       "<tr><td>2016-01-28</td><td>LAMP,AFC</td><td>241.460833</td><td>-25.55378</td><td>16:05:50.60 -25:33:13.6</td><td>348.826268 19.528763</td><td>096.C-0979(A)</td><td>XSHOO.2016-01-28T09:04:17.059</td><td>1261387</td><td>PZ99J160550.5-2533</td><td>1.0</td><td>CALIB</td><td>LAMP,AFC</td><td>ECHELLE</td><td>CALIB</td><td>VIS</td><td>400k/1pt/lg/AFC</td><td>--</td><td>PIN</td><td>5.0x11</td><td>5.0x11</td><td>5.0x11</td><td>1.30 [0.63]</td></tr>\n",
       "<tr><td>2017-08-08</td><td>OBJECT</td><td>241.072175</td><td>-19.70769</td><td>16:04:17.32 -19:42:27.7</td><td>353.067645 23.863089</td><td>097.C-0378(A)</td><td>XSHOO.2016-08-07T23:52:45.367</td><td>1318219</td><td>2MASSJ16041740-1942287</td><td>4.0</td><td>ACQUISITION</td><td>OBJECT</td><td>IMAGE</td><td>IMAG</td><td>AGC</td><td>acetecE2V57I_ENG.clk</td><td>V</td><td>MIR</td><td>5.0x11</td><td>5.0x11</td><td>5.0x11</td><td>0.99 [0.01]</td></tr>\n",
       "<tr><td>2016-08-07</td><td>LAMP,AFC</td><td>241.072496</td><td>-19.70797</td><td>16:04:17.40 -19:42:28.7</td><td>353.067650 23.862677</td><td>097.C-0378(A)</td><td>XSHOO.2016-08-07T23:48:34.309</td><td>1318219</td><td>2MASSJ16041740-1942287</td><td>5.0</td><td>CALIB</td><td>LAMP,AFC</td><td>ECHELLE</td><td>CALIB</td><td>UVB</td><td>400k/1pt/lg/AFC</td><td>--</td><td>SLOT</td><td>Pin_0.5</td><td>Pin_0.5</td><td>Pin_0.5</td><td>N/A</td></tr>\n",
       "<tr><td>2016-08-07</td><td>LAMP,AFC</td><td>241.072496</td><td>-19.70797</td><td>16:04:17.40 -19:42:28.7</td><td>353.067650 23.862677</td><td>097.C-0378(A)</td><td>XSHOO.2016-08-07T23:48:35.117</td><td>1318219</td><td>2MASSJ16041740-1942287</td><td>2.0</td><td>CALIB</td><td>LAMP,AFC</td><td>ECHELLE</td><td>CALIB</td><td>NIR</td><td>--</td><td>--</td><td>SLOT</td><td>Pin_0.5</td><td>Pin_0.5</td><td>Pin_0.5</td><td>N/A</td></tr>\n",
       "<tr><td>2016-08-07</td><td>LAMP,AFC</td><td>241.072496</td><td>-19.70797</td><td>16:04:17.40 -19:42:28.7</td><td>353.067650 23.862677</td><td>097.C-0378(A)</td><td>XSHOO.2016-08-07T23:49:03.663</td><td>1318219</td><td>2MASSJ16041740-1942287</td><td>2.0</td><td>CALIB</td><td>LAMP,AFC</td><td>ECHELLE</td><td>CALIB</td><td>NIR</td><td>--</td><td>--</td><td>PIN</td><td>5.0x11</td><td>5.0x11</td><td>5.0x11</td><td>N/A</td></tr>\n",
       "<tr><td>...</td><td>...</td><td>...</td><td>...</td><td>...</td><td>...</td><td>...</td><td>...</td><td>...</td><td>...</td><td>...</td><td>...</td><td>...</td><td>...</td><td>...</td><td>...</td><td>...</td><td>...</td><td>...</td><td>...</td><td>...</td><td>...</td><td>...</td></tr>\n",
       "<tr><td>2013-03-08</td><td>OM-3125</td><td>83.840953</td><td>-5.57978</td><td>05:35:21.83 -05:34:47.2</td><td>209.201195 -19.450099</td><td>288.C-5038(A)</td><td>XSHOO.2012-03-07T01:24:01.322</td><td>729631</td><td>OM-3125</td><td>300.0</td><td>SCIENCE</td><td>OBJECT</td><td>ECHELLE,SLIT,NODDING</td><td>SLITSPEC</td><td>UVB</td><td>100k/1pt/hg</td><td>V</td><td>SLOT</td><td>0.5x11</td><td>0.4x11</td><td>0.4x11</td><td>1.07 [0.29]</td></tr>\n",
       "<tr><td>2012-03-07</td><td>LAMP,AFC</td><td>83.840363</td><td>-5.57969</td><td>05:35:21.69 -05:34:46.9</td><td>209.200829 -19.450582</td><td>288.C-5038(A)</td><td>XSHOO.2012-03-07T01:19:28.460</td><td>729631</td><td>OM-3125</td><td>10.0</td><td>CALIB</td><td>LAMP,AFC</td><td>ECHELLE</td><td>CALIB</td><td>UVB</td><td>400k/1pt/lg/AFC</td><td>U</td><td>PIN</td><td>5.0x11</td><td>5.0x11</td><td>5.0x11</td><td>1.21 [0.51]</td></tr>\n",
       "<tr><td>2013-03-08</td><td>OM-3125</td><td>83.839823</td><td>-5.57897</td><td>05:35:21.56 -05:34:44.3</td><td>209.199891 -19.450737</td><td>288.C-5038(A)</td><td>XSHOO.2012-03-07T01:32:01.407</td><td>729631</td><td>OM-3125</td><td>150.0</td><td>SCIENCE</td><td>OBJECT</td><td>ECHELLE,SLIT,NODDING</td><td>SLITSPEC</td><td>NIR</td><td>--</td><td>V</td><td>SLOT</td><td>0.5x11</td><td>0.4x11</td><td>0.4x11</td><td>1.35 [0.70]</td></tr>\n",
       "<tr><td>2013-03-08</td><td>OBJECT</td><td>83.840388</td><td>-5.57937</td><td>05:35:21.69 -05:34:45.7</td><td>209.200538 -19.450416</td><td>288.C-5038(A)</td><td>XSHOO.2012-03-07T01:23:08.218</td><td>729631</td><td>OM-3125</td><td>3.0</td><td>ACQUISITION</td><td>OBJECT</td><td>IMAGE</td><td>IMAG</td><td>--</td><td>acetecE2V57I_ENG.clk</td><td>V</td><td>MIR</td><td>5.0x11</td><td>5.0x11</td><td>5.0x11</td><td>1.17 [0.45]</td></tr>\n",
       "<tr><td>2013-03-08</td><td>OBJECT</td><td>83.840388</td><td>-5.57937</td><td>05:35:21.69 -05:34:45.7</td><td>209.200538 -19.450416</td><td>288.C-5038(A)</td><td>XSHOO.2012-03-07T01:22:57.099</td><td>729631</td><td>OM-3125</td><td>3.0</td><td>ACQUISITION</td><td>OBJECT</td><td>IMAGE</td><td>IMAG</td><td>--</td><td>acetecE2V57I_ENG.clk</td><td>V</td><td>MIR</td><td>5.0x11</td><td>5.0x11</td><td>5.0x11</td><td>1.17 [0.45]</td></tr>\n",
       "<tr><td>2013-03-08</td><td>OM-3125</td><td>83.839823</td><td>-5.57897</td><td>05:35:21.56 -05:34:44.3</td><td>209.199891 -19.450737</td><td>288.C-5038(A)</td><td>XSHOO.2012-03-07T01:39:48.331</td><td>729631</td><td>OM-3125</td><td>150.0</td><td>SCIENCE</td><td>OBJECT</td><td>ECHELLE,SLIT,NODDING</td><td>SLITSPEC</td><td>NIR</td><td>--</td><td>V</td><td>SLOT</td><td>0.5x11</td><td>0.4x11</td><td>0.4x11</td><td>1.20 [0.51]</td></tr>\n",
       "<tr><td>2013-03-08</td><td>OM-3125</td><td>83.839823</td><td>-5.57897</td><td>05:35:21.56 -05:34:44.3</td><td>209.199891 -19.450737</td><td>288.C-5038(A)</td><td>XSHOO.2012-03-07T01:31:53.481</td><td>729631</td><td>OM-3125</td><td>300.0</td><td>SCIENCE</td><td>OBJECT</td><td>ECHELLE,SLIT,NODDING</td><td>SLITSPEC</td><td>UVB</td><td>100k/1pt/hg</td><td>V</td><td>SLOT</td><td>0.5x11</td><td>0.4x11</td><td>0.4x11</td><td>1.31 [0.64]</td></tr>\n",
       "<tr><td>2012-03-07</td><td>LAMP,AFC</td><td>83.840362</td><td>-5.57969</td><td>05:35:21.69 -05:34:46.9</td><td>209.200868 -19.450602</td><td>288.C-5038(A)</td><td>XSHOO.2012-03-07T01:18:54.838</td><td>729631</td><td>OM-3125</td><td>0.5</td><td>CALIB</td><td>LAMP,AFC</td><td>ECHELLE</td><td>CALIB</td><td>VIS</td><td>400k/1pt/lg/AFC</td><td>U</td><td>SLOT</td><td>Pin_0.5</td><td>Pin_0.5</td><td>Pin_0.5</td><td>1.15 [0.42]</td></tr>\n",
       "<tr><td>2013-03-08</td><td>OM-3125</td><td>83.840953</td><td>-5.57978</td><td>05:35:21.83 -05:34:47.2</td><td>209.201235 -19.450117</td><td>288.C-5038(A)</td><td>XSHOO.2012-03-07T01:24:06.503</td><td>729631</td><td>OM-3125</td><td>300.0</td><td>SCIENCE</td><td>OBJECT</td><td>ECHELLE,SLIT,NODDING</td><td>SLITSPEC</td><td>VIS</td><td>100k/1pt/hg</td><td>V</td><td>SLOT</td><td>0.5x11</td><td>0.4x11</td><td>0.4x11</td><td>1.07 [0.29]</td></tr>\n",
       "<tr><td>2012-03-07</td><td>LAMP,AFC</td><td>83.840363</td><td>-5.57969</td><td>05:35:21.69 -05:34:46.9</td><td>209.200868 -19.450601</td><td>288.C-5038(A)</td><td>XSHOO.2012-03-07T01:19:29.680</td><td>729631</td><td>OM-3125</td><td>0.5</td><td>CALIB</td><td>LAMP,AFC</td><td>ECHELLE</td><td>CALIB</td><td>VIS</td><td>400k/1pt/lg/AFC</td><td>U</td><td>PIN</td><td>5.0x11</td><td>5.0x11</td><td>5.0x11</td><td>1.21 [0.51]</td></tr>\n",
       "</table>"
      ],
      "text/plain": [
       "<Table length=50>\n",
       "Release Date  Object      RA     ... INS.OPTI5.NAME DIMM Seeing-avg\n",
       "   str10       str8    float64   ...      str7           str11     \n",
       "------------ -------- ---------- ... -------------- ---------------\n",
       "  2016-01-28 LAMP,AFC 167.009583 ...        Pin_0.5     0.90 [0.01]\n",
       "  2016-01-28 LAMP,AFC 167.009583 ...         5.0x11     0.90 [0.01]\n",
       "  2016-01-28   OBJECT 167.010573 ...         5.0x11     0.93 [0.01]\n",
       "  2016-01-28 LAMP,AFC 167.009583 ...         5.0x11     0.90 [0.01]\n",
       "  2016-01-28 LAMP,AFC 241.460833 ...        Pin_0.5     1.30 [0.63]\n",
       "  2016-01-28 LAMP,AFC 241.460833 ...         5.0x11     1.30 [0.63]\n",
       "  2017-08-08   OBJECT 241.072175 ...         5.0x11     0.99 [0.01]\n",
       "  2016-08-07 LAMP,AFC 241.072496 ...        Pin_0.5             N/A\n",
       "  2016-08-07 LAMP,AFC 241.072496 ...        Pin_0.5             N/A\n",
       "  2016-08-07 LAMP,AFC 241.072496 ...         5.0x11             N/A\n",
       "         ...      ...        ... ...            ...             ...\n",
       "  2013-03-08  OM-3125  83.840953 ...         0.4x11     1.07 [0.29]\n",
       "  2012-03-07 LAMP,AFC  83.840363 ...         5.0x11     1.21 [0.51]\n",
       "  2013-03-08  OM-3125  83.839823 ...         0.4x11     1.35 [0.70]\n",
       "  2013-03-08   OBJECT  83.840388 ...         5.0x11     1.17 [0.45]\n",
       "  2013-03-08   OBJECT  83.840388 ...         5.0x11     1.17 [0.45]\n",
       "  2013-03-08  OM-3125  83.839823 ...         0.4x11     1.20 [0.51]\n",
       "  2013-03-08  OM-3125  83.839823 ...         0.4x11     1.31 [0.64]\n",
       "  2012-03-07 LAMP,AFC  83.840362 ...        Pin_0.5     1.15 [0.42]\n",
       "  2013-03-08  OM-3125  83.840953 ...         0.4x11     1.07 [0.29]\n",
       "  2012-03-07 LAMP,AFC  83.840363 ...         5.0x11     1.21 [0.51]"
      ]
     },
     "execution_count": 13,
     "metadata": {},
     "output_type": "execute_result"
    }
   ],
   "source": [
    "result = Eso.query_instrument('xshooter', pi_coi='manara')\n",
    "result"
   ]
  },
  {
   "cell_type": "markdown",
   "metadata": {
    "slideshow": {
     "slide_type": "slide"
    }
   },
   "source": [
    "How do I get a unique list of programs that contained these observations?\n",
    "\n",
    "A simple python trick: a ``set`` is an unordered collection of unique objects (just like in math).  ``np.unique`` does the same thing, but returns a numpy array, which is ordered."
   ]
  },
  {
   "cell_type": "code",
   "execution_count": 14,
   "metadata": {
    "slideshow": {
     "slide_type": "-"
    }
   },
   "outputs": [
    {
     "data": {
      "text/plain": [
       "{'096.C-0979(A)', '097.C-0378(A)', '288.C-5038(A)'}"
      ]
     },
     "execution_count": 14,
     "metadata": {},
     "output_type": "execute_result"
    }
   ],
   "source": [
    "set(result['ProgId'])"
   ]
  },
  {
   "cell_type": "markdown",
   "metadata": {
    "slideshow": {
     "slide_type": "slide"
    }
   },
   "source": [
    "## Line List Tools ##\n",
    "\n",
    "The LAMDA, Splatalogue, and NIST services query online resources related to spectroscopic lines.  "
   ]
  },
  {
   "cell_type": "code",
   "execution_count": 15,
   "metadata": {
    "slideshow": {
     "slide_type": "fragment"
    }
   },
   "outputs": [],
   "source": [
    "from astroquery.nist import Nist"
   ]
  },
  {
   "cell_type": "code",
   "execution_count": 16,
   "metadata": {
    "slideshow": {
     "slide_type": "fragment"
    }
   },
   "outputs": [
    {
     "data": {
      "text/html": [
       "<i>Table length=53</i>\n",
       "<table id=\"table4769753840\" class=\"table-striped table-bordered table-condensed\">\n",
       "<thead><tr><th>Observed</th><th>Ritz</th><th>Transition</th><th>Rel.</th><th>Aki</th><th>fik</th><th>Acc.</th><th>Ei           Ek</th><th>Lower level</th><th>Upper level</th><th>Type</th><th>TP</th><th>Line</th></tr></thead>\n",
       "<thead><tr><th>float64</th><th>float64</th><th>float64</th><th>int64</th><th>float64</th><th>float64</th><th>str3</th><th>str29</th><th>str19</th><th>str19</th><th>str2</th><th>str5</th><th>str8</th></tr></thead>\n",
       "<tr><td>--</td><td>4102.85985517</td><td>24373.2429403</td><td>--</td><td>4287700.0</td><td>0.021641</td><td>AAA</td><td>10.19880606  -  [13.22070303]</td><td>2p     | 2P*  | 1/2</td><td>6d     | 2D   | 3/2</td><td>--</td><td>T8637</td><td>--</td></tr>\n",
       "<tr><td>--</td><td>4102.86191087</td><td>24373.2307283</td><td>--</td><td>245010.0</td><td>0.00061831</td><td>AAA</td><td>10.19880606  -   13.22070151</td><td>2p     | 2P*  | 1/2</td><td>6s     | 2S   | 1/2</td><td>--</td><td>T8637</td><td>--</td></tr>\n",
       "<tr><td>--</td><td>4102.8632</td><td>24373.223</td><td>--</td><td>--</td><td>--</td><td>--</td><td>--</td><td>|      |</td><td>|      |</td><td>--</td><td>--</td><td>c57</td></tr>\n",
       "<tr><td>4102.86503481</td><td>4102.86503481</td><td>24373.2121704</td><td>--</td><td>--</td><td>--</td><td>--</td><td>10.19881044  -   13.22070359</td><td>2s     | 2S   | 1/2</td><td>6d     | 2D   | 5/2</td><td>E2</td><td>--</td><td>L11759</td></tr>\n",
       "<tr><td>--</td><td>4102.86579132</td><td>24373.2076763</td><td>--</td><td>2858300.0</td><td>0.014427</td><td>AAA</td><td>10.19881044  -  [13.22070303]</td><td>2s     | 2S   | 1/2</td><td>6p     | 2P*  | 3/2</td><td>--</td><td>T8637</td><td>--</td></tr>\n",
       "<tr><td>4102.86785074</td><td>4102.86785074</td><td>24373.1954423</td><td>--</td><td>--</td><td>--</td><td>--</td><td>10.19881044  -   13.22070151</td><td>2s     | 2S   | 1/2</td><td>6s     | 2S   | 1/2</td><td>M1</td><td>--</td><td>L11759</td></tr>\n",
       "<tr><td>--</td><td>4102.8680725</td><td>24373.1941249</td><td>--</td><td>2858400.0</td><td>0.0072136</td><td>AAA</td><td>10.19881044  -  [13.22070135]</td><td>2s     | 2S   | 1/2</td><td>6p     | 2P*  | 1/2</td><td>--</td><td>T8637</td><td>--</td></tr>\n",
       "<tr><td>4102.892</td><td>4102.8991</td><td>24373.05</td><td>70000</td><td>973200.0</td><td>0.022105</td><td>AAA</td><td>10.1988357   -   13.22070378</td><td>2      |      |</td><td>6      |      |</td><td>--</td><td>T8637</td><td>L7436c29</td></tr>\n",
       "<tr><td>--</td><td>4102.8922</td><td>24373.051</td><td>--</td><td>--</td><td>--</td><td>--</td><td>--</td><td>|      |</td><td>|      |</td><td>--</td><td>--</td><td>c58</td></tr>\n",
       "<tr><td>--</td><td>4102.92068748</td><td>24372.8815683</td><td>--</td><td>5145000.0</td><td>0.019477</td><td>AAA</td><td>10.19885143  -   13.22070359</td><td>2p     | 2P*  | 3/2</td><td>6d     | 2D   | 5/2</td><td>--</td><td>T8637</td><td>--</td></tr>\n",
       "<tr><td>...</td><td>...</td><td>...</td><td>...</td><td>...</td><td>...</td><td>...</td><td>...</td><td>...</td><td>...</td><td>...</td><td>...</td><td>...</td></tr>\n",
       "<tr><td>--</td><td>6564.579878</td><td>15233.267302</td><td>--</td><td>--</td><td>--</td><td>--</td><td>10.19881044  -   12.08749486</td><td>2s     | 2S   | 1/2</td><td>3s     | 2S   | 1/2</td><td>M1</td><td>--</td><td>--</td></tr>\n",
       "<tr><td>--</td><td>6564.583</td><td>15233.26</td><td>--</td><td>--</td><td>--</td><td>--</td><td>--</td><td>|      |</td><td>|      |</td><td>--</td><td>--</td><td>c66</td></tr>\n",
       "<tr><td>6564.584404</td><td>6564.584403</td><td>15233.256799</td><td>--</td><td>22449000.0</td><td>0.14503</td><td>AAA</td><td>10.19881044  -   12.08749356</td><td>2s     | 2S   | 1/2</td><td>3p     | 2P*  | 1/2</td><td>--</td><td>T8637</td><td>L6891c38</td></tr>\n",
       "<tr><td>6564.6</td><td>6564.632</td><td>15233.21</td><td>500000</td><td>44101000.0</td><td>0.64108</td><td>AAA</td><td>10.1988357   -   12.0875051</td><td>2      |      |</td><td>3      |      |</td><td>--</td><td>T8637</td><td>L7400c29</td></tr>\n",
       "<tr><td>--</td><td>6564.608</td><td>15233.202</td><td>--</td><td>--</td><td>--</td><td>--</td><td>--</td><td>|      |</td><td>|      |</td><td>--</td><td>--</td><td>c69</td></tr>\n",
       "<tr><td>6564.66464</td><td>6564.66466</td><td>15233.07061</td><td>--</td><td>64651000.0</td><td>0.62654</td><td>AAA</td><td>10.19885143  -   12.08751146</td><td>2p     | 2P*  | 3/2</td><td>3d     | 2D   | 5/2</td><td>--</td><td>T8637</td><td>L2752</td></tr>\n",
       "<tr><td>--</td><td>6564.6662</td><td>15233.067</td><td>--</td><td>--</td><td>--</td><td>--</td><td>--</td><td>|      |</td><td>|      |</td><td>--</td><td>--</td><td>c71</td></tr>\n",
       "<tr><td>--</td><td>6564.667</td><td>15233.065</td><td>--</td><td>--</td><td>--</td><td>--</td><td>--</td><td>|      |</td><td>|      |</td><td>--</td><td>--</td><td>c70</td></tr>\n",
       "<tr><td>--</td><td>6564.680232</td><td>15233.034432</td><td>--</td><td>10775000.0</td><td>0.069616</td><td>AAA</td><td>10.19885143  -   12.08750698</td><td>2p     | 2P*  | 3/2</td><td>3d     | 2D   | 3/2</td><td>--</td><td>T8637</td><td>--</td></tr>\n",
       "<tr><td>--</td><td>6564.722349</td><td>15232.9367</td><td>--</td><td>4209700.0</td><td>0.013599</td><td>AAA</td><td>10.19885143  -   12.08749486</td><td>2p     | 2P*  | 3/2</td><td>3s     | 2S   | 1/2</td><td>--</td><td>T8637</td><td>--</td></tr>\n",
       "</table>"
      ],
      "text/plain": [
       "<Table length=53>\n",
       "   Observed        Ritz       Transition   Rel.  ... Type   TP    Line  \n",
       "   float64       float64       float64    int64  ... str2  str5   str8  \n",
       "------------- ------------- ------------- ------ ... ---- ----- --------\n",
       "           -- 4102.85985517 24373.2429403     -- ...   -- T8637       --\n",
       "           -- 4102.86191087 24373.2307283     -- ...   -- T8637       --\n",
       "           --     4102.8632     24373.223     -- ...   --    --      c57\n",
       "4102.86503481 4102.86503481 24373.2121704     -- ...   E2    --   L11759\n",
       "           -- 4102.86579132 24373.2076763     -- ...   -- T8637       --\n",
       "4102.86785074 4102.86785074 24373.1954423     -- ...   M1    --   L11759\n",
       "           --  4102.8680725 24373.1941249     -- ...   -- T8637       --\n",
       "     4102.892     4102.8991      24373.05  70000 ...   -- T8637 L7436c29\n",
       "           --     4102.8922     24373.051     -- ...   --    --      c58\n",
       "           -- 4102.92068748 24372.8815683     -- ...   -- T8637       --\n",
       "          ...           ...           ...    ... ...  ...   ...      ...\n",
       "           --   6564.579878  15233.267302     -- ...   M1    --       --\n",
       "           --      6564.583      15233.26     -- ...   --    --      c66\n",
       "  6564.584404   6564.584403  15233.256799     -- ...   -- T8637 L6891c38\n",
       "       6564.6      6564.632      15233.21 500000 ...   -- T8637 L7400c29\n",
       "           --      6564.608     15233.202     -- ...   --    --      c69\n",
       "   6564.66464    6564.66466   15233.07061     -- ...   -- T8637    L2752\n",
       "           --     6564.6662     15233.067     -- ...   --    --      c71\n",
       "           --      6564.667     15233.065     -- ...   --    --      c70\n",
       "           --   6564.680232  15233.034432     -- ...   -- T8637       --\n",
       "           --   6564.722349    15232.9367     -- ...   -- T8637       --"
      ]
     },
     "execution_count": 16,
     "metadata": {},
     "output_type": "execute_result"
    }
   ],
   "source": [
    "table = Nist.query(4000 * u.AA, 7000 * u.AA, linename=\"H I\")\n",
    "table"
   ]
  },
  {
   "cell_type": "code",
   "execution_count": 17,
   "metadata": {
    "slideshow": {
     "slide_type": "slide"
    }
   },
   "outputs": [],
   "source": [
    "from astroquery.splatalogue import Splatalogue"
   ]
  },
  {
   "cell_type": "markdown",
   "metadata": {
    "slideshow": {
     "slide_type": "fragment"
    }
   },
   "source": [
    "Splatalogue (\"spectral line catalogue\") provides access to mm lines."
   ]
  },
  {
   "cell_type": "code",
   "execution_count": 18,
   "metadata": {
    "slideshow": {
     "slide_type": "fragment"
    }
   },
   "outputs": [
    {
     "data": {
      "text/plain": [
       "{'02813 CO v = 1 - Carbon Monoxide': '990',\n",
       " '02812 CO v = 0 - Carbon Monoxide': '204',\n",
       " '02815 CO v = 3 - Carbon Monoxide': '1343',\n",
       " '02814 CO v = 2 - Carbon Monoxide': '991'}"
      ]
     },
     "execution_count": 18,
     "metadata": {},
     "output_type": "execute_result"
    }
   ],
   "source": [
    "just_CO = Splatalogue.get_species_ids(' CO ') # note the spaces\n",
    "just_CO"
   ]
  },
  {
   "cell_type": "code",
   "execution_count": 19,
   "metadata": {
    "slideshow": {
     "slide_type": "fragment"
    }
   },
   "outputs": [
    {
     "data": {
      "text/html": [
       "<i>Table length=1</i>\n",
       "<table id=\"table4769889296\" class=\"table-striped table-bordered table-condensed\">\n",
       "<thead><tr><th>Species</th><th>Chemical Name</th><th>Freq-GHz(rest frame,redshifted)</th><th>Freq Err(rest frame,redshifted)</th><th>Meas Freq-GHz(rest frame,redshifted)</th><th>Meas Freq Err(rest frame,redshifted)</th><th>Resolved QNs</th><th>CDMS/JPL Intensity</th><th>S&lt;sub&gt;ij&lt;/sub&gt;&amp;#956;&lt;sup&gt;2&lt;/sup&gt; (D&lt;sup&gt;2&lt;/sup&gt;)</th><th>S&lt;sub&gt;ij&lt;/sub&gt;</th><th>Log&lt;sub&gt;10&lt;/sub&gt; (A&lt;sub&gt;ij&lt;/sub&gt;)</th><th>Lovas/AST Intensity</th><th>E_L (cm^-1)</th><th>E_L (K)</th><th>E_U (cm^-1)</th><th>E_U (K)</th><th>Linelist</th></tr></thead>\n",
       "<thead><tr><th>str5</th><th>str15</th><th>int64</th><th>int64</th><th>float64</th><th>float64</th><th>str3</th><th>float64</th><th>float64</th><th>float64</th><th>float64</th><th>float64</th><th>float64</th><th>float64</th><th>float64</th><th>float64</th><th>str4</th></tr></thead>\n",
       "<tr><td>COv=0</td><td>Carbon Monoxide</td><td>--</td><td>--</td><td>230.538</td><td>5e-07</td><td>2-1</td><td>-4.1197</td><td>0.02423</td><td>2.0</td><td>-6.1605</td><td>70.0</td><td>3.845</td><td>5.53207</td><td>11.53492</td><td>16.59608</td><td>CDMS</td></tr>\n",
       "</table>"
      ],
      "text/plain": [
       "<Table length=1>\n",
       "Species  Chemical Name  Freq-GHz(rest frame,redshifted) ... E_U (K)  Linelist\n",
       "  str5       str15                   int64              ... float64    str4  \n",
       "------- --------------- ------------------------------- ... -------- --------\n",
       "  COv=0 Carbon Monoxide                              -- ... 16.59608     CDMS"
      ]
     },
     "execution_count": 19,
     "metadata": {},
     "output_type": "execute_result"
    }
   ],
   "source": [
    "CO2to1 = Splatalogue.query_lines(1*u.mm, 2*u.mm, chemical_name=\" CO \",\n",
    "                                 only_NRAO_recommended=True,\n",
    "                                 energy_max=50, energy_type='eu_k')\n",
    "CO2to1"
   ]
  },
  {
   "cell_type": "markdown",
   "metadata": {},
   "source": [
    "### Cone Search services"
   ]
  },
  {
   "cell_type": "code",
   "execution_count": 20,
   "metadata": {},
   "outputs": [
    {
     "data": {
      "text/html": [
       "<i>Table length=4028</i>\n",
       "<table id=\"table4770217024\" class=\"table-striped table-bordered table-condensed\">\n",
       "<thead><tr><th>objID</th><th>gsc2ID</th><th>gsc1ID</th><th>hstID</th><th>ra</th><th>dec</th><th>epoch</th><th>raEpsilon</th><th>decEpsilon</th><th>rapm</th><th>decpm</th><th>rapmErr</th><th>decpmErr</th><th>deltaEpoch</th><th>FpgMag</th><th>FpgMagErr</th><th>FpgMagCode</th><th>JpgMag</th><th>JpgMagErr</th><th>JpgMagCode</th><th>NpgMag</th><th>NpgMagErr</th><th>NpgMagCode</th><th>UMag</th><th>UMagErr</th><th>UMagCode</th><th>BMag</th><th>BMagErr</th><th>BMagCode</th><th>VMag</th><th>VMagErr</th><th>VMagCode</th><th>RMag</th><th>RMagErr</th><th>RMagCode</th><th>IMag</th><th>IMagErr</th><th>IMagCode</th><th>JMag</th><th>JMagErr</th><th>JMagCode</th><th>HMag</th><th>HMagErr</th><th>HMagCode</th><th>KMag</th><th>KMagErr</th><th>KMagCode</th><th>class</th><th>semiMajorAxis</th><th>eccentricity</th><th>positionAngle</th><th>sourceStatus</th><th>variableFlag</th><th>multipleFlag</th><th>compassGSC2id</th><th>Mag</th></tr></thead>\n",
       "<thead><tr><th></th><th></th><th></th><th></th><th>deg</th><th>deg</th><th>yr</th><th>arcsec</th><th>arcsec</th><th>mas / yr</th><th>mas / yr</th><th>mas / yr</th><th>mas / yr</th><th>yr</th><th>mag</th><th>mag</th><th></th><th>mag</th><th>mag</th><th></th><th>mag</th><th>mag</th><th></th><th>mag</th><th>mag</th><th></th><th>mag</th><th>mag</th><th></th><th>mag</th><th>mag</th><th></th><th>mag</th><th>mag</th><th></th><th>mag</th><th>mag</th><th></th><th>mag</th><th>mag</th><th></th><th>mag</th><th>mag</th><th></th><th>mag</th><th>mag</th><th></th><th></th><th>pixel</th><th></th><th>deg</th><th></th><th></th><th></th><th></th><th>mag</th></tr></thead>\n",
       "<thead><tr><th>int64</th><th>object</th><th>object</th><th>object</th><th>float64</th><th>float64</th><th>float32</th><th>float32</th><th>float32</th><th>float32</th><th>float32</th><th>float32</th><th>float32</th><th>float32</th><th>float32</th><th>float32</th><th>int32</th><th>float32</th><th>float32</th><th>int32</th><th>float32</th><th>float32</th><th>int32</th><th>float32</th><th>float32</th><th>int32</th><th>float32</th><th>float32</th><th>int32</th><th>float32</th><th>float32</th><th>int32</th><th>float32</th><th>float32</th><th>int32</th><th>float32</th><th>float32</th><th>int32</th><th>float32</th><th>float32</th><th>int32</th><th>float32</th><th>float32</th><th>int32</th><th>float32</th><th>float32</th><th>int32</th><th>int32</th><th>float32</th><th>float32</th><th>float32</th><th>int64</th><th>int32</th><th>int32</th><th>int64</th><th>float32</th></tr></thead>\n",
       "<tr><td>23323175812944</td><td>00424433+4116085</td><td></td><td>2MJG1R2O</td><td>10.684737</td><td>41.269035</td><td>1997.815</td><td>0.08</td><td>0.07</td><td>0.0</td><td>0.0</td><td>0.0</td><td>0.0</td><td>0.0</td><td>99.99</td><td>99.99</td><td>99</td><td>99.99</td><td>99.99</td><td>99</td><td>99.99</td><td>99.99</td><td>99</td><td>99.99</td><td>99.99</td><td>99</td><td>99.99</td><td>99.99</td><td>99</td><td>99.99</td><td>99.99</td><td>99</td><td>99.99</td><td>99.99</td><td>99</td><td>99.99</td><td>99.99</td><td>99</td><td>9.453</td><td>0.052</td><td>47</td><td>8.668</td><td>0.051</td><td>48</td><td>8.475</td><td>0.051</td><td>49</td><td>4</td><td>0.0</td><td>0.0</td><td>0.0</td><td>77777700</td><td>0</td><td>0</td><td>6453800072293</td><td>9.453</td></tr>\n",
       "<tr><td>23323175812948</td><td>00424403+4116069</td><td></td><td>2MJG1R2S</td><td>10.683469</td><td>41.268585</td><td>1997.815</td><td>0.13</td><td>0.12</td><td>0.0</td><td>0.0</td><td>0.0</td><td>0.0</td><td>0.0</td><td>99.99</td><td>99.99</td><td>99</td><td>99.99</td><td>99.99</td><td>99</td><td>99.99</td><td>99.99</td><td>99</td><td>99.99</td><td>99.99</td><td>99</td><td>99.99</td><td>99.99</td><td>99</td><td>99.99</td><td>99.99</td><td>99</td><td>99.99</td><td>99.99</td><td>99</td><td>99.99</td><td>99.99</td><td>99</td><td>9.321</td><td>-999.0</td><td>47</td><td>8.614</td><td>-999.0</td><td>48</td><td>10.601</td><td>0.025</td><td>49</td><td>4</td><td>0.0</td><td>0.0</td><td>0.0</td><td>77777700</td><td>0</td><td>0</td><td>6453800072297</td><td>9.321</td></tr>\n",
       "<tr><td>23323175812933</td><td>00424455+4116103</td><td></td><td>2MJG1R2D</td><td>10.685657</td><td>41.26955</td><td>1997.815</td><td>0.13</td><td>0.12</td><td>0.0</td><td>0.0</td><td>0.0</td><td>0.0</td><td>0.0</td><td>99.99</td><td>99.99</td><td>99</td><td>99.99</td><td>99.99</td><td>99</td><td>99.99</td><td>99.99</td><td>99</td><td>99.99</td><td>99.99</td><td>99</td><td>99.99</td><td>99.99</td><td>99</td><td>99.99</td><td>99.99</td><td>99</td><td>99.99</td><td>99.99</td><td>99</td><td>99.99</td><td>99.99</td><td>99</td><td>10.773</td><td>0.069</td><td>47</td><td>8.532</td><td>-999.0</td><td>48</td><td>8.254</td><td>-999.0</td><td>49</td><td>4</td><td>0.0</td><td>0.0</td><td>0.0</td><td>77777700</td><td>0</td><td>0</td><td>6453800072282</td><td>10.773</td></tr>\n",
       "<tr><td>23323175812939</td><td>00424464+4116092</td><td></td><td>2MJG1R2J</td><td>10.686026</td><td>41.269226</td><td>1997.815</td><td>0.13</td><td>0.12</td><td>0.0</td><td>0.0</td><td>0.0</td><td>0.0</td><td>0.0</td><td>99.99</td><td>99.99</td><td>99</td><td>99.99</td><td>99.99</td><td>99</td><td>99.99</td><td>99.99</td><td>99</td><td>99.99</td><td>99.99</td><td>99</td><td>99.99</td><td>99.99</td><td>99</td><td>99.99</td><td>99.99</td><td>99</td><td>99.99</td><td>99.99</td><td>99</td><td>99.99</td><td>99.99</td><td>99</td><td>9.299</td><td>-999.0</td><td>47</td><td>8.606</td><td>-999.0</td><td>48</td><td>10.119</td><td>0.056</td><td>49</td><td>4</td><td>0.0</td><td>0.0</td><td>0.0</td><td>77777700</td><td>0</td><td>0</td><td>6453800072288</td><td>9.299</td></tr>\n",
       "<tr><td>23323175812930</td><td>00424403+4116108</td><td></td><td>2MJG1R2A</td><td>10.683465</td><td>41.269676</td><td>1997.815</td><td>0.13</td><td>0.11</td><td>0.0</td><td>0.0</td><td>0.0</td><td>0.0</td><td>0.0</td><td>99.99</td><td>99.99</td><td>99</td><td>99.99</td><td>99.99</td><td>99</td><td>99.99</td><td>99.99</td><td>99</td><td>99.99</td><td>99.99</td><td>99</td><td>99.99</td><td>99.99</td><td>99</td><td>99.99</td><td>99.99</td><td>99</td><td>99.99</td><td>99.99</td><td>99</td><td>99.99</td><td>99.99</td><td>99</td><td>11.507</td><td>0.056</td><td>47</td><td>8.744</td><td>-999.0</td><td>48</td><td>8.489</td><td>-999.0</td><td>49</td><td>4</td><td>0.0</td><td>0.0</td><td>0.0</td><td>77777700</td><td>0</td><td>0</td><td>6453800072279</td><td>11.507</td></tr>\n",
       "<tr><td>23323175812931</td><td>00424464+4116106</td><td></td><td>2MJG1R2B</td><td>10.686015</td><td>41.26963</td><td>1997.815</td><td>0.13</td><td>0.12</td><td>0.0</td><td>0.0</td><td>0.0</td><td>0.0</td><td>0.0</td><td>99.99</td><td>99.99</td><td>99</td><td>99.99</td><td>99.99</td><td>99</td><td>99.99</td><td>99.99</td><td>99</td><td>99.99</td><td>99.99</td><td>99</td><td>99.99</td><td>99.99</td><td>99</td><td>99.99</td><td>99.99</td><td>99</td><td>99.99</td><td>99.99</td><td>99</td><td>99.99</td><td>99.99</td><td>99</td><td>9.399</td><td>-999.0</td><td>47</td><td>9.985</td><td>0.07</td><td>48</td><td>8.429</td><td>-999.0</td><td>49</td><td>4</td><td>0.0</td><td>0.0</td><td>0.0</td><td>77777700</td><td>0</td><td>0</td><td>6453800072280</td><td>9.399</td></tr>\n",
       "<tr><td>23323175812973</td><td>00424446+4116016</td><td></td><td>2MJG1R3H</td><td>10.68527</td><td>41.267124</td><td>1997.815</td><td>0.13</td><td>0.12</td><td>0.0</td><td>0.0</td><td>0.0</td><td>0.0</td><td>0.0</td><td>99.99</td><td>99.99</td><td>99</td><td>99.99</td><td>99.99</td><td>99</td><td>99.99</td><td>99.99</td><td>99</td><td>99.99</td><td>99.99</td><td>99</td><td>99.99</td><td>99.99</td><td>99</td><td>99.99</td><td>99.99</td><td>99</td><td>99.99</td><td>99.99</td><td>99</td><td>99.99</td><td>99.99</td><td>99</td><td>12.07</td><td>0.035</td><td>47</td><td>9.301</td><td>-999.0</td><td>48</td><td>9.057</td><td>-999.0</td><td>49</td><td>4</td><td>0.0</td><td>0.0</td><td>0.0</td><td>77777700</td><td>0</td><td>0</td><td>6453800072322</td><td>12.07</td></tr>\n",
       "<tr><td>23323175812966</td><td>00424398+4116028</td><td></td><td>2MJG1R3A</td><td>10.683263</td><td>41.267456</td><td>1997.815</td><td>0.13</td><td>0.12</td><td>0.0</td><td>0.0</td><td>0.0</td><td>0.0</td><td>0.0</td><td>99.99</td><td>99.99</td><td>99</td><td>99.99</td><td>99.99</td><td>99</td><td>99.99</td><td>99.99</td><td>99</td><td>99.99</td><td>99.99</td><td>99</td><td>99.99</td><td>99.99</td><td>99</td><td>99.99</td><td>99.99</td><td>99</td><td>99.99</td><td>99.99</td><td>99</td><td>99.99</td><td>99.99</td><td>99</td><td>12.136</td><td>0.04</td><td>47</td><td>9.226</td><td>-999.0</td><td>48</td><td>8.994</td><td>-999.0</td><td>49</td><td>4</td><td>0.0</td><td>0.0</td><td>0.0</td><td>77777700</td><td>0</td><td>0</td><td>6453800072315</td><td>12.136</td></tr>\n",
       "<tr><td>23323175812979</td><td>00424420+4116009</td><td></td><td>2MJG1R3N</td><td>10.68418</td><td>41.266941</td><td>1997.815</td><td>0.13</td><td>0.12</td><td>0.0</td><td>0.0</td><td>0.0</td><td>0.0</td><td>0.0</td><td>99.99</td><td>99.99</td><td>99</td><td>99.99</td><td>99.99</td><td>99</td><td>99.99</td><td>99.99</td><td>99</td><td>99.99</td><td>99.99</td><td>99</td><td>99.99</td><td>99.99</td><td>99</td><td>99.99</td><td>99.99</td><td>99</td><td>99.99</td><td>99.99</td><td>99</td><td>99.99</td><td>99.99</td><td>99</td><td>10.065</td><td>-999.0</td><td>47</td><td>9.374</td><td>-999.0</td><td>48</td><td>11.504</td><td>0.052</td><td>49</td><td>4</td><td>0.0</td><td>0.0</td><td>0.0</td><td>77777700</td><td>0</td><td>0</td><td>6453800072328</td><td>10.065</td></tr>\n",
       "<tr><td>...</td><td>...</td><td>...</td><td>...</td><td>...</td><td>...</td><td>...</td><td>...</td><td>...</td><td>...</td><td>...</td><td>...</td><td>...</td><td>...</td><td>...</td><td>...</td><td>...</td><td>...</td><td>...</td><td>...</td><td>...</td><td>...</td><td>...</td><td>...</td><td>...</td><td>...</td><td>...</td><td>...</td><td>...</td><td>...</td><td>...</td><td>...</td><td>...</td><td>...</td><td>...</td><td>...</td><td>...</td><td>...</td><td>...</td><td>...</td><td>...</td><td>...</td><td>...</td><td>...</td><td>...</td><td>...</td><td>...</td><td>...</td><td>...</td><td>...</td><td>...</td><td>...</td><td>...</td><td>...</td><td>...</td><td>...</td></tr>\n",
       "<tr><td>1330012229027</td><td>N330012229027</td><td></td><td>NBVE029027</td><td>10.740930557251</td><td>41.1782531738281</td><td>1986.91</td><td>0.34043</td><td>0.325062</td><td>0.0</td><td>0.0</td><td>0.0</td><td>0.0</td><td>0.0</td><td>20.3122</td><td>0.610227</td><td>35</td><td>99.99</td><td>99.99</td><td>99</td><td>99.99</td><td>99.99</td><td>99</td><td>99.99</td><td>99.99</td><td>99</td><td>99.99</td><td>99.99</td><td>99</td><td>99.99</td><td>99.99</td><td>99</td><td>99.99</td><td>99.99</td><td>99</td><td>99.99</td><td>99.99</td><td>99</td><td>99.99</td><td>99.99</td><td>99</td><td>99.99</td><td>99.99</td><td>99</td><td>99.99</td><td>99.99</td><td>99</td><td>0</td><td>1.78783</td><td>0.606299</td><td>47.2991</td><td>10020001</td><td>0</td><td>0</td><td>6453800029027</td><td>20.3122</td></tr>\n",
       "<tr><td>1330012247547</td><td>N330012247547</td><td></td><td>NBVE047547</td><td>10.555645942688</td><td>41.2449378967285</td><td>1987.72</td><td>0.305162</td><td>0.343896</td><td>0.0</td><td>0.0</td><td>0.0</td><td>0.0</td><td>0.0</td><td>99.99</td><td>99.99</td><td>99</td><td>21.5449</td><td>0.512004</td><td>18</td><td>99.99</td><td>99.99</td><td>99</td><td>99.99</td><td>99.99</td><td>99</td><td>99.99</td><td>99.99</td><td>99</td><td>99.99</td><td>99.99</td><td>99</td><td>99.99</td><td>99.99</td><td>99</td><td>99.99</td><td>99.99</td><td>99</td><td>99.99</td><td>99.99</td><td>99</td><td>99.99</td><td>99.99</td><td>99</td><td>99.99</td><td>99.99</td><td>99</td><td>3</td><td>2.01646</td><td>0.313434</td><td>162.096</td><td>10002001</td><td>0</td><td>0</td><td>6453800047547</td><td>21.5449</td></tr>\n",
       "<tr><td>1330012244072</td><td>N330012244072</td><td></td><td>NBVE044072</td><td>10.6925621032715</td><td>41.3684921264648</td><td>1989.69</td><td>0.303688</td><td>0.291863</td><td>0.0</td><td>0.0</td><td>0.0</td><td>0.0</td><td>0.0</td><td>99.99</td><td>99.99</td><td>99</td><td>20.9598</td><td>0.538868</td><td>18</td><td>99.99</td><td>99.99</td><td>99</td><td>99.99</td><td>99.99</td><td>99</td><td>99.99</td><td>99.99</td><td>99</td><td>99.99</td><td>99.99</td><td>99</td><td>99.99</td><td>99.99</td><td>99</td><td>99.99</td><td>99.99</td><td>99</td><td>99.99</td><td>99.99</td><td>99</td><td>99.99</td><td>99.99</td><td>99</td><td>99.99</td><td>99.99</td><td>99</td><td>3</td><td>3.19223</td><td>0.379552</td><td>2.96731</td><td>10002001</td><td>0</td><td>0</td><td>6453800044072</td><td>20.9598</td></tr>\n",
       "<tr><td>1330012248107</td><td>N330012248107</td><td></td><td>NBVE048107</td><td>10.5622701644897</td><td>41.3077354431152</td><td>1987.72</td><td>0.305162</td><td>0.343896</td><td>12.497</td><td>48.0508</td><td>54.4246</td><td>27.66</td><td>40.0298</td><td>99.99</td><td>99.99</td><td>99</td><td>21.6947</td><td>0.530237</td><td>18</td><td>19.127</td><td>0.644123</td><td>37</td><td>99.99</td><td>99.99</td><td>99</td><td>20.9187</td><td>0.541523</td><td>7</td><td>18.9814</td><td>0.860541</td><td>1</td><td>99.99</td><td>99.99</td><td>99</td><td>99.99</td><td>99.99</td><td>99</td><td>99.99</td><td>99.99</td><td>99</td><td>99.99</td><td>99.99</td><td>99</td><td>99.99</td><td>99.99</td><td>99</td><td>3</td><td>1.73654</td><td>0.234965</td><td>47.7173</td><td>202005</td><td>0</td><td>0</td><td>6453800048107</td><td>21.6947</td></tr>\n",
       "<tr><td>133001227000</td><td>N33001227000</td><td></td><td>NBVE007000</td><td>10.6653833389282</td><td>41.1698875427246</td><td>1989.75</td><td>0.343126</td><td>0.33241</td><td>0.0</td><td>0.0</td><td>0.0</td><td>0.0</td><td>0.0</td><td>20.1382</td><td>0.550208</td><td>35</td><td>99.99</td><td>99.99</td><td>99</td><td>99.99</td><td>99.99</td><td>99</td><td>99.99</td><td>99.99</td><td>99</td><td>99.99</td><td>99.99</td><td>99</td><td>99.99</td><td>99.99</td><td>99</td><td>99.99</td><td>99.99</td><td>99</td><td>99.99</td><td>99.99</td><td>99</td><td>99.99</td><td>99.99</td><td>99</td><td>99.99</td><td>99.99</td><td>99</td><td>99.99</td><td>99.99</td><td>99</td><td>0</td><td>2.77008</td><td>0.640286</td><td>49.3243</td><td>10020001</td><td>0</td><td>0</td><td>6453800007000</td><td>20.1382</td></tr>\n",
       "<tr><td>1330012244001</td><td>N330012244001</td><td></td><td>NBVE044001</td><td>10.6357202529907</td><td>41.3616561889648</td><td>1987.72</td><td>0.305162</td><td>0.343896</td><td>-0.436885</td><td>4.16486</td><td>5.25464</td><td>0.0558014</td><td>35.9122</td><td>99.99</td><td>99.99</td><td>99</td><td>21.8968</td><td>0.548157</td><td>18</td><td>99.99</td><td>99.99</td><td>99</td><td>99.99</td><td>99.99</td><td>99</td><td>20.9028</td><td>0.496904</td><td>7</td><td>99.99</td><td>99.99</td><td>99</td><td>99.99</td><td>99.99</td><td>99</td><td>99.99</td><td>99.99</td><td>99</td><td>99.99</td><td>99.99</td><td>99</td><td>99.99</td><td>99.99</td><td>99</td><td>99.99</td><td>99.99</td><td>99</td><td>0</td><td>1.4091</td><td>0.0905507</td><td>111.823</td><td>2203</td><td>0</td><td>0</td><td>6453800044001</td><td>21.8968</td></tr>\n",
       "<tr><td>1330012228861</td><td>N330012228861</td><td></td><td>NBVE028861</td><td>10.6806316375732</td><td>41.1688575744629</td><td>1986.91</td><td>0.34043</td><td>0.325062</td><td>0.0</td><td>0.0</td><td>0.0</td><td>0.0</td><td>0.0</td><td>20.3572</td><td>0.636377</td><td>35</td><td>21.7859</td><td>0.740225</td><td>18</td><td>99.99</td><td>99.99</td><td>99</td><td>99.99</td><td>99.99</td><td>99</td><td>99.99</td><td>99.99</td><td>99</td><td>99.99</td><td>99.99</td><td>99</td><td>99.99</td><td>99.99</td><td>99</td><td>99.99</td><td>99.99</td><td>99</td><td>99.99</td><td>99.99</td><td>99</td><td>99.99</td><td>99.99</td><td>99</td><td>99.99</td><td>99.99</td><td>99</td><td>3</td><td>1.73502</td><td>0.42902</td><td>140.861</td><td>22002</td><td>0</td><td>0</td><td>6453800028861</td><td>20.3572</td></tr>\n",
       "<tr><td>1330012212014</td><td>N330012212014</td><td></td><td>NBVE012014</td><td>10.5837535858154</td><td>41.3338661193848</td><td>1986.91</td><td>0.34043</td><td>0.325062</td><td>-7.84588</td><td>-13.9774</td><td>20.2163</td><td>10.5821</td><td>40.0304</td><td>16.5079</td><td>0.430518</td><td>35</td><td>19.7001</td><td>0.425212</td><td>18</td><td>17.5153</td><td>0.450801</td><td>37</td><td>99.99</td><td>99.99</td><td>99</td><td>20.0399</td><td>0.433221</td><td>7</td><td>18.4556</td><td>0.456814</td><td>1</td><td>99.99</td><td>99.99</td><td>99</td><td>99.99</td><td>99.99</td><td>99</td><td>99.99</td><td>99.99</td><td>99</td><td>99.99</td><td>99.99</td><td>99</td><td>99.99</td><td>99.99</td><td>99</td><td>3</td><td>8.57145</td><td>0.426889</td><td>24.8008</td><td>1000112509</td><td>0</td><td>0</td><td>6453800012014</td><td>16.5079</td></tr>\n",
       "<tr><td>1330012231849</td><td>N330012231849</td><td></td><td>NBVE031849</td><td>10.5586099624634</td><td>41.3006172180176</td><td>1986.91</td><td>0.34043</td><td>0.325062</td><td>0.0</td><td>0.0</td><td>0.0</td><td>0.0</td><td>0.0</td><td>20.2869</td><td>0.645382</td><td>35</td><td>99.99</td><td>99.99</td><td>99</td><td>99.99</td><td>99.99</td><td>99</td><td>99.99</td><td>99.99</td><td>99</td><td>99.99</td><td>99.99</td><td>99</td><td>99.99</td><td>99.99</td><td>99</td><td>99.99</td><td>99.99</td><td>99</td><td>99.99</td><td>99.99</td><td>99</td><td>99.99</td><td>99.99</td><td>99</td><td>99.99</td><td>99.99</td><td>99</td><td>99.99</td><td>99.99</td><td>99</td><td>3</td><td>2.07513</td><td>0.516403</td><td>157.91</td><td>10020201</td><td>0</td><td>0</td><td>6453800031849</td><td>20.2869</td></tr>\n",
       "<tr><td>1330012210212</td><td>N330012210212</td><td></td><td>NBVE010212</td><td>10.8177289962769</td><td>41.269157409668</td><td>1989.75</td><td>0.343126</td><td>0.33241</td><td>0.0</td><td>0.0</td><td>0.0</td><td>0.0</td><td>0.0</td><td>20.2767</td><td>0.595958</td><td>35</td><td>21.3398</td><td>0.62705</td><td>18</td><td>99.99</td><td>99.99</td><td>99</td><td>99.99</td><td>99.99</td><td>99</td><td>99.99</td><td>99.99</td><td>99</td><td>99.99</td><td>99.99</td><td>99</td><td>99.99</td><td>99.99</td><td>99</td><td>99.99</td><td>99.99</td><td>99</td><td>99.99</td><td>99.99</td><td>99</td><td>99.99</td><td>99.99</td><td>99</td><td>99.99</td><td>99.99</td><td>99</td><td>3</td><td>2.12507</td><td>0.478459</td><td>71.2069</td><td>22002</td><td>0</td><td>0</td><td>6453800010212</td><td>20.2767</td></tr>\n",
       "</table>"
      ],
      "text/plain": [
       "<Table length=4028>\n",
       "    objID           gsc2ID      gsc1ID ... multipleFlag compassGSC2id   Mag  \n",
       "                                       ...                              mag  \n",
       "    int64           object      object ...    int32         int64     float32\n",
       "-------------- ---------------- ------ ... ------------ ------------- -------\n",
       "23323175812944 00424433+4116085        ...            0 6453800072293   9.453\n",
       "23323175812948 00424403+4116069        ...            0 6453800072297   9.321\n",
       "23323175812933 00424455+4116103        ...            0 6453800072282  10.773\n",
       "23323175812939 00424464+4116092        ...            0 6453800072288   9.299\n",
       "23323175812930 00424403+4116108        ...            0 6453800072279  11.507\n",
       "23323175812931 00424464+4116106        ...            0 6453800072280   9.399\n",
       "23323175812973 00424446+4116016        ...            0 6453800072322   12.07\n",
       "23323175812966 00424398+4116028        ...            0 6453800072315  12.136\n",
       "23323175812979 00424420+4116009        ...            0 6453800072328  10.065\n",
       "           ...              ...    ... ...          ...           ...     ...\n",
       " 1330012229027    N330012229027        ...            0 6453800029027 20.3122\n",
       " 1330012247547    N330012247547        ...            0 6453800047547 21.5449\n",
       " 1330012244072    N330012244072        ...            0 6453800044072 20.9598\n",
       " 1330012248107    N330012248107        ...            0 6453800048107 21.6947\n",
       "  133001227000     N33001227000        ...            0 6453800007000 20.1382\n",
       " 1330012244001    N330012244001        ...            0 6453800044001 21.8968\n",
       " 1330012228861    N330012228861        ...            0 6453800028861 20.3572\n",
       " 1330012212014    N330012212014        ...            0 6453800012014 16.5079\n",
       " 1330012231849    N330012231849        ...            0 6453800031849 20.2869\n",
       " 1330012210212    N330012210212        ...            0 6453800010212 20.2767"
      ]
     },
     "execution_count": 20,
     "metadata": {},
     "output_type": "execute_result"
    }
   ],
   "source": [
    "from astropy.coordinates import SkyCoord\n",
    "from astroquery.vo_conesearch import ConeSearch\n",
    "\n",
    "c = SkyCoord.from_name('M31')\n",
    "c.ra, c.dec\n",
    "\n",
    "result = ConeSearch.query_region(c, '0.1 deg')\n",
    "result"
   ]
  },
  {
   "cell_type": "markdown",
   "metadata": {
    "slideshow": {
     "slide_type": "slide"
    }
   },
   "source": [
    "Getting a list of catalogs that are available through the cone search service:"
   ]
  },
  {
   "cell_type": "code",
   "execution_count": 21,
   "metadata": {},
   "outputs": [
    {
     "data": {
      "text/plain": [
       "['Guide Star Catalog 2.3 Cone Search 1',\n",
       " 'SDSS DR7 - Sloan Digital Sky Survey Data Release 7 1',\n",
       " 'SDSS DR7 - Sloan Digital Sky Survey Data Release 7 2',\n",
       " 'SDSS DR7 - Sloan Digital Sky Survey Data Release 7 3',\n",
       " 'SDSS DR7 - Sloan Digital Sky Survey Data Release 7 4',\n",
       " 'SDSS DR8 - Sloan Digital Sky Survey Data Release 8 2',\n",
       " 'The HST Guide Star Catalog, Version 1.1 (Lasker+ 1992) 1',\n",
       " 'The HST Guide Star Catalog, Version 1.2 (Lasker+ 1996) 1',\n",
       " 'The HST Guide Star Catalog, Version GSC-ACT (Lasker+ 1996-99) 1',\n",
       " 'The USNO-A2.0 Catalogue (Monet+ 1998) 1',\n",
       " 'Two Micron All Sky Survey (2MASS) 1',\n",
       " 'Two Micron All Sky Survey (2MASS) 2',\n",
       " 'USNO-A2 Catalogue 1']"
      ]
     },
     "execution_count": 21,
     "metadata": {},
     "output_type": "execute_result"
    }
   ],
   "source": [
    "from astroquery.vo_conesearch import conesearch\n",
    "conesearch.list_catalogs()"
   ]
  },
  {
   "cell_type": "markdown",
   "metadata": {
    "slideshow": {
     "slide_type": "slide"
    }
   },
   "source": [
    "Unfortunately, if you want to specify the catalog, you have to use an older API:"
   ]
  },
  {
   "cell_type": "code",
   "execution_count": 22,
   "metadata": {},
   "outputs": [
    {
     "name": "stdout",
     "output_type": "stream",
     "text": [
      "Trying http://astrometry.mit.edu/cgi-bin/vo_cone6.cgi?CAT=USNO-A2&\n"
     ]
    },
    {
     "data": {
      "text/html": [
       "<i>Table length=3</i>\n",
       "<table id=\"table4769889008\" class=\"table-striped table-bordered table-condensed\">\n",
       "<thead><tr><th>id</th><th>RA</th><th>DEC</th><th>B</th><th>R</th></tr></thead>\n",
       "<thead><tr><th></th><th>deg</th><th>deg</th><th>mag</th><th>mag</th></tr></thead>\n",
       "<thead><tr><th>object</th><th>float64</th><th>float64</th><th>float64</th><th>float64</th></tr></thead>\n",
       "<tr><td>1275-0425574</td><td>10.5958778</td><td>41.335328</td><td>19.800</td><td>17.400</td></tr>\n",
       "<tr><td>1275-0427192</td><td>10.6399444</td><td>41.360844</td><td>19.400</td><td>18.400</td></tr>\n",
       "<tr><td>1275-0429939</td><td>10.7128333</td><td>41.209108</td><td>0.000</td><td>11.200</td></tr>\n",
       "</table>"
      ],
      "text/plain": [
       "<Table length=3>\n",
       "     id          RA        DEC       B       R   \n",
       "                deg        deg      mag     mag  \n",
       "   object     float64    float64  float64 float64\n",
       "------------ ---------- --------- ------- -------\n",
       "1275-0425574 10.5958778 41.335328  19.800  17.400\n",
       "1275-0427192 10.6399444 41.360844  19.400  18.400\n",
       "1275-0429939 10.7128333 41.209108   0.000  11.200"
      ]
     },
     "execution_count": 22,
     "metadata": {},
     "output_type": "execute_result"
    }
   ],
   "source": [
    "from astropy import units as u\n",
    "my_catname = 'USNO-A2 Catalogue 1'\n",
    "result = conesearch.conesearch(c, 0.1 * u.degree, catalog_db=my_catname)\n",
    "result"
   ]
  },
  {
   "cell_type": "markdown",
   "metadata": {
    "slideshow": {
     "slide_type": "slide"
    }
   },
   "source": [
    "### Cross-match services\n",
    "\n",
    "The xMatch service is a tool to cross-identify sources between very large data sets or between a user-uploaded list and a large catalog."
   ]
  },
  {
   "cell_type": "code",
   "execution_count": 23,
   "metadata": {},
   "outputs": [
    {
     "name": "stdout",
     "output_type": "stream",
     "text": [
      "Overwriting pos_list.csv\n"
     ]
    }
   ],
   "source": [
    "%%writefile pos_list.csv\n",
    "ra,dec\n",
    "267.22029,-20.35869\n",
    "274.83971,-25.42714\n",
    "275.92229,-30.36572\n",
    "283.26621,-8.70756\n",
    "306.01575,33.86756\n",
    "322.493,12.16703"
   ]
  },
  {
   "cell_type": "code",
   "execution_count": 24,
   "metadata": {
    "scrolled": true
   },
   "outputs": [
    {
     "name": "stdout",
     "output_type": "stream",
     "text": [
      "Could not import regions, which is required for some of the functionalities of this module.\n"
     ]
    },
    {
     "data": {
      "text/html": [
       "<i>Table length=11</i>\n",
       "<table id=\"table4801172528\" class=\"table-striped table-bordered table-condensed\">\n",
       "<thead><tr><th>angDist</th><th>ra</th><th>dec</th><th>2MASS</th><th>RAJ2000</th><th>DEJ2000</th><th>errHalfMaj</th><th>errHalfMin</th><th>errPosAng</th><th>Jmag</th><th>Hmag</th><th>Kmag</th><th>e_Jmag</th><th>e_Hmag</th><th>e_Kmag</th><th>Qfl</th><th>Rfl</th><th>X</th><th>MeasureJD</th></tr></thead>\n",
       "<thead><tr><th>float64</th><th>float64</th><th>float64</th><th>str16</th><th>float64</th><th>float64</th><th>float64</th><th>float64</th><th>int64</th><th>float64</th><th>float64</th><th>float64</th><th>float64</th><th>float64</th><th>float64</th><th>str3</th><th>int64</th><th>int64</th><th>float64</th></tr></thead>\n",
       "<tr><td>1.352044</td><td>267.22029</td><td>-20.35869</td><td>17485281-2021323</td><td>267.220049</td><td>-20.35899</td><td>0.15</td><td>0.11</td><td>16</td><td>9.931</td><td>8.822</td><td>7.55</td><td>0.239</td><td>0.241</td><td>--</td><td>EEU</td><td>226</td><td>2</td><td>2450950.8609</td></tr>\n",
       "<tr><td>1.578188</td><td>267.22029</td><td>-20.35869</td><td>17485288-2021328</td><td>267.220348</td><td>-20.359125</td><td>0.14</td><td>0.12</td><td>158</td><td>8.868</td><td>7.784</td><td>8.53</td><td>--</td><td>--</td><td>0.128</td><td>UUB</td><td>662</td><td>2</td><td>2450950.8609</td></tr>\n",
       "<tr><td>3.699368</td><td>267.22029</td><td>-20.35869</td><td>17485264-2021294</td><td>267.219344</td><td>-20.358171</td><td>0.13</td><td>0.12</td><td>33</td><td>9.562</td><td>8.525</td><td>9.445</td><td>--</td><td>--</td><td>0.119</td><td>UUB</td><td>662</td><td>2</td><td>2450950.8609</td></tr>\n",
       "<tr><td>3.822922</td><td>267.22029</td><td>-20.35869</td><td>17485299-2021279</td><td>267.220825</td><td>-20.357754</td><td>0.08</td><td>0.07</td><td>7</td><td>10.756</td><td>9.725</td><td>9.287</td><td>0.139</td><td>0.127</td><td>0.103</td><td>EBA</td><td>222</td><td>2</td><td>2450950.8609</td></tr>\n",
       "<tr><td>4.576677</td><td>267.22029</td><td>-20.35869</td><td>17485255-2021326</td><td>267.218994</td><td>-20.359064</td><td>0.14</td><td>0.13</td><td>87</td><td>10.431</td><td>9.348</td><td>7.926</td><td>0.159</td><td>0.316</td><td>--</td><td>CEU</td><td>226</td><td>2</td><td>2450950.8609</td></tr>\n",
       "<tr><td>0.219609</td><td>274.83971</td><td>-25.42714</td><td>18192154-2525377</td><td>274.839773</td><td>-25.427162</td><td>0.06</td><td>0.06</td><td>90</td><td>9.368</td><td>8.431</td><td>7.919</td><td>0.024</td><td>0.044</td><td>0.036</td><td>AAA</td><td>211</td><td>0</td><td>2451407.5033</td></tr>\n",
       "<tr><td>1.633225</td><td>275.92229</td><td>-30.36572</td><td>18234133-3021582</td><td>275.922233</td><td>-30.366171</td><td>0.08</td><td>0.08</td><td>55</td><td>12.947</td><td>12.334</td><td>12.145</td><td>0.156</td><td>0.221</td><td>0.127</td><td>EEE</td><td>222</td><td>2</td><td>2451021.7212</td></tr>\n",
       "<tr><td>0.536998</td><td>283.26621</td><td>-8.70756</td><td>18530390-0842276</td><td>283.266284</td><td>-8.70769</td><td>0.06</td><td>0.06</td><td>45</td><td>12.182</td><td>11.534</td><td>11.38</td><td>0.057</td><td>0.071</td><td>0.063</td><td>AAA</td><td>222</td><td>0</td><td>2451301.7945</td></tr>\n",
       "<tr><td>1.178542</td><td>306.01575</td><td>33.86756</td><td>20240382+3352021</td><td>306.015944</td><td>33.867275</td><td>0.06</td><td>0.06</td><td>90</td><td>13.575</td><td>12.684</td><td>12.321</td><td>0.025</td><td>0.027</td><td>0.026</td><td>AAA</td><td>222</td><td>0</td><td>2450948.9708</td></tr>\n",
       "<tr><td>0.853178</td><td>322.493</td><td>12.16703</td><td>21295836+1210007</td><td>322.493171</td><td>12.166862</td><td>0.1</td><td>0.08</td><td>179</td><td>9.798</td><td>9.339</td><td>9.176</td><td>0.109</td><td>0.15</td><td>0.1</td><td>EEA</td><td>222</td><td>0</td><td>2451080.6935</td></tr>\n",
       "<tr><td>4.50395</td><td>322.493</td><td>12.16703</td><td>21295861+1210023</td><td>322.494242</td><td>12.167332</td><td>0.1</td><td>0.08</td><td>1</td><td>10.057</td><td>9.72</td><td>9.483</td><td>0.077</td><td>0.136</td><td>0.088</td><td>EEE</td><td>222</td><td>0</td><td>2451080.6935</td></tr>\n",
       "</table>"
      ],
      "text/plain": [
       "<Table length=11>\n",
       "angDist      ra       dec         2MASS       ... Qfl   Rfl    X    MeasureJD  \n",
       "float64   float64   float64       str16       ... str3 int64 int64   float64   \n",
       "-------- --------- --------- ---------------- ... ---- ----- ----- ------------\n",
       "1.352044 267.22029 -20.35869 17485281-2021323 ...  EEU   226     2 2450950.8609\n",
       "1.578188 267.22029 -20.35869 17485288-2021328 ...  UUB   662     2 2450950.8609\n",
       "3.699368 267.22029 -20.35869 17485264-2021294 ...  UUB   662     2 2450950.8609\n",
       "3.822922 267.22029 -20.35869 17485299-2021279 ...  EBA   222     2 2450950.8609\n",
       "4.576677 267.22029 -20.35869 17485255-2021326 ...  CEU   226     2 2450950.8609\n",
       "0.219609 274.83971 -25.42714 18192154-2525377 ...  AAA   211     0 2451407.5033\n",
       "1.633225 275.92229 -30.36572 18234133-3021582 ...  EEE   222     2 2451021.7212\n",
       "0.536998 283.26621  -8.70756 18530390-0842276 ...  AAA   222     0 2451301.7945\n",
       "1.178542 306.01575  33.86756 20240382+3352021 ...  AAA   222     0 2450948.9708\n",
       "0.853178   322.493  12.16703 21295836+1210007 ...  EEA   222     0 2451080.6935\n",
       " 4.50395   322.493  12.16703 21295861+1210023 ...  EEE   222     0 2451080.6935"
      ]
     },
     "execution_count": 24,
     "metadata": {},
     "output_type": "execute_result"
    }
   ],
   "source": [
    "from astropy import units as u\n",
    "from astroquery.xmatch import XMatch\n",
    "table = XMatch.query(cat1=open('pos_list.csv'),\n",
    "                     cat2='vizier:II/246/out',\n",
    "                     max_distance=5 * u.arcsec, colRA1='ra',\n",
    "                     colDec1='dec')\n",
    "table"
   ]
  },
  {
   "cell_type": "markdown",
   "metadata": {
    "slideshow": {
     "slide_type": "slide"
    }
   },
   "source": [
    "### Gaia\n",
    "\n",
    "The Gaia access module in astroquery is excellent. It provides conesearch-like functionality, as well as general SQL queries."
   ]
  },
  {
   "cell_type": "markdown",
   "metadata": {
    "slideshow": {
     "slide_type": "slide"
    }
   },
   "source": [
    "Querying around an object:"
   ]
  },
  {
   "cell_type": "code",
   "execution_count": 25,
   "metadata": {
    "scrolled": false
   },
   "outputs": [
    {
     "name": "stdout",
     "output_type": "stream",
     "text": [
      "Created TAP+ (v1.2.1) - Connection:\n",
      "\tHost: gea.esac.esa.int\n",
      "\tUse HTTPS: True\n",
      "\tPort: 443\n",
      "\tSSL Port: 443\n",
      "Created TAP+ (v1.2.1) - Connection:\n",
      "\tHost: geadata.esac.esa.int\n",
      "\tUse HTTPS: True\n",
      "\tPort: 443\n",
      "\tSSL Port: 443\n",
      "INFO: Query finished. [astroquery.utils.tap.core]\n"
     ]
    },
    {
     "data": {
      "text/html": [
       "<i>Table length=176</i>\n",
       "<table id=\"table4801846960\" class=\"table-striped table-bordered table-condensed\">\n",
       "<thead><tr><th>dist</th><th>solution_id</th><th>designation</th><th>source_id</th><th>random_index</th><th>ref_epoch</th><th>ra</th><th>ra_error</th><th>dec</th><th>dec_error</th><th>parallax</th><th>parallax_error</th><th>parallax_over_error</th><th>pmra</th><th>pmra_error</th><th>pmdec</th><th>pmdec_error</th><th>ra_dec_corr</th><th>ra_parallax_corr</th><th>ra_pmra_corr</th><th>ra_pmdec_corr</th><th>dec_parallax_corr</th><th>dec_pmra_corr</th><th>dec_pmdec_corr</th><th>parallax_pmra_corr</th><th>parallax_pmdec_corr</th><th>pmra_pmdec_corr</th><th>astrometric_n_obs_al</th><th>astrometric_n_obs_ac</th><th>astrometric_n_good_obs_al</th><th>astrometric_n_bad_obs_al</th><th>astrometric_gof_al</th><th>astrometric_chi2_al</th><th>astrometric_excess_noise</th><th>astrometric_excess_noise_sig</th><th>astrometric_params_solved</th><th>astrometric_primary_flag</th><th>astrometric_weight_al</th><th>astrometric_pseudo_colour</th><th>astrometric_pseudo_colour_error</th><th>mean_varpi_factor_al</th><th>astrometric_matched_observations</th><th>visibility_periods_used</th><th>astrometric_sigma5d_max</th><th>frame_rotator_object_type</th><th>matched_observations</th><th>duplicated_source</th><th>phot_g_n_obs</th><th>phot_g_mean_flux</th><th>phot_g_mean_flux_error</th><th>phot_g_mean_flux_over_error</th><th>phot_g_mean_mag</th><th>phot_bp_n_obs</th><th>phot_bp_mean_flux</th><th>phot_bp_mean_flux_error</th><th>phot_bp_mean_flux_over_error</th><th>phot_bp_mean_mag</th><th>phot_rp_n_obs</th><th>phot_rp_mean_flux</th><th>phot_rp_mean_flux_error</th><th>phot_rp_mean_flux_over_error</th><th>phot_rp_mean_mag</th><th>phot_bp_rp_excess_factor</th><th>phot_proc_mode</th><th>bp_rp</th><th>bp_g</th><th>g_rp</th><th>radial_velocity</th><th>radial_velocity_error</th><th>rv_nb_transits</th><th>rv_template_teff</th><th>rv_template_logg</th><th>rv_template_fe_h</th><th>phot_variable_flag</th><th>l</th><th>b</th><th>ecl_lon</th><th>ecl_lat</th><th>priam_flags</th><th>teff_val</th><th>teff_percentile_lower</th><th>teff_percentile_upper</th><th>a_g_val</th><th>a_g_percentile_lower</th><th>a_g_percentile_upper</th><th>e_bp_min_rp_val</th><th>e_bp_min_rp_percentile_lower</th><th>e_bp_min_rp_percentile_upper</th><th>flame_flags</th><th>radius_val</th><th>radius_percentile_lower</th><th>radius_percentile_upper</th><th>lum_val</th><th>lum_percentile_lower</th><th>lum_percentile_upper</th><th>datalink_url</th><th>epoch_photometry_url</th></tr></thead>\n",
       "<thead><tr><th></th><th></th><th></th><th></th><th></th><th>yr</th><th>deg</th><th>mas</th><th>deg</th><th>mas</th><th>mas</th><th>mas</th><th></th><th>mas / yr</th><th>mas / yr</th><th>mas / yr</th><th>mas / yr</th><th></th><th></th><th></th><th></th><th></th><th></th><th></th><th></th><th></th><th></th><th></th><th></th><th></th><th></th><th></th><th></th><th>mas</th><th></th><th></th><th></th><th>1 / mas2</th><th>1 / um</th><th>1 / um</th><th></th><th></th><th></th><th>mas</th><th></th><th></th><th></th><th></th><th>electron / s</th><th>electron / s</th><th></th><th>mag</th><th></th><th>electron / s</th><th>electron / s</th><th></th><th>mag</th><th></th><th>electron / s</th><th>electron / s</th><th></th><th>mag</th><th></th><th></th><th>mag</th><th>mag</th><th>mag</th><th>km / s</th><th>km / s</th><th></th><th>K</th><th>log(cm.s**-2)</th><th>dex</th><th></th><th>deg</th><th>deg</th><th>deg</th><th>deg</th><th></th><th>K</th><th>K</th><th>K</th><th>mag</th><th>mag</th><th>mag</th><th>mag</th><th>mag</th><th>mag</th><th></th><th>Rsun</th><th>Rsun</th><th>Rsun</th><th>Lsun</th><th>Lsun</th><th>Lsun</th><th></th><th></th></tr></thead>\n",
       "<thead><tr><th>float64</th><th>int64</th><th>object</th><th>int64</th><th>int64</th><th>float64</th><th>float64</th><th>float64</th><th>float64</th><th>float64</th><th>float64</th><th>float64</th><th>float32</th><th>float64</th><th>float64</th><th>float64</th><th>float64</th><th>float32</th><th>float32</th><th>float32</th><th>float32</th><th>float32</th><th>float32</th><th>float32</th><th>float32</th><th>float32</th><th>float32</th><th>int32</th><th>int32</th><th>int32</th><th>int32</th><th>float32</th><th>float32</th><th>float64</th><th>float64</th><th>int16</th><th>bool</th><th>float32</th><th>float64</th><th>float64</th><th>float32</th><th>int16</th><th>int16</th><th>float32</th><th>int32</th><th>int16</th><th>bool</th><th>int32</th><th>float64</th><th>float64</th><th>float32</th><th>float32</th><th>int32</th><th>float64</th><th>float64</th><th>float32</th><th>float32</th><th>int32</th><th>float64</th><th>float64</th><th>float32</th><th>float32</th><th>float32</th><th>int16</th><th>float32</th><th>float32</th><th>float32</th><th>float64</th><th>float64</th><th>int32</th><th>float32</th><th>float32</th><th>float32</th><th>object</th><th>float64</th><th>float64</th><th>float64</th><th>float64</th><th>int64</th><th>float32</th><th>float32</th><th>float32</th><th>float32</th><th>float32</th><th>float32</th><th>float32</th><th>float32</th><th>float32</th><th>int64</th><th>float32</th><th>float32</th><th>float32</th><th>float32</th><th>float32</th><th>float32</th><th>object</th><th>object</th></tr></thead>\n",
       "<tr><td>0.0026034636994048854</td><td>1635721458409799680</td><td>Gaia DR2 6636090334814214528</td><td>6636090334814214528</td><td>1176213019</td><td>2015.5</td><td>280.0002535109784</td><td>0.29861262266219235</td><td>-60.00259470935402</td><td>0.3286090424553563</td><td>-0.3110984894867886</td><td>0.4659006859423401</td><td>-0.66773564</td><td>-0.3829646819799206</td><td>0.5485869545050303</td><td>-6.494624923325772</td><td>0.5631744832783001</td><td>0.14009339</td><td>-0.032677036</td><td>-0.040756915</td><td>0.1848471</td><td>-0.24814793</td><td>0.25431943</td><td>-0.020390274</td><td>-0.41731763</td><td>-0.023678254</td><td>0.053505838</td><td>273</td><td>0</td><td>272</td><td>1</td><td>2.0634625</td><td>316.8305</td><td>0.8687575596881527</td><td>0.8324284930248446</td><td>31</td><td>False</td><td>0.08247371</td><td>1.5682945669210009</td><td>0.10173123960452841</td><td>0.09272486</td><td>31</td><td>14</td><td>0.5277922</td><td>0</td><td>32</td><td>False</td><td>277</td><td>229.27686620684315</td><td>1.1770479415122068</td><td>194.78975</td><td>19.787466</td><td>29</td><td>132.09798809841195</td><td>9.236134667236668</td><td>14.302302</td><td>20.049149</td><td>25</td><td>169.83721262885817</td><td>6.933962725221738</td><td>24.493528</td><td>19.186838</td><td>1.3169022</td><td>0</td><td>0.8623104</td><td>0.2616825</td><td>0.6006279</td><td>--</td><td>--</td><td>0</td><td>--</td><td>--</td><td>--</td><td>NOT_AVAILABLE</td><td>335.4869899853897</td><td>-21.882743330467846</td><td>276.222852405146</td><td>-36.779152165694725</td><td>--</td><td>--</td><td>--</td><td>--</td><td>--</td><td>--</td><td>--</td><td>--</td><td>--</td><td>--</td><td>--</td><td>--</td><td>--</td><td>--</td><td>--</td><td>--</td><td>--</td><td>https://gea.esac.esa.int/data-server/datalink/links?ID=Gaia+DR2+6636090334814214528</td><td></td></tr>\n",
       "<tr><td>0.0038518741347606357</td><td>1635721458409799680</td><td>Gaia DR2 6636090339113063296</td><td>6636090339113063296</td><td>570813457</td><td>2015.5</td><td>280.0051165709225</td><td>0.050240754418698456</td><td>-59.9971106177236</td><td>0.05569779779421987</td><td>2.1445897979735338</td><td>0.08686626499655296</td><td>24.688408</td><td>-30.239136112439823</td><td>0.09715628380624572</td><td>7.29370185769282</td><td>0.0908715196903835</td><td>-0.0498363</td><td>0.11446786</td><td>-0.18721049</td><td>0.35760036</td><td>-0.4172074</td><td>0.47041324</td><td>-0.055835903</td><td>-0.5549303</td><td>0.14921485</td><td>-0.123301156</td><td>264</td><td>0</td><td>262</td><td>2</td><td>2.5903792</td><td>319.54343</td><td>0.2221438529687765</td><td>2.164099682113238</td><td>31</td><td>False</td><td>3.5670664</td><td>1.4180211041511326</td><td>0.015143605381231719</td><td>0.07440901</td><td>30</td><td>14</td><td>0.10592062</td><td>0</td><td>31</td><td>False</td><td>256</td><td>4190.134904536919</td><td>3.2053909995733343</td><td>1307.215</td><td>16.632795</td><td>27</td><td>1280.5501396270038</td><td>8.934403906995241</td><td>143.32799</td><td>17.582897</td><td>25</td><td>4354.193392244988</td><td>10.443625853844335</td><td>416.92352</td><td>15.664651</td><td>1.3447642</td><td>1</td><td>1.9182463</td><td>0.95010185</td><td>0.9681444</td><td>--</td><td>--</td><td>0</td><td>--</td><td>--</td><td>--</td><td>NOT_AVAILABLE</td><td>335.49340340182914</td><td>-21.883498064512462</td><td>276.2264674062974</td><td>-36.773898257890345</td><td>100002</td><td>3817.0</td><td>3770.0</td><td>4162.607</td><td>0.185</td><td>0.1696</td><td>0.4096</td><td>0.0985</td><td>0.092</td><td>0.212</td><td>200111</td><td>0.59558856</td><td>0.5007949</td><td>0.6105314</td><td>0.067838475</td><td>0.062135242</td><td>0.07354171</td><td>https://gea.esac.esa.int/data-server/datalink/links?ID=Gaia+DR2+6636090339113063296</td><td></td></tr>\n",
       "<tr><td>0.00454542650096783</td><td>1635721458409799680</td><td>Gaia DR2 6636090334814217600</td><td>6636090334814217600</td><td>102584636</td><td>2015.5</td><td>279.9946988287492</td><td>0.16521426375353068</td><td>-59.99630486171416</td><td>0.1864237689240485</td><td>0.9688155923687815</td><td>0.25043900586680284</td><td>3.8684692</td><td>-8.897375357008787</td><td>0.294858050065901</td><td>-5.690908690922628</td><td>0.33715022074415335</td><td>0.22834745</td><td>0.059250645</td><td>-0.018428234</td><td>0.28630736</td><td>-0.1463257</td><td>0.290733</td><td>0.03628694</td><td>-0.37959772</td><td>0.08093054</td><td>0.14127383</td><td>265</td><td>0</td><td>264</td><td>1</td><td>2.0693033</td><td>308.25958</td><td>0.2736939576560081</td><td>0.2693460152739884</td><td>31</td><td>False</td><td>0.29089886</td><td>1.531518591660576</td><td>0.05314535440198931</td><td>0.10847712</td><td>30</td><td>13</td><td>0.3106436</td><td>0</td><td>31</td><td>False</td><td>264</td><td>540.7628811935804</td><td>1.5038294542703214</td><td>359.59058</td><td>18.855848</td><td>26</td><td>263.87029576623746</td><td>8.27411779082986</td><td>31.891048</td><td>19.297913</td><td>25</td><td>415.03082241130414</td><td>10.463021527480453</td><td>39.66644</td><td>18.216719</td><td>1.2554506</td><td>0</td><td>1.0811939</td><td>0.4420643</td><td>0.63912964</td><td>--</td><td>--</td><td>0</td><td>--</td><td>--</td><td>--</td><td>NOT_AVAILABLE</td><td>335.49262313244355</td><td>-21.87827669307047</td><td>276.22007485384535</td><td>-36.77264628739062</td><td>--</td><td>--</td><td>--</td><td>--</td><td>--</td><td>--</td><td>--</td><td>--</td><td>--</td><td>--</td><td>--</td><td>--</td><td>--</td><td>--</td><td>--</td><td>--</td><td>--</td><td>https://gea.esac.esa.int/data-server/datalink/links?ID=Gaia+DR2+6636090334814217600</td><td></td></tr>\n",
       "<tr><td>0.005613919443965546</td><td>1635721458409799680</td><td>Gaia DR2 6636089583198816640</td><td>6636089583198816640</td><td>443622133</td><td>2015.5</td><td>280.0061790343958</td><td>0.05441021212190176</td><td>-60.00468454774671</td><td>0.057729908687098624</td><td>0.3848214098919721</td><td>0.08511268516638217</td><td>4.5213165</td><td>-3.563092214017404</td><td>0.10056435871142261</td><td>-2.2298480170787394</td><td>0.09783062609649834</td><td>0.061263476</td><td>-0.025290672</td><td>-0.11330936</td><td>0.31169647</td><td>-0.30488747</td><td>0.3796179</td><td>-0.031975456</td><td>-0.44397</td><td>0.034300722</td><td>-0.037382763</td><td>283</td><td>0</td><td>282</td><td>1</td><td>1.3032827</td><td>308.10568</td><td>0.1029594770822604</td><td>0.3304635241126054</td><td>31</td><td>False</td><td>2.6840675</td><td>1.5823565656833896</td><td>0.01668581277784067</td><td>0.08774646</td><td>32</td><td>14</td><td>0.10237216</td><td>0</td><td>34</td><td>False</td><td>287</td><td>2883.6776080044506</td><td>2.274241920332662</td><td>1267.9731</td><td>17.0385</td><td>31</td><td>1470.87591559009</td><td>10.833687428734049</td><td>135.76872</td><td>17.432447</td><td>29</td><td>2068.8599924123996</td><td>13.25709677129947</td><td>156.0568</td><td>16.472591</td><td>1.2275075</td><td>0</td><td>0.95985603</td><td>0.3939476</td><td>0.56590843</td><td>--</td><td>--</td><td>0</td><td>--</td><td>--</td><td>--</td><td>NOT_AVAILABLE</td><td>335.485749082865</td><td>-21.886180995971543</td><td>276.2263122340009</td><td>-36.781489776872135</td><td>100001</td><td>5397.0</td><td>5146.75</td><td>5947.043</td><td>0.2878</td><td>0.1665</td><td>0.4416</td><td>0.1542</td><td>0.0919</td><td>0.2241</td><td>--</td><td>--</td><td>--</td><td>--</td><td>--</td><td>--</td><td>--</td><td>https://gea.esac.esa.int/data-server/datalink/links?ID=Gaia+DR2+6636089583198816640</td><td></td></tr>\n",
       "<tr><td>0.005846434715822121</td><td>1635721458409799680</td><td>Gaia DR2 6636090334814218752</td><td>6636090334814218752</td><td>979091127</td><td>2015.5</td><td>280.0012742664815</td><td>0.6195434505729727</td><td>-59.99418201693997</td><td>0.6602070192156307</td><td>0.13277662381509203</td><td>0.8198713929944924</td><td>0.16194811</td><td>-3.0991244661770523</td><td>1.1446472725602228</td><td>-5.224706056622109</td><td>1.2047901077087704</td><td>0.111432716</td><td>0.12733132</td><td>-0.42034313</td><td>0.29454312</td><td>-0.0051340405</td><td>0.23694518</td><td>-0.17427506</td><td>-0.28196156</td><td>0.06255718</td><td>-0.07205836</td><td>206</td><td>0</td><td>206</td><td>0</td><td>-0.01708596</td><td>199.99245</td><td>0.0</td><td>0.0</td><td>31</td><td>False</td><td>0.031961173</td><td>1.580528281067667</td><td>0.19323888061259817</td><td>0.08293943</td><td>24</td><td>12</td><td>1.1451857</td><td>0</td><td>25</td><td>False</td><td>212</td><td>134.84543452997033</td><td>1.108395799367378</td><td>121.658195</td><td>20.363775</td><td>18</td><td>94.74472975193129</td><td>12.496218229090562</td><td>7.581872</td><td>20.41</td><td>19</td><td>154.37504376916712</td><td>14.271717770256386</td><td>10.816851</td><td>19.290478</td><td>1.8474468</td><td>0</td><td>1.1195221</td><td>0.046224594</td><td>1.0732975</td><td>--</td><td>--</td><td>0</td><td>--</td><td>--</td><td>--</td><td>NOT_AVAILABLE</td><td>335.4958320132907</td><td>-21.88081671673665</td><td>276.2243930202022</td><td>-36.7708148342809</td><td>--</td><td>--</td><td>--</td><td>--</td><td>--</td><td>--</td><td>--</td><td>--</td><td>--</td><td>--</td><td>--</td><td>--</td><td>--</td><td>--</td><td>--</td><td>--</td><td>--</td><td>https://gea.esac.esa.int/data-server/datalink/links?ID=Gaia+DR2+6636090334814218752</td><td></td></tr>\n",
       "<tr><td>0.006209042666371929</td><td>1635721458409799680</td><td>Gaia DR2 6636090334814213632</td><td>6636090334814213632</td><td>132293776</td><td>2015.5</td><td>279.99130734078676</td><td>0.20253705277688275</td><td>-60.00442412587195</td><td>0.22243093125093147</td><td>0.22548834238373403</td><td>0.3149116832364701</td><td>0.71603674</td><td>-5.0841858830066196</td><td>0.3658660399607021</td><td>-9.28105696889515</td><td>0.3887147839192824</td><td>0.16654298</td><td>0.012625698</td><td>-0.041161086</td><td>0.26023406</td><td>-0.22603968</td><td>0.30183074</td><td>0.03700514</td><td>-0.40738112</td><td>0.056747817</td><td>0.07558889</td><td>267</td><td>0</td><td>267</td><td>0</td><td>2.8017168</td><td>330.73035</td><td>0.8136352878573919</td><td>1.7167726951827935</td><td>31</td><td>False</td><td>0.18997745</td><td>1.5473340878135693</td><td>0.06544165310657518</td><td>0.112318404</td><td>31</td><td>14</td><td>0.3592653</td><td>0</td><td>32</td><td>False</td><td>271</td><td>421.39242054351877</td><td>1.1451519874745826</td><td>367.97946</td><td>19.12665</td><td>29</td><td>156.3519362018381</td><td>7.11912255121175</td><td>21.962248</td><td>19.86613</td><td>29</td><td>418.0171531386287</td><td>6.839510954210813</td><td>61.11799</td><td>18.208935</td><td>1.3630266</td><td>0</td><td>1.657196</td><td>0.739481</td><td>0.9177151</td><td>--</td><td>--</td><td>0</td><td>--</td><td>--</td><td>--</td><td>NOT_AVAILABLE</td><td>335.48371750563587</td><td>-21.878984439223885</td><td>276.2170921056182</td><td>-36.78058921460378</td><td>--</td><td>--</td><td>--</td><td>--</td><td>--</td><td>--</td><td>--</td><td>--</td><td>--</td><td>--</td><td>--</td><td>--</td><td>--</td><td>--</td><td>--</td><td>--</td><td>--</td><td>https://gea.esac.esa.int/data-server/datalink/links?ID=Gaia+DR2+6636090334814213632</td><td></td></tr>\n",
       "<tr><td>0.007469463683838576</td><td>1635721458409799680</td><td>Gaia DR2 6636090339112308864</td><td>6636090339112308864</td><td>1584739981</td><td>2015.5</td><td>279.98842013364975</td><td>21.620294007116634</td><td>-60.00470815431409</td><td>8.67546594157327</td><td>--</td><td>--</td><td>--</td><td>--</td><td>--</td><td>--</td><td>--</td><td>-0.9218922</td><td>--</td><td>--</td><td>--</td><td>--</td><td>--</td><td>--</td><td>--</td><td>--</td><td>--</td><td>40</td><td>0</td><td>40</td><td>0</td><td>0.73331904</td><td>40.75849</td><td>0.0</td><td>0.0</td><td>3</td><td>False</td><td>0.011442242</td><td>--</td><td>--</td><td>-0.15453008</td><td>5</td><td>5</td><td>81.43395</td><td>0</td><td>5</td><td>False</td><td>42</td><td>65.7200741976643</td><td>1.7074324302380046</td><td>38.490585</td><td>21.144121</td><td>0</td><td>--</td><td>--</td><td>--</td><td>--</td><td>0</td><td>--</td><td>--</td><td>--</td><td>--</td><td>--</td><td>1</td><td>--</td><td>--</td><td>--</td><td>--</td><td>--</td><td>0</td><td>--</td><td>--</td><td>--</td><td>NOT_AVAILABLE</td><td>335.4829775550235</td><td>-21.877683443510964</td><td>276.215266101501</td><td>-36.780747831133674</td><td>--</td><td>--</td><td>--</td><td>--</td><td>--</td><td>--</td><td>--</td><td>--</td><td>--</td><td>--</td><td>--</td><td>--</td><td>--</td><td>--</td><td>--</td><td>--</td><td>--</td><td>https://gea.esac.esa.int/data-server/datalink/links?ID=Gaia+DR2+6636090339112308864</td><td></td></tr>\n",
       "<tr><td>0.008202004514524316</td><td>1635721458409799680</td><td>Gaia DR2 6636089583198816512</td><td>6636089583198816512</td><td>464575439</td><td>2015.5</td><td>280.00262438610275</td><td>0.039726038755539664</td><td>-60.00809123083787</td><td>0.042345975034544445</td><td>0.4775669513610416</td><td>0.061869821376390584</td><td>7.7188997</td><td>0.3750159731029641</td><td>0.07340472446096626</td><td>-0.7276330587297051</td><td>0.07165400702741247</td><td>0.053667903</td><td>-0.021911291</td><td>-0.14724973</td><td>0.31765592</td><td>-0.30830762</td><td>0.38585457</td><td>-0.081598364</td><td>-0.44672582</td><td>0.02773344</td><td>-0.046839394</td><td>277</td><td>0</td><td>277</td><td>0</td><td>-0.1670186</td><td>267.4633</td><td>0.0</td><td>0.0</td><td>31</td><td>False</td><td>5.2608852</td><td>1.5847503397030758</td><td>0.012163895386843754</td><td>0.08590585</td><td>32</td><td>14</td><td>0.077374995</td><td>0</td><td>33</td><td>False</td><td>280</td><td>4961.794960538018</td><td>3.197194570226844</td><td>1551.9215</td><td>16.449268</td><td>31</td><td>2565.1495289035665</td><td>12.009980749336867</td><td>213.58482</td><td>16.828606</td><td>32</td><td>3499.2999847827164</td><td>10.725598956525726</td><td>326.25684</td><td>15.901967</td><td>1.222229</td><td>0</td><td>0.9266386</td><td>0.3793373</td><td>0.5473013</td><td>--</td><td>--</td><td>0</td><td>--</td><td>--</td><td>--</td><td>NOT_AVAILABLE</td><td>335.4816826268837</td><td>-21.885456599728546</td><td>276.2237347996592</td><td>-36.7847304353993</td><td>100001</td><td>5364.02</td><td>5035.3604</td><td>5492.0</td><td>0.265</td><td>0.1202</td><td>0.413</td><td>0.1275</td><td>0.0563</td><td>0.204</td><td>200111</td><td>1.0937419</td><td>1.043361</td><td>1.2411792</td><td>0.89224875</td><td>0.6450995</td><td>1.139398</td><td>https://gea.esac.esa.int/data-server/datalink/links?ID=Gaia+DR2+6636089583198816512</td><td></td></tr>\n",
       "<tr><td>0.008338509690874027</td><td>1635721458409799680</td><td>Gaia DR2 6636089583198817664</td><td>6636089583198817664</td><td>592524481</td><td>2015.5</td><td>279.9998107818377</td><td>0.05511798988415832</td><td>-60.00833203802401</td><td>0.05883843479590986</td><td>0.38740920252385763</td><td>0.08711194279350623</td><td>4.447257</td><td>-0.7313230678372126</td><td>0.10168876734064976</td><td>-5.979741858993584</td><td>0.09940346904786362</td><td>0.06471813</td><td>-0.023309276</td><td>-0.1159015</td><td>0.3020962</td><td>-0.30216327</td><td>0.37166274</td><td>-0.04370218</td><td>-0.44925803</td><td>0.026587216</td><td>-0.03114987</td><td>285</td><td>0</td><td>284</td><td>1</td><td>-0.15700488</td><td>274.6474</td><td>0.0</td><td>0.0</td><td>31</td><td>False</td><td>2.5746384</td><td>1.5579808667847004</td><td>0.017287238747024175</td><td>0.08888473</td><td>32</td><td>14</td><td>0.10354039</td><td>0</td><td>33</td><td>False</td><td>283</td><td>2705.093836219762</td><td>2.1908188005924307</td><td>1234.741</td><td>17.10791</td><td>31</td><td>1370.7198818249863</td><td>8.001633035571205</td><td>171.30502</td><td>17.509016</td><td>30</td><td>1959.8770649981336</td><td>11.385850706149842</td><td>172.13269</td><td>16.531347</td><td>1.2312316</td><td>0</td><td>0.97766876</td><td>0.40110588</td><td>0.5765629</td><td>--</td><td>--</td><td>0</td><td>--</td><td>--</td><td>--</td><td>NOT_AVAILABLE</td><td>335.48099895015224</td><td>-21.88417846638651</td><td>276.2219592980502</td><td>-36.784849029954394</td><td>--</td><td>--</td><td>--</td><td>--</td><td>--</td><td>--</td><td>--</td><td>--</td><td>--</td><td>--</td><td>--</td><td>--</td><td>--</td><td>--</td><td>--</td><td>--</td><td>--</td><td>https://gea.esac.esa.int/data-server/datalink/links?ID=Gaia+DR2+6636089583198817664</td><td></td></tr>\n",
       "<tr><td>...</td><td>...</td><td>...</td><td>...</td><td>...</td><td>...</td><td>...</td><td>...</td><td>...</td><td>...</td><td>...</td><td>...</td><td>...</td><td>...</td><td>...</td><td>...</td><td>...</td><td>...</td><td>...</td><td>...</td><td>...</td><td>...</td><td>...</td><td>...</td><td>...</td><td>...</td><td>...</td><td>...</td><td>...</td><td>...</td><td>...</td><td>...</td><td>...</td><td>...</td><td>...</td><td>...</td><td>...</td><td>...</td><td>...</td><td>...</td><td>...</td><td>...</td><td>...</td><td>...</td><td>...</td><td>...</td><td>...</td><td>...</td><td>...</td><td>...</td><td>...</td><td>...</td><td>...</td><td>...</td><td>...</td><td>...</td><td>...</td><td>...</td><td>...</td><td>...</td><td>...</td><td>...</td><td>...</td><td>...</td><td>...</td><td>...</td><td>...</td><td>...</td><td>...</td><td>...</td><td>...</td><td>...</td><td>...</td><td>...</td><td>...</td><td>...</td><td>...</td><td>...</td><td>...</td><td>...</td><td>...</td><td>...</td><td>...</td><td>...</td><td>...</td><td>...</td><td>...</td><td>...</td><td>...</td><td>...</td><td>...</td><td>...</td><td>...</td><td>...</td><td>...</td><td>...</td><td>...</td></tr>\n",
       "<tr><td>0.049718018073992835</td><td>1635721458409799680</td><td>Gaia DR2 6636065840618385920</td><td>6636065840618385920</td><td>1381042950</td><td>2015.5</td><td>279.9775912756951</td><td>0.8641589815979704</td><td>-60.04843404479174</td><td>0.8432138819487431</td><td>-0.1381155607089857</td><td>1.1651969961614823</td><td>-0.11853409</td><td>-1.2502828595068698</td><td>1.4113439254251852</td><td>-7.432956710508826</td><td>1.5720226038952765</td><td>-0.17379855</td><td>-0.3503923</td><td>-0.45218527</td><td>0.4202303</td><td>0.16987081</td><td>0.29607978</td><td>-0.47441214</td><td>-0.09857007</td><td>-0.35400397</td><td>-0.24096607</td><td>212</td><td>0</td><td>211</td><td>1</td><td>2.1458468</td><td>251.93465</td><td>2.5397363886595126</td><td>1.7164285846720042</td><td>31</td><td>False</td><td>0.020009324</td><td>1.6038789566974274</td><td>0.2270397273392455</td><td>0.05733046</td><td>24</td><td>12</td><td>1.6469796</td><td>0</td><td>25</td><td>False</td><td>219</td><td>111.01751280432038</td><td>0.951714537552846</td><td>116.65001</td><td>20.574886</td><td>17</td><td>42.61649155327841</td><td>5.8576466094553234</td><td>7.2753606</td><td>21.277445</td><td>23</td><td>133.26416480564902</td><td>7.279788331708842</td><td>18.30605</td><td>19.450136</td><td>1.5842605</td><td>0</td><td>1.8273087</td><td>0.7025585</td><td>1.1247501</td><td>--</td><td>--</td><td>0</td><td>--</td><td>--</td><td>--</td><td>NOT_AVAILABLE</td><td>335.4361676310349</td><td>-21.885058789027145</td><td>276.20383162895945</td><td>-36.823845351092935</td><td>--</td><td>--</td><td>--</td><td>--</td><td>--</td><td>--</td><td>--</td><td>--</td><td>--</td><td>--</td><td>--</td><td>--</td><td>--</td><td>--</td><td>--</td><td>--</td><td>--</td><td>https://gea.esac.esa.int/data-server/datalink/links?ID=Gaia+DR2+6636065840618385920</td><td></td></tr>\n",
       "<tr><td>0.04977869666747251</td><td>1635721458409799680</td><td>Gaia DR2 6636070169943709568</td><td>6636070169943709568</td><td>903947742</td><td>2015.5</td><td>279.96534645379444</td><td>0.29955226286338327</td><td>-59.95333448030373</td><td>0.31354335639255143</td><td>2.328946757536838</td><td>0.4434040162170152</td><td>5.252426</td><td>-10.961710949163344</td><td>0.5455536349080898</td><td>9.744853594399466</td><td>0.5599722252545805</td><td>0.004183625</td><td>-0.11728206</td><td>-0.16392888</td><td>0.28883994</td><td>-0.13736847</td><td>0.29119068</td><td>-0.08146027</td><td>-0.34698138</td><td>-0.025765</td><td>-0.11471519</td><td>238</td><td>0</td><td>238</td><td>0</td><td>3.2955468</td><td>310.81854</td><td>1.1773124664219117</td><td>1.8703779129179425</td><td>31</td><td>False</td><td>0.1011542</td><td>1.3452085074147164</td><td>0.09212489451960405</td><td>0.04811657</td><td>27</td><td>13</td><td>0.5364394</td><td>0</td><td>29</td><td>False</td><td>255</td><td>274.07534024636385</td><td>1.0293860657945966</td><td>266.25125</td><td>19.59369</td><td>27</td><td>102.74868007283287</td><td>9.242273366667773</td><td>11.117251</td><td>20.321947</td><td>25</td><td>571.4288327615986</td><td>17.522366098309863</td><td>32.611397</td><td>17.869514</td><td>2.4598255</td><td>0</td><td>2.4524326</td><td>0.7282562</td><td>1.7241764</td><td>--</td><td>--</td><td>0</td><td>--</td><td>--</td><td>--</td><td>NOT_AVAILABLE</td><td>335.5324177379256</td><td>-21.851853118349915</td><td>276.2064263109253</td><td>-36.72857158916847</td><td>--</td><td>--</td><td>--</td><td>--</td><td>--</td><td>--</td><td>--</td><td>--</td><td>--</td><td>--</td><td>--</td><td>--</td><td>--</td><td>--</td><td>--</td><td>--</td><td>--</td><td>https://gea.esac.esa.int/data-server/datalink/links?ID=Gaia+DR2+6636070169943709568</td><td></td></tr>\n",
       "<tr><td>0.05006096698512638</td><td>1635721458409799680</td><td>Gaia DR2 6636070169947036928</td><td>6636070169947036928</td><td>24496394</td><td>2015.5</td><td>279.96535398635484</td><td>0.4152320860833346</td><td>-59.95303209569327</td><td>0.381045098959205</td><td>1.3170606639163505</td><td>0.5226304505042445</td><td>2.520061</td><td>-9.820384637229452</td><td>0.7649040746782511</td><td>8.838612445550186</td><td>0.7319544930669746</td><td>-0.17961887</td><td>-0.24326989</td><td>-0.23622285</td><td>0.37547308</td><td>-0.0019119692</td><td>0.3375337</td><td>-0.23276412</td><td>-0.14724165</td><td>-0.15795682</td><td>-0.3378425</td><td>198</td><td>0</td><td>197</td><td>1</td><td>2.4320827</td><td>242.93028</td><td>0.6681503708663927</td><td>0.3562540765600556</td><td>31</td><td>False</td><td>0.07744565</td><td>1.3835110486249471</td><td>0.11349903249627498</td><td>-0.015299717</td><td>23</td><td>12</td><td>0.7945772</td><td>0</td><td>28</td><td>False</td><td>219</td><td>211.32076192531795</td><td>1.0809217835800307</td><td>195.50052</td><td>19.87601</td><td>0</td><td>--</td><td>--</td><td>--</td><td>--</td><td>0</td><td>--</td><td>--</td><td>--</td><td>--</td><td>--</td><td>1</td><td>--</td><td>--</td><td>--</td><td>--</td><td>--</td><td>0</td><td>--</td><td>--</td><td>--</td><td>NOT_AVAILABLE</td><td>335.53273090711133</td><td>-21.851769674529553</td><td>276.20646340297947</td><td>-36.72827064582896</td><td>--</td><td>--</td><td>--</td><td>--</td><td>--</td><td>--</td><td>--</td><td>--</td><td>--</td><td>--</td><td>--</td><td>--</td><td>--</td><td>--</td><td>--</td><td>--</td><td>--</td><td>https://gea.esac.esa.int/data-server/datalink/links?ID=Gaia+DR2+6636070169947036928</td><td></td></tr>\n",
       "<tr><td>0.05038566478030134</td><td>1635721458409799680</td><td>Gaia DR2 6636090644051890048</td><td>6636090644051890048</td><td>62810207</td><td>2015.5</td><td>280.0297656345148</td><td>0.7944745825347991</td><td>-59.95185859081864</td><td>0.7641084401021202</td><td>1.6885243181770804</td><td>1.0534774503235538</td><td>1.6028101</td><td>3.9615281084139613</td><td>1.3635174720178287</td><td>-11.29110336640851</td><td>1.3929512752371391</td><td>0.065947466</td><td>-0.38457155</td><td>-0.26905224</td><td>0.34192273</td><td>-0.07425278</td><td>0.26403162</td><td>-0.24254355</td><td>-0.15390117</td><td>-0.26269397</td><td>-0.16590273</td><td>184</td><td>0</td><td>184</td><td>0</td><td>0.6816923</td><td>191.51228</td><td>0.0</td><td>0.0</td><td>31</td><td>False</td><td>0.02374477</td><td>1.8590586682257877</td><td>0.22334145312325135</td><td>0.09595698</td><td>21</td><td>11</td><td>1.3886288</td><td>0</td><td>22</td><td>False</td><td>193</td><td>102.6216499165314</td><td>1.0166619256048535</td><td>100.9398</td><td>20.660269</td><td>19</td><td>66.71746523032346</td><td>8.172740913081276</td><td>8.163414</td><td>20.790789</td><td>21</td><td>91.81172660261232</td><td>11.769156611153536</td><td>7.8010454</td><td>19.854675</td><td>1.5447929</td><td>0</td><td>0.93611336</td><td>0.13051987</td><td>0.8055935</td><td>--</td><td>--</td><td>0</td><td>--</td><td>--</td><td>--</td><td>NOT_AVAILABLE</td><td>335.54393223075897</td><td>-21.882323094543533</td><td>276.2466809895159</td><td>-36.729880420153414</td><td>--</td><td>--</td><td>--</td><td>--</td><td>--</td><td>--</td><td>--</td><td>--</td><td>--</td><td>--</td><td>--</td><td>--</td><td>--</td><td>--</td><td>--</td><td>--</td><td>--</td><td>https://gea.esac.esa.int/data-server/datalink/links?ID=Gaia+DR2+6636090644051890048</td><td></td></tr>\n",
       "<tr><td>0.050827895451955894</td><td>1635721458409799680</td><td>Gaia DR2 6636065836320737408</td><td>6636065836320737408</td><td>1686022086</td><td>2015.5</td><td>279.96672749305054</td><td>0.21856020301130802</td><td>-60.04802496311726</td><td>0.23406294906384217</td><td>0.7947916977706979</td><td>0.3378664244431962</td><td>2.3523843</td><td>11.541007364355114</td><td>0.39206024804463274</td><td>-15.228668607743058</td><td>0.4118083114738913</td><td>0.10382294</td><td>-0.04051433</td><td>-0.030114172</td><td>0.17301452</td><td>-0.18286641</td><td>0.21811569</td><td>-0.06940989</td><td>-0.42765516</td><td>0.011142649</td><td>0.059354015</td><td>271</td><td>0</td><td>270</td><td>1</td><td>0.7228227</td><td>281.2971</td><td>0.07090967080428172</td><td>0.008459609404712538</td><td>31</td><td>False</td><td>0.15533394</td><td>1.3764108702970672</td><td>0.07243015271751393</td><td>0.06972853</td><td>31</td><td>14</td><td>0.37691137</td><td>0</td><td>33</td><td>False</td><td>278</td><td>337.5898847318725</td><td>1.095523871141809</td><td>308.15384</td><td>19.367392</td><td>30</td><td>119.72091813764482</td><td>6.564147134646197</td><td>18.23861</td><td>20.155964</td><td>28</td><td>329.3506812869782</td><td>6.412422956465121</td><td>51.361347</td><td>18.467773</td><td>1.3302282</td><td>0</td><td>1.6881905</td><td>0.7885723</td><td>0.89961815</td><td>--</td><td>--</td><td>0</td><td>--</td><td>--</td><td>--</td><td>NOT_AVAILABLE</td><td>335.43491122026154</td><td>-21.87974583287206</td><td>276.19712489732615</td><td>-36.82297104656966</td><td>--</td><td>--</td><td>--</td><td>--</td><td>--</td><td>--</td><td>--</td><td>--</td><td>--</td><td>--</td><td>--</td><td>--</td><td>--</td><td>--</td><td>--</td><td>--</td><td>--</td><td>https://gea.esac.esa.int/data-server/datalink/links?ID=Gaia+DR2+6636065836320737408</td><td></td></tr>\n",
       "<tr><td>0.050860907684754444</td><td>1635721458409799680</td><td>Gaia DR2 6633086851303261824</td><td>6633086851303261824</td><td>737916244</td><td>2015.5</td><td>280.04926052929</td><td>0.07862061315065796</td><td>-60.04450501278681</td><td>0.08221886024903112</td><td>0.22730975971320153</td><td>0.11788306720774511</td><td>1.9282647</td><td>-3.0607234572571187</td><td>0.14164763947155434</td><td>-6.503817481108763</td><td>0.14644667080897614</td><td>0.05726485</td><td>0.009962055</td><td>-0.13474101</td><td>0.22181678</td><td>-0.18819818</td><td>0.25545475</td><td>-0.0725614</td><td>-0.40784824</td><td>0.079322375</td><td>-0.013143382</td><td>265</td><td>0</td><td>263</td><td>2</td><td>1.9517498</td><td>304.17865</td><td>0.3208735304771628</td><td>1.703322229151045</td><td>31</td><td>False</td><td>1.2888811</td><td>1.6445290762153282</td><td>0.025394881122352473</td><td>0.08817912</td><td>30</td><td>14</td><td>0.1388617</td><td>0</td><td>31</td><td>False</td><td>266</td><td>1759.8916566987818</td><td>1.8014460475912857</td><td>976.93274</td><td>17.574652</td><td>28</td><td>925.0944703248156</td><td>9.23958094964492</td><td>100.12299</td><td>17.935923</td><td>27</td><td>1228.3279035619564</td><td>9.303662811100516</td><td>132.02628</td><td>17.038633</td><td>1.2236108</td><td>0</td><td>0.8972893</td><td>0.3612709</td><td>0.5360184</td><td>--</td><td>--</td><td>0</td><td>--</td><td>--</td><td>--</td><td>NOT_AVAILABLE</td><td>335.45127999828554</td><td>-21.918215162797555</td><td>276.2487917128948</td><td>-36.823022914229334</td><td>--</td><td>--</td><td>--</td><td>--</td><td>--</td><td>--</td><td>--</td><td>--</td><td>--</td><td>--</td><td>--</td><td>--</td><td>--</td><td>--</td><td>--</td><td>--</td><td>--</td><td>https://gea.esac.esa.int/data-server/datalink/links?ID=Gaia+DR2+6633086851303261824</td><td></td></tr>\n",
       "<tr><td>0.051038347209386326</td><td>1635721458409799680</td><td>Gaia DR2 6636070165653491328</td><td>6636070165653491328</td><td>633495148</td><td>2015.5</td><td>279.9569995285757</td><td>0.2712204087566175</td><td>-59.95371440280011</td><td>0.2852612258961465</td><td>0.8320875380449885</td><td>0.3946749295280818</td><td>2.1082857</td><td>-4.597834330512161</td><td>0.4898320627490236</td><td>-12.371674330005069</td><td>0.4984863704132117</td><td>0.13776913</td><td>-0.10097907</td><td>-0.12707224</td><td>0.17172273</td><td>-0.19309938</td><td>0.20821011</td><td>-0.047512326</td><td>-0.3562573</td><td>0.0043948926</td><td>0.018627852</td><td>246</td><td>0</td><td>244</td><td>2</td><td>1.8201525</td><td>280.30182</td><td>0.0</td><td>0.0</td><td>31</td><td>False</td><td>0.1169887</td><td>1.3315769057778999</td><td>0.08695596747076963</td><td>0.099675834</td><td>28</td><td>13</td><td>0.45518374</td><td>0</td><td>30</td><td>False</td><td>261</td><td>273.5616424484782</td><td>0.9210423913934775</td><td>297.0131</td><td>19.595728</td><td>29</td><td>153.06098143980194</td><td>10.033425217266212</td><td>15.255108</td><td>19.889227</td><td>27</td><td>300.7029918474375</td><td>10.19404597529189</td><td>29.497904</td><td>18.566576</td><td>1.6587266</td><td>0</td><td>1.3226509</td><td>0.293499</td><td>1.0291519</td><td>--</td><td>--</td><td>0</td><td>--</td><td>--</td><td>--</td><td>NOT_AVAILABLE</td><td>335.5307291596643</td><td>-21.847960208354404</td><td>276.20119034139543</td><td>-36.72859130852167</td><td>--</td><td>--</td><td>--</td><td>--</td><td>--</td><td>--</td><td>--</td><td>--</td><td>--</td><td>--</td><td>--</td><td>--</td><td>--</td><td>--</td><td>--</td><td>--</td><td>--</td><td>https://gea.esac.esa.int/data-server/datalink/links?ID=Gaia+DR2+6636070165653491328</td><td></td></tr>\n",
       "<tr><td>0.05121063325107872</td><td>1635721458409799680</td><td>Gaia DR2 6636065840618481024</td><td>6636065840618481024</td><td>1102188797</td><td>2015.5</td><td>279.9760084716956</td><td>0.9897758284076448</td><td>-60.049781055503765</td><td>0.7769289024345702</td><td>0.19002435439907372</td><td>1.0401241248874258</td><td>0.18269391</td><td>1.0945203623088346</td><td>1.6213165466939397</td><td>-3.17331826052516</td><td>1.492018360327951</td><td>0.1422257</td><td>-0.44667986</td><td>-0.5129686</td><td>0.21281558</td><td>-0.05912004</td><td>0.07322331</td><td>-0.40108284</td><td>0.076265454</td><td>-0.28282896</td><td>-0.04917973</td><td>175</td><td>0</td><td>175</td><td>0</td><td>0.7170417</td><td>182.86653</td><td>0.0</td><td>0.0</td><td>31</td><td>False</td><td>0.02398874</td><td>1.4977742469372504</td><td>0.22828540603533998</td><td>0.10880181</td><td>20</td><td>12</td><td>1.5821613</td><td>0</td><td>21</td><td>False</td><td>184</td><td>108.21305166955898</td><td>0.9599511597685823</td><td>112.72766</td><td>20.602667</td><td>13</td><td>45.80080483660033</td><td>8.133183789646496</td><td>5.63135</td><td>21.199205</td><td>14</td><td>84.84269296085449</td><td>4.236373465947693</td><td>20.027199</td><td>19.940384</td><td>1.2072804</td><td>0</td><td>1.2588215</td><td>0.59653854</td><td>0.66228294</td><td>--</td><td>--</td><td>0</td><td>--</td><td>--</td><td>--</td><td>NOT_AVAILABLE</td><td>335.43453261652945</td><td>-21.88468859864711</td><td>276.2027032243358</td><td>-36.82511932816769</td><td>--</td><td>--</td><td>--</td><td>--</td><td>--</td><td>--</td><td>--</td><td>--</td><td>--</td><td>--</td><td>--</td><td>--</td><td>--</td><td>--</td><td>--</td><td>--</td><td>--</td><td>https://gea.esac.esa.int/data-server/datalink/links?ID=Gaia+DR2+6636065840618481024</td><td></td></tr>\n",
       "<tr><td>0.051957226883925664</td><td>1635721458409799680</td><td>Gaia DR2 6636093637644158592</td><td>6636093637644158592</td><td>302401525</td><td>2015.5</td><td>279.96893117549996</td><td>0.3042044403249713</td><td>-59.95041858311343</td><td>0.34346150560075756</td><td>-0.3282752060244559</td><td>0.4629698169789635</td><td>-0.70906395</td><td>-4.35315993950738</td><td>0.551568046437229</td><td>-4.879063095990217</td><td>0.5910372044923774</td><td>0.18458547</td><td>-0.076051034</td><td>-0.12057853</td><td>0.06024799</td><td>-0.113638125</td><td>0.09821463</td><td>-0.15991838</td><td>-0.4197801</td><td>0.022664532</td><td>0.100266546</td><td>227</td><td>0</td><td>226</td><td>1</td><td>3.190351</td><td>294.28003</td><td>1.3036961426007465</td><td>2.0674422817651195</td><td>31</td><td>False</td><td>0.09319229</td><td>1.639646937810609</td><td>0.10035048946213386</td><td>0.08123147</td><td>26</td><td>13</td><td>0.5370391</td><td>0</td><td>28</td><td>False</td><td>241</td><td>276.6720850802913</td><td>1.174659690633693</td><td>235.53381</td><td>19.583452</td><td>24</td><td>153.79657740195452</td><td>10.82610050313554</td><td>14.206092</td><td>19.884022</td><td>22</td><td>239.24793017461758</td><td>12.779474784780364</td><td>18.721264</td><td>18.8148</td><td>1.420615</td><td>0</td><td>1.0692215</td><td>0.30056953</td><td>0.76865196</td><td>--</td><td>--</td><td>0</td><td>--</td><td>--</td><td>--</td><td>NOT_AVAILABLE</td><td>335.5359831167085</td><td>-21.852732664602282</td><td>276.2089700801917</td><td>-36.72582065886876</td><td>--</td><td>--</td><td>--</td><td>--</td><td>--</td><td>--</td><td>--</td><td>--</td><td>--</td><td>--</td><td>--</td><td>--</td><td>--</td><td>--</td><td>--</td><td>--</td><td>--</td><td>https://gea.esac.esa.int/data-server/datalink/links?ID=Gaia+DR2+6636093637644158592</td><td></td></tr>\n",
       "<tr><td>0.05320916763883812</td><td>1635721458409799680</td><td>Gaia DR2 6633086847005369088</td><td>6633086847005369088</td><td>1433780739</td><td>2015.5</td><td>280.0446767687665</td><td>0.14324471250808138</td><td>-60.04829672239006</td><td>0.15660203031613895</td><td>0.2591454798749687</td><td>0.22644858575230767</td><td>1.1443899</td><td>-0.21103593945146448</td><td>0.2616675477382423</td><td>-10.122547172700827</td><td>0.26773908335478</td><td>0.0072631976</td><td>0.12661226</td><td>-0.18889219</td><td>0.15961619</td><td>-0.28213963</td><td>0.2510881</td><td>-0.25151014</td><td>-0.49597296</td><td>0.08929087</td><td>-0.00851205</td><td>247</td><td>0</td><td>246</td><td>1</td><td>2.247862</td><td>293.0358</td><td>0.5662981514947599</td><td>1.6952496073136964</td><td>31</td><td>False</td><td>0.41229177</td><td>1.5676491388224685</td><td>0.049536795996211594</td><td>0.037624393</td><td>28</td><td>14</td><td>0.26245573</td><td>0</td><td>29</td><td>False</td><td>249</td><td>772.4439276969392</td><td>1.5644364388754035</td><td>493.7522</td><td>18.468699</td><td>23</td><td>388.4388112510179</td><td>8.918134862912446</td><td>43.55606</td><td>18.878082</td><td>26</td><td>580.7288260039838</td><td>8.922834504034878</td><td>65.08345</td><td>17.851986</td><td>1.254677</td><td>0</td><td>1.0260963</td><td>0.40938377</td><td>0.61671257</td><td>--</td><td>--</td><td>0</td><td>--</td><td>--</td><td>--</td><td>NOT_AVAILABLE</td><td>335.44665779983467</td><td>-21.91710739652015</td><td>276.2455326866154</td><td>-36.82660193990204</td><td>--</td><td>--</td><td>--</td><td>--</td><td>--</td><td>--</td><td>--</td><td>--</td><td>--</td><td>--</td><td>--</td><td>--</td><td>--</td><td>--</td><td>--</td><td>--</td><td>--</td><td>https://gea.esac.esa.int/data-server/datalink/links?ID=Gaia+DR2+6633086847005369088</td><td></td></tr>\n",
       "</table>"
      ],
      "text/plain": [
       "<Table length=176>\n",
       "         dist             solution_id     ... epoch_photometry_url\n",
       "                                          ...                     \n",
       "       float64               int64        ...        object       \n",
       "--------------------- ------------------- ... --------------------\n",
       "0.0026034636994048854 1635721458409799680 ...                     \n",
       "0.0038518741347606357 1635721458409799680 ...                     \n",
       "  0.00454542650096783 1635721458409799680 ...                     \n",
       " 0.005613919443965546 1635721458409799680 ...                     \n",
       " 0.005846434715822121 1635721458409799680 ...                     \n",
       " 0.006209042666371929 1635721458409799680 ...                     \n",
       " 0.007469463683838576 1635721458409799680 ...                     \n",
       " 0.008202004514524316 1635721458409799680 ...                     \n",
       " 0.008338509690874027 1635721458409799680 ...                     \n",
       "                  ...                 ... ...                  ...\n",
       " 0.049718018073992835 1635721458409799680 ...                     \n",
       "  0.04977869666747251 1635721458409799680 ...                     \n",
       "  0.05006096698512638 1635721458409799680 ...                     \n",
       "  0.05038566478030134 1635721458409799680 ...                     \n",
       " 0.050827895451955894 1635721458409799680 ...                     \n",
       " 0.050860907684754444 1635721458409799680 ...                     \n",
       " 0.051038347209386326 1635721458409799680 ...                     \n",
       "  0.05121063325107872 1635721458409799680 ...                     \n",
       " 0.051957226883925664 1635721458409799680 ...                     \n",
       "  0.05320916763883812 1635721458409799680 ...                     "
      ]
     },
     "execution_count": 25,
     "metadata": {},
     "output_type": "execute_result"
    }
   ],
   "source": [
    "from astroquery.gaia import Gaia\n",
    "coord = coordinates.SkyCoord(ra=280*u.degree, dec=-60*u.degree, frame='icrs')\n",
    "r = Gaia.query_object_async(coordinate=coord, width=0.1* u.deg, height=0.1* u.deg)\n",
    "r"
   ]
  },
  {
   "cell_type": "markdown",
   "metadata": {
    "slideshow": {
     "slide_type": "slide"
    }
   },
   "source": [
    "And a more general SQL query:"
   ]
  },
  {
   "cell_type": "code",
   "execution_count": 26,
   "metadata": {
    "scrolled": true
   },
   "outputs": [
    {
     "name": "stdout",
     "output_type": "stream",
     "text": [
      "INFO: Query finished. [astroquery.utils.tap.core]\n"
     ]
    },
    {
     "data": {
      "text/html": [
       "<i>Table length=100</i>\n",
       "<table id=\"table4801846240\" class=\"table-striped table-bordered table-condensed\">\n",
       "<thead><tr><th>solution_id</th><th>source_id</th><th>random_index</th><th>ref_epoch</th><th>ra</th><th>ra_error</th><th>dec</th><th>dec_error</th><th>parallax</th><th>parallax_error</th><th>pmra</th><th>pmra_error</th><th>pmdec</th><th>pmdec_error</th><th>ra_dec_corr</th><th>ra_parallax_corr</th><th>ra_pmra_corr</th><th>ra_pmdec_corr</th><th>dec_parallax_corr</th><th>dec_pmra_corr</th><th>dec_pmdec_corr</th><th>parallax_pmra_corr</th><th>parallax_pmdec_corr</th><th>pmra_pmdec_corr</th><th>astrometric_n_obs_al</th><th>astrometric_n_obs_ac</th><th>astrometric_n_good_obs_al</th><th>astrometric_n_good_obs_ac</th><th>astrometric_n_bad_obs_al</th><th>astrometric_n_bad_obs_ac</th><th>astrometric_delta_q</th><th>astrometric_excess_noise</th><th>astrometric_excess_noise_sig</th><th>astrometric_primary_flag</th><th>astrometric_relegation_factor</th><th>astrometric_weight_al</th><th>astrometric_weight_ac</th><th>astrometric_priors_used</th><th>matched_observations</th><th>duplicated_source</th><th>scan_direction_strength_k1</th><th>scan_direction_strength_k2</th><th>scan_direction_strength_k3</th><th>scan_direction_strength_k4</th><th>scan_direction_mean_k1</th><th>scan_direction_mean_k2</th><th>scan_direction_mean_k3</th><th>scan_direction_mean_k4</th><th>phot_g_n_obs</th><th>phot_g_mean_flux</th><th>phot_g_mean_flux_error</th><th>phot_g_mean_mag</th><th>phot_variable_flag</th><th>l</th><th>b</th><th>ecl_lon</th><th>ecl_lat</th></tr></thead>\n",
       "<thead><tr><th></th><th></th><th></th><th>yr</th><th>deg</th><th>mas</th><th>deg</th><th>mas</th><th>mas</th><th>mas</th><th>mas / yr</th><th>mas / yr</th><th>mas / yr</th><th>mas / yr</th><th></th><th></th><th></th><th></th><th></th><th></th><th></th><th></th><th></th><th></th><th></th><th></th><th></th><th></th><th></th><th></th><th></th><th>mas</th><th></th><th></th><th></th><th>1 / mas2</th><th>1 / mas2</th><th></th><th></th><th></th><th></th><th></th><th></th><th></th><th>deg</th><th>deg</th><th>deg</th><th>deg</th><th></th><th>electron / s</th><th>electron / s</th><th>mag</th><th></th><th>deg</th><th>deg</th><th>deg</th><th>deg</th></tr></thead>\n",
       "<thead><tr><th>int64</th><th>int64</th><th>int64</th><th>float64</th><th>float64</th><th>float64</th><th>float64</th><th>float64</th><th>float64</th><th>float64</th><th>float64</th><th>float64</th><th>float64</th><th>float64</th><th>float32</th><th>float32</th><th>float32</th><th>float32</th><th>float32</th><th>float32</th><th>float32</th><th>float32</th><th>float32</th><th>float32</th><th>int32</th><th>int32</th><th>int32</th><th>int32</th><th>int32</th><th>int32</th><th>float32</th><th>float64</th><th>float64</th><th>bool</th><th>float32</th><th>float32</th><th>float32</th><th>int32</th><th>int16</th><th>bool</th><th>float32</th><th>float32</th><th>float32</th><th>float32</th><th>float32</th><th>float32</th><th>float32</th><th>float32</th><th>int32</th><th>float64</th><th>float64</th><th>float64</th><th>object</th><th>float64</th><th>float64</th><th>float64</th><th>float64</th></tr></thead>\n",
       "<tr><td>1635378410781933568</td><td>65408</td><td>973786105</td><td>2015.0</td><td>44.99615220936693</td><td>14.379929330502144</td><td>0.005616347754574377</td><td>6.5170279514911</td><td>--</td><td>--</td><td>--</td><td>--</td><td>--</td><td>--</td><td>0.9922</td><td>--</td><td>--</td><td>--</td><td>--</td><td>--</td><td>--</td><td>--</td><td>--</td><td>--</td><td>31</td><td>0</td><td>31</td><td>0</td><td>0</td><td>0</td><td>--</td><td>0.8913618443704975</td><td>3.2112361791803297</td><td>False</td><td>1.5695707</td><td>0.56867576</td><td>--</td><td>2</td><td>5</td><td>False</td><td>0.43375897</td><td>0.4324966</td><td>0.54358345</td><td>0.83828545</td><td>-116.46045</td><td>13.9733305</td><td>-46.44837</td><td>25.226347</td><td>30</td><td>1567.2551097905996</td><td>5.856072856071007</td><td>17.53692082768389</td><td>NOT_AVAILABLE</td><td>176.95107160690853</td><td>-48.901522375415745</td><td>42.53372303287222</td><td>-16.32957216103747</td></tr>\n",
       "<tr><td>1635378410781933568</td><td>34359896320</td><td>1010840134</td><td>2015.0</td><td>45.004970066352456</td><td>0.15623072846755337</td><td>0.019874651251498416</td><td>0.5288512194998723</td><td>--</td><td>--</td><td>--</td><td>--</td><td>--</td><td>--</td><td>-0.61935</td><td>--</td><td>--</td><td>--</td><td>--</td><td>--</td><td>--</td><td>--</td><td>--</td><td>--</td><td>60</td><td>0</td><td>60</td><td>0</td><td>0</td><td>0</td><td>--</td><td>0.49417441313555815</td><td>54.55040289517388</td><td>False</td><td>1.706128</td><td>3.67268</td><td>--</td><td>2</td><td>8</td><td>False</td><td>0.67304224</td><td>0.18623264</td><td>0.78783804</td><td>0.9107339</td><td>-116.56138</td><td>10.280677</td><td>-44.287266</td><td>28.650621</td><td>68</td><td>40086.23895819038</td><td>27.15984520272268</td><td>14.01728178629278</td><td>NOT_AVAILABLE</td><td>176.94475885355897</td><td>-48.88527959139606</td><td>42.54686221080092</td><td>-16.318524345129177</td></tr>\n",
       "<tr><td>1635378410781933568</td><td>34361129088</td><td>388985243</td><td>2015.0</td><td>45.00431226555933</td><td>0.34781432918086913</td><td>0.021042471450865907</td><td>1.1000950644350347</td><td>--</td><td>--</td><td>--</td><td>--</td><td>--</td><td>--</td><td>-0.66385</td><td>--</td><td>--</td><td>--</td><td>--</td><td>--</td><td>--</td><td>--</td><td>--</td><td>--</td><td>53</td><td>0</td><td>53</td><td>0</td><td>0</td><td>0</td><td>--</td><td>0.5324405623163402</td><td>1.8034637042289303</td><td>False</td><td>1.1930124</td><td>1.0081722</td><td>--</td><td>2</td><td>8</td><td>False</td><td>0.70151556</td><td>0.320507</td><td>0.79869306</td><td>0.90236515</td><td>-125.77541</td><td>18.417574</td><td>-42.16853</td><td>28.207079</td><td>52</td><td>1761.8800815465204</td><td>19.831303716830632</td><td>17.409829199358377</td><td>NOT_AVAILABLE</td><td>176.94278585420437</td><td>-48.88494300234266</td><td>42.546563489754284</td><td>-16.317215026257962</td></tr>\n",
       "<tr><td>1635378410781933568</td><td>309238066432</td><td>590730619</td><td>2015.0</td><td>44.995037410057414</td><td>2.1681515359364987</td><td>0.03815196696887027</td><td>1.215308936668632</td><td>--</td><td>--</td><td>--</td><td>--</td><td>--</td><td>--</td><td>-0.7956</td><td>--</td><td>--</td><td>--</td><td>--</td><td>--</td><td>--</td><td>--</td><td>--</td><td>--</td><td>61</td><td>0</td><td>61</td><td>0</td><td>0</td><td>0</td><td>--</td><td>1.5258177714773933</td><td>1.22845670292639</td><td>False</td><td>1.2036664</td><td>0.070923366</td><td>--</td><td>2</td><td>10</td><td>False</td><td>0.29365668</td><td>0.69462836</td><td>0.29740977</td><td>0.89781886</td><td>-119.107704</td><td>21.855402</td><td>-38.366596</td><td>25.310766</td><td>61</td><td>275.4512899504612</td><td>2.733062075693919</td><td>19.424658037505058</td><td>NOT_AVAILABLE</td><td>176.9142654492873</td><td>-48.879746934733355</td><td>42.542548491309226</td><td>-16.29813863876259</td></tr>\n",
       "<tr><td>1635378410781933568</td><td>343597448960</td><td>329156827</td><td>2015.0</td><td>44.963892230513906</td><td>11.881098084030311</td><td>0.04359645695813672</td><td>5.4117480481007245</td><td>--</td><td>--</td><td>--</td><td>--</td><td>--</td><td>--</td><td>-0.99875</td><td>--</td><td>--</td><td>--</td><td>--</td><td>--</td><td>--</td><td>--</td><td>--</td><td>--</td><td>53</td><td>0</td><td>52</td><td>0</td><td>1</td><td>0</td><td>--</td><td>0.48618768000871554</td><td>0.7194619790339168</td><td>False</td><td>1.0917889</td><td>0.5588871</td><td>--</td><td>2</td><td>9</td><td>False</td><td>0.2763959</td><td>0.6515838</td><td>0.24106677</td><td>0.9459233</td><td>-97.36848</td><td>24.034065</td><td>-32.833885</td><td>27.21301</td><td>53</td><td>1025.7233096094583</td><td>10.073989411681636</td><td>17.997194501364273</td><td>NOT_AVAILABLE</td><td>176.87541844090353</td><td>-48.898381239918464</td><td>42.51318875080541</td><td>-16.28380339425278</td></tr>\n",
       "<tr><td>1635378410781933568</td><td>515396233856</td><td>260581828</td><td>2015.0</td><td>44.998326380657794</td><td>1.9536132180916206</td><td>0.06633463540816804</td><td>1.112198874392374</td><td>--</td><td>--</td><td>--</td><td>--</td><td>--</td><td>--</td><td>-0.81775</td><td>--</td><td>--</td><td>--</td><td>--</td><td>--</td><td>--</td><td>--</td><td>--</td><td>--</td><td>52</td><td>0</td><td>52</td><td>0</td><td>0</td><td>0</td><td>--</td><td>0.0</td><td>0.0</td><td>False</td><td>1.0</td><td>0.08911285</td><td>--</td><td>2</td><td>9</td><td>False</td><td>0.21581903</td><td>0.64998794</td><td>0.20400557</td><td>0.889891</td><td>-94.5951</td><td>19.781263</td><td>-45.181236</td><td>24.463037</td><td>52</td><td>292.2971105621403</td><td>2.363495144336792</td><td>19.36020875819687</td><td>NOT_AVAILABLE</td><td>176.88690012837574</td><td>-48.85781382084586</td><td>42.554428497847724</td><td>-16.27215703817933</td></tr>\n",
       "<tr><td>1635378410781933568</td><td>549755818112</td><td>278964178</td><td>2015.0</td><td>45.048282032831146</td><td>0.1433456931075975</td><td>0.04825859155942166</td><td>0.1507835212419608</td><td>--</td><td>--</td><td>--</td><td>--</td><td>--</td><td>--</td><td>-0.2803</td><td>--</td><td>--</td><td>--</td><td>--</td><td>--</td><td>--</td><td>--</td><td>--</td><td>--</td><td>69</td><td>0</td><td>69</td><td>0</td><td>0</td><td>0</td><td>--</td><td>0.576001517198121</td><td>29.871186333796125</td><td>False</td><td>2.2834213</td><td>2.509169</td><td>--</td><td>2</td><td>9</td><td>False</td><td>0.5748535</td><td>0.47039524</td><td>0.6185841</td><td>0.9170165</td><td>-125.95466</td><td>21.985344</td><td>-40.70922</td><td>27.246462</td><td>77</td><td>18064.66135281333</td><td>18.664497058329903</td><td>14.882695502523974</td><td>NOT_AVAILABLE</td><td>176.9593602580002</td><td>-48.83439449928693</td><td>42.598674193075496</td><td>-16.304072893936116</td></tr>\n",
       "<tr><td>1635378410781933568</td><td>824633879296</td><td>201645987</td><td>2015.0</td><td>45.023616453966554</td><td>7.686523932335751</td><td>0.06842112518983674</td><td>14.300410796230324</td><td>--</td><td>--</td><td>--</td><td>--</td><td>--</td><td>--</td><td>-0.9992</td><td>--</td><td>--</td><td>--</td><td>--</td><td>--</td><td>--</td><td>--</td><td>--</td><td>--</td><td>41</td><td>0</td><td>41</td><td>0</td><td>0</td><td>0</td><td>--</td><td>0.3811770281404596</td><td>2.517964596635533</td><td>False</td><td>1.2335583</td><td>2.4381435</td><td>--</td><td>2</td><td>8</td><td>False</td><td>0.7751459</td><td>0.5471739</td><td>0.8357175</td><td>0.88075393</td><td>-138.44899</td><td>22.225468</td><td>-39.211887</td><td>27.421402</td><td>40</td><td>4228.83891081437</td><td>8.266022099817981</td><td>16.45921720914123</td><td>NOT_AVAILABLE</td><td>176.9112997713953</td><td>-48.83816357356801</td><td>42.58025514171649</td><td>-16.277570967548215</td></tr>\n",
       "<tr><td>1635378410781933568</td><td>927713095040</td><td>1018609930</td><td>2015.0</td><td>45.02672729705548</td><td>18.85105747122118</td><td>0.08170173999463713</td><td>46.24057203944495</td><td>--</td><td>--</td><td>--</td><td>--</td><td>--</td><td>--</td><td>0.87765</td><td>--</td><td>--</td><td>--</td><td>--</td><td>--</td><td>--</td><td>--</td><td>--</td><td>--</td><td>35</td><td>0</td><td>35</td><td>0</td><td>0</td><td>0</td><td>--</td><td>0.0</td><td>4.586533637279208e-16</td><td>False</td><td>1.0</td><td>0.14009042</td><td>--</td><td>2</td><td>7</td><td>False</td><td>0.74246943</td><td>0.4742414</td><td>0.8220183</td><td>0.86047256</td><td>-135.34503</td><td>20.154688</td><td>-40.679493</td><td>27.308582</td><td>35</td><td>327.81592953606156</td><td>4.918326612738085</td><td>19.23569493037055</td><td>NOT_AVAILABLE</td><td>176.9000588157857</td><td>-48.82670498240227</td><td>42.58740559921262</td><td>-16.265783811911223</td></tr>\n",
       "<tr><td>...</td><td>...</td><td>...</td><td>...</td><td>...</td><td>...</td><td>...</td><td>...</td><td>...</td><td>...</td><td>...</td><td>...</td><td>...</td><td>...</td><td>...</td><td>...</td><td>...</td><td>...</td><td>...</td><td>...</td><td>...</td><td>...</td><td>...</td><td>...</td><td>...</td><td>...</td><td>...</td><td>...</td><td>...</td><td>...</td><td>...</td><td>...</td><td>...</td><td>...</td><td>...</td><td>...</td><td>...</td><td>...</td><td>...</td><td>...</td><td>...</td><td>...</td><td>...</td><td>...</td><td>...</td><td>...</td><td>...</td><td>...</td><td>...</td><td>...</td><td>...</td><td>...</td><td>...</td><td>...</td><td>...</td><td>...</td><td>...</td></tr>\n",
       "<tr><td>1635378410781933568</td><td>7559142613632</td><td>805783675</td><td>2015.0</td><td>45.045507440083576</td><td>64.23562545168312</td><td>0.22953226047452618</td><td>24.14056588738653</td><td>--</td><td>--</td><td>--</td><td>--</td><td>--</td><td>--</td><td>-0.9312</td><td>--</td><td>--</td><td>--</td><td>--</td><td>--</td><td>--</td><td>--</td><td>--</td><td>--</td><td>44</td><td>0</td><td>44</td><td>0</td><td>0</td><td>0</td><td>--</td><td>0.9017044341862603</td><td>0.5563935530080668</td><td>False</td><td>1.1068484</td><td>0.12743591</td><td>--</td><td>2</td><td>8</td><td>False</td><td>0.17922908</td><td>0.97502077</td><td>0.16552596</td><td>0.9023233</td><td>-146.42915</td><td>23.029112</td><td>-24.625162</td><td>23.076626</td><td>43</td><td>344.4884606918393</td><td>3.3984831326302314</td><td>19.181833366459237</td><td>NOT_AVAILABLE</td><td>176.7585764824491</td><td>-48.71046913941762</td><td>42.65116606192112</td><td>-16.129925384913665</td></tr>\n",
       "<tr><td>1635378410781933568</td><td>7627862074752</td><td>883950605</td><td>2015.0</td><td>45.03433035439128</td><td>0.30598928200282727</td><td>0.23539164875137225</td><td>0.21880220693566088</td><td>6.35295075173405</td><td>0.3079103606852086</td><td>43.75231341609215</td><td>0.07054220642640081</td><td>-7.641989988351149</td><td>0.08740179334554747</td><td>-0.41497213</td><td>0.1799662</td><td>0.1592065</td><td>-0.08575969</td><td>-0.40733817</td><td>-0.099451326</td><td>0.06065882</td><td>-0.0015767893</td><td>-0.10195717</td><td>0.21467718</td><td>79</td><td>79</td><td>79</td><td>78</td><td>0</td><td>1</td><td>1.9190567</td><td>0.7171010000916003</td><td>412.6059727233687</td><td>True</td><td>2.9360971</td><td>1.8181574</td><td>1.2669624e-05</td><td>3</td><td>9</td><td>False</td><td>0.38234848</td><td>0.53826606</td><td>0.3923785</td><td>0.9163063</td><td>-113.76032</td><td>21.392918</td><td>-41.6784</td><td>26.201841</td><td>77</td><td>10312332.172993332</td><td>10577.365273118843</td><td>7.991377829505826</td><td>NOT_AVAILABLE</td><td>176.74041338370182</td><td>-48.71442190008815</td><td>42.64182504417002</td><td>-16.121052173353853</td></tr>\n",
       "<tr><td>1635378410781933568</td><td>7834020517760</td><td>620182825</td><td>2015.0</td><td>44.976164977688924</td><td>0.25045896295833414</td><td>0.21728172930522227</td><td>0.15739075973007077</td><td>--</td><td>--</td><td>--</td><td>--</td><td>--</td><td>--</td><td>-0.5452</td><td>--</td><td>--</td><td>--</td><td>--</td><td>--</td><td>--</td><td>--</td><td>--</td><td>--</td><td>72</td><td>0</td><td>71</td><td>0</td><td>1</td><td>0</td><td>--</td><td>0.3697156656283237</td><td>1.634936672568726</td><td>False</td><td>1.1318821</td><td>1.5466828</td><td>--</td><td>2</td><td>9</td><td>False</td><td>0.37946746</td><td>0.73242164</td><td>0.38129085</td><td>0.9112348</td><td>-131.47333</td><td>22.934044</td><td>-36.931458</td><td>25.306192</td><td>70</td><td>2368.792728529116</td><td>7.535930728302016</td><td>17.08845241076117</td><td>NOT_AVAILABLE</td><td>176.69874824602977</td><td>-48.76879265884225</td><td>42.5784131237812</td><td>-16.12134043964016</td></tr>\n",
       "<tr><td>1635378410781933568</td><td>7902739996160</td><td>338184528</td><td>2015.0</td><td>44.96647918298047</td><td>54.64900487168641</td><td>0.22398162428751675</td><td>25.5145001037112</td><td>--</td><td>--</td><td>--</td><td>--</td><td>--</td><td>--</td><td>-0.99125</td><td>--</td><td>--</td><td>--</td><td>--</td><td>--</td><td>--</td><td>--</td><td>--</td><td>--</td><td>53</td><td>0</td><td>52</td><td>0</td><td>1</td><td>0</td><td>--</td><td>16.231299934232258</td><td>45.37715239423046</td><td>False</td><td>8.659947</td><td>0.0032139926</td><td>--</td><td>2</td><td>8</td><td>False</td><td>0.6496399</td><td>0.97731215</td><td>0.6178852</td><td>0.9121062</td><td>-152.73636</td><td>24.99992</td><td>-32.466663</td><td>25.163664</td><td>52</td><td>158.76779239190859</td><td>2.5203001751808296</td><td>20.022864048542523</td><td>NOT_AVAILABLE</td><td>176.68121961230523</td><td>-48.77108036400259</td><td>42.570816246308794</td><td>-16.1120972505992</td></tr>\n",
       "<tr><td>1635378410781933568</td><td>8040178924672</td><td>978798713</td><td>2015.0</td><td>44.92766244671393</td><td>0.1222335963841248</td><td>0.21913065324032402</td><td>0.09474964916425105</td><td>--</td><td>--</td><td>--</td><td>--</td><td>--</td><td>--</td><td>-0.3327</td><td>--</td><td>--</td><td>--</td><td>--</td><td>--</td><td>--</td><td>--</td><td>--</td><td>--</td><td>81</td><td>0</td><td>81</td><td>0</td><td>0</td><td>0</td><td>--</td><td>0.5187537379971572</td><td>30.609650420317575</td><td>False</td><td>1.7458436</td><td>3.0446203</td><td>--</td><td>2</td><td>10</td><td>False</td><td>0.38742378</td><td>0.34980273</td><td>0.41717067</td><td>0.904537</td><td>-92.41522</td><td>14.9064865</td><td>-48.27484</td><td>26.412928</td><td>86</td><td>18975.10630294144</td><td>23.881073234589387</td><td>14.829309519858956</td><td>NOT_AVAILABLE</td><td>176.64546925558417</td><td>-48.80231220617528</td><td>42.53070748335227</td><td>-16.105360657031962</td></tr>\n",
       "<tr><td>1635378410781933568</td><td>8040178948096</td><td>91234372</td><td>2015.0</td><td>44.92104757165942</td><td>0.881245949408352</td><td>0.21891807311036876</td><td>0.4817222570524474</td><td>--</td><td>--</td><td>--</td><td>--</td><td>--</td><td>--</td><td>-0.85945</td><td>--</td><td>--</td><td>--</td><td>--</td><td>--</td><td>--</td><td>--</td><td>--</td><td>--</td><td>63</td><td>0</td><td>62</td><td>0</td><td>1</td><td>0</td><td>--</td><td>0.7370324539620721</td><td>1.7913761847449126</td><td>False</td><td>1.1947598</td><td>0.4481355</td><td>--</td><td>2</td><td>10</td><td>False</td><td>0.29679528</td><td>0.7020646</td><td>0.31512174</td><td>0.90070546</td><td>-122.47764</td><td>21.142637</td><td>-39.887154</td><td>24.719925</td><td>61</td><td>963.474842645978</td><td>3.1066029655388694</td><td>18.06516911572011</td><td>NOT_AVAILABLE</td><td>176.63870361410872</td><td>-48.80720555725832</td><td>42.52406008232147</td><td>-16.103624790495527</td></tr>\n",
       "<tr><td>1635378410781933568</td><td>8040178950144</td><td>915163825</td><td>2015.0</td><td>44.928212467858486</td><td>0.7833705814081212</td><td>0.22750294463478418</td><td>0.4392349842694923</td><td>--</td><td>--</td><td>--</td><td>--</td><td>--</td><td>--</td><td>-0.84855</td><td>--</td><td>--</td><td>--</td><td>--</td><td>--</td><td>--</td><td>--</td><td>--</td><td>--</td><td>63</td><td>0</td><td>63</td><td>0</td><td>0</td><td>0</td><td>--</td><td>0.9875791165219138</td><td>5.1887536667474805</td><td>False</td><td>1.4936737</td><td>0.49521667</td><td>--</td><td>2</td><td>9</td><td>False</td><td>0.30621642</td><td>0.7061003</td><td>0.32411036</td><td>0.90133435</td><td>-123.86226</td><td>21.332981</td><td>-39.435482</td><td>24.80651</td><td>62</td><td>1523.6696170541497</td><td>4.198006164860881</td><td>17.567543045027783</td><td>NOT_AVAILABLE</td><td>176.63693316150082</td><td>-48.796084626792656</td><td>42.53380912099541</td><td>-16.09751734284514</td></tr>\n",
       "<tr><td>1635378410781933568</td><td>8143258139648</td><td>462214684</td><td>2015.0</td><td>44.97265616158445</td><td>0.2379426196551581</td><td>0.2378521049173547</td><td>0.1754341778251152</td><td>--</td><td>--</td><td>--</td><td>--</td><td>--</td><td>--</td><td>-0.48555</td><td>--</td><td>--</td><td>--</td><td>--</td><td>--</td><td>--</td><td>--</td><td>--</td><td>--</td><td>61</td><td>0</td><td>61</td><td>0</td><td>0</td><td>0</td><td>--</td><td>0.730607883557889</td><td>44.16002889494746</td><td>False</td><td>2.4916503</td><td>1.648882</td><td>--</td><td>2</td><td>7</td><td>False</td><td>0.5601906</td><td>0.68975866</td><td>0.57611763</td><td>0.9062587</td><td>-138.03749</td><td>23.171942</td><td>-37.764725</td><td>25.905552</td><td>58</td><td>16055.062613792836</td><td>15.59345449336529</td><td>15.010740054769116</td><td>NOT_AVAILABLE</td><td>176.67264319764715</td><td>-48.756988326667674</td><td>42.58119243103549</td><td>-16.10064449234684</td></tr>\n",
       "<tr><td>1635378410781933568</td><td>8177618164608</td><td>935229935</td><td>2015.0</td><td>44.952552187995416</td><td>47.42897739454767</td><td>0.2411470067860344</td><td>21.912631860442467</td><td>--</td><td>--</td><td>--</td><td>--</td><td>--</td><td>--</td><td>-0.99965</td><td>--</td><td>--</td><td>--</td><td>--</td><td>--</td><td>--</td><td>--</td><td>--</td><td>--</td><td>53</td><td>0</td><td>52</td><td>0</td><td>1</td><td>0</td><td>--</td><td>1.5212399931665934</td><td>2.9918284360704464</td><td>False</td><td>1.2284441</td><td>0.096775666</td><td>--</td><td>2</td><td>8</td><td>False</td><td>0.34252378</td><td>0.9782745</td><td>0.31603476</td><td>0.91505706</td><td>-151.97112</td><td>23.246798</td><td>-31.352043</td><td>23.330873</td><td>52</td><td>328.7026589317093</td><td>2.868294209717897</td><td>19.232762020896146</td><td>NOT_AVAILABLE</td><td>176.64781367605605</td><td>-48.76911848702038</td><td>42.56219085866062</td><td>-16.091604966055254</td></tr>\n",
       "<tr><td>1635378410781933568</td><td>8246337381248</td><td>589344551</td><td>2015.0</td><td>44.99857713805903</td><td>0.2668424720438201</td><td>0.2307688915505906</td><td>0.16700276359809443</td><td>--</td><td>--</td><td>--</td><td>--</td><td>--</td><td>--</td><td>-0.5491</td><td>--</td><td>--</td><td>--</td><td>--</td><td>--</td><td>--</td><td>--</td><td>--</td><td>--</td><td>71</td><td>0</td><td>70</td><td>0</td><td>1</td><td>0</td><td>--</td><td>0.47849841200113974</td><td>2.9955287078763027</td><td>False</td><td>1.2123007</td><td>1.3870915</td><td>--</td><td>2</td><td>9</td><td>False</td><td>0.37156236</td><td>0.728808</td><td>0.37290302</td><td>0.91018534</td><td>-130.69337</td><td>22.839378</td><td>-37.110554</td><td>25.26746</td><td>68</td><td>2396.5956228658515</td><td>5.734833589355723</td><td>17.075783159370918</td><td>NOT_AVAILABLE</td><td>176.70772578260733</td><td>-48.74331382223535</td><td>42.60483065453176</td><td>-16.115007770295282</td></tr>\n",
       "</table>"
      ],
      "text/plain": [
       "<Table length=100>\n",
       "    solution_id       source_id   ...      ecl_lon             ecl_lat      \n",
       "                                  ...        deg                 deg        \n",
       "       int64            int64     ...      float64             float64      \n",
       "------------------- ------------- ... ------------------ -------------------\n",
       "1635378410781933568         65408 ...  42.53372303287222  -16.32957216103747\n",
       "1635378410781933568   34359896320 ...  42.54686221080092 -16.318524345129177\n",
       "1635378410781933568   34361129088 ... 42.546563489754284 -16.317215026257962\n",
       "1635378410781933568  309238066432 ... 42.542548491309226  -16.29813863876259\n",
       "1635378410781933568  343597448960 ...  42.51318875080541  -16.28380339425278\n",
       "1635378410781933568  515396233856 ... 42.554428497847724  -16.27215703817933\n",
       "1635378410781933568  549755818112 ... 42.598674193075496 -16.304072893936116\n",
       "1635378410781933568  824633879296 ...  42.58025514171649 -16.277570967548215\n",
       "1635378410781933568  927713095040 ...  42.58740559921262 -16.265783811911223\n",
       "                ...           ... ...                ...                 ...\n",
       "1635378410781933568 7559142613632 ...  42.65116606192112 -16.129925384913665\n",
       "1635378410781933568 7627862074752 ...  42.64182504417002 -16.121052173353853\n",
       "1635378410781933568 7834020517760 ...   42.5784131237812  -16.12134043964016\n",
       "1635378410781933568 7902739996160 ... 42.570816246308794   -16.1120972505992\n",
       "1635378410781933568 8040178924672 ...  42.53070748335227 -16.105360657031962\n",
       "1635378410781933568 8040178948096 ...  42.52406008232147 -16.103624790495527\n",
       "1635378410781933568 8040178950144 ...  42.53380912099541  -16.09751734284514\n",
       "1635378410781933568 8143258139648 ...  42.58119243103549  -16.10064449234684\n",
       "1635378410781933568 8177618164608 ...  42.56219085866062 -16.091604966055254\n",
       "1635378410781933568 8246337381248 ...  42.60483065453176 -16.115007770295282"
      ]
     },
     "execution_count": 26,
     "metadata": {},
     "output_type": "execute_result"
    }
   ],
   "source": [
    "from astroquery.gaia import Gaia\n",
    "\n",
    "job = Gaia.launch_job_async(\"select top 100 * from gaiadr1.gaia_source order by source_id\")\n",
    "r = job.get_results()\n",
    "r"
   ]
  },
  {
   "cell_type": "markdown",
   "metadata": {
    "slideshow": {
     "slide_type": "slide"
    }
   },
   "source": [
    "## Summary\n",
    "\n",
    "The `astroquery` package provides you with a one-stop-shop for a number of Python modules to access diverse data existing in remote archives. If you need to grab some data from an archive, check the [astroquery documentation](http://astroquery.readthedocs.io/en/latest/index.html) first.\n",
    "\n",
    "`astroquery` is not without it's faults, though:\n",
    "* The API can vary from module to module (though there's an ongoing push to fix that)\n",
    "* The implementation quality of the individual modules is highly variable\n",
    "* The documentation could be better.\n",
    "* It doesn't expose all functionality that is available through web interfaces.\n",
    "\n",
    "All those issues aside, it's still much better than doing the equivalent manually!\n",
    "\n",
    "*** Note: this is an excellent package to begin with, if you want to contribute to open source astronomical software development!***"
   ]
  },
  {
   "cell_type": "markdown",
   "metadata": {
    "slideshow": {
     "slide_type": "slide"
    }
   },
   "source": [
    "## Homework 5\n",
    "\n",
    "We'll write a small utility to download arbitrarily large pieces of the SDSS catalog.\n",
    "\n",
    "### Part A\n",
    "\n",
    "Using the `astroquery` package, write a utility to run SQL queries on the SDSS database and store the results into a local `sqlite` database file:\n",
    "\n",
    "```bash\n",
    "$ ./query-sdss\n",
    "error: insufficient arguments.\n",
    "\n",
    "usage: ./query-sdss <sql_query> <database_file> <destination_table>\n",
    "```\n",
    "\n",
    "For example, the following invocation:\n",
    "\n",
    "```bash\n",
    "$ ./query-sdss \"SELECT ra, dec FROM Star WHERE (ra BETWEEN 1 AND 2) and (dec BETWEEN 1 and 2)\" stars.db star_sample\n",
    "```\n",
    "\n",
    "should result in a table named `star_sample` in the SQLite database file `stars.db`.\n",
    "\n",
    "### Part B\n",
    "\n",
    "Now extend the utility above to take three more _optional_ arguments: `ra0`, `ra1` and `n_steps`:\n",
    "\n",
    "```bash\n",
    "$ ./query-sdss\n",
    "error: insufficient arguments.\n",
    "\n",
    "usage: ./query-sdss <sql_query> <database_file> <destination_table> [ra0] [ra1] [n_steps]\n",
    "```\n",
    "\n",
    "If these are given, instead of directly calling `SDSS.query_sql()` with the passed query, make `n_steps` calls, with each querying for a _slice_ of the catalog that's $\\Delta RA = (ra_1 - ra_0) / n_{\\rm steps}$ wide.  The idea is to break up the original query (returning a result that is too large) into a number of \"child queries\" returning smaller subsets of the large result. Then these subsets can be merged as they're written into the (same) local table.\n",
    "\n",
    "An easy way to break up an arbitrary query is to divide it up into a number of smaller stripes by right ascension. You can do that by _rewriting_ the original query's WHERE clause: add a condition that limits each child query to the $\\Delta RA$-wide range of RAs. For example, given the following invocation:\n",
    "\n",
    "```sql\n",
    "$ ./query-sdss \"SELECT ra, dec FROM Star WHERE (ra BETWEEN 1 AND 4.5) and (dec BETWEEN 1 and 2)\" stars.db star_large 0 6 3\n",
    "```\n",
    "\n",
    "your code should end up calling `SDSS.query_sql()` with these queries:\n",
    "\n",
    "```sql\n",
    "SELECT ra, dec FROM Star WHERE ((ra BETWEEN 1 AND 4.5) and (dec BETWEEN 1 and 2)) AND (ra BETWEEN 0 AND 2)\n",
    "SELECT ra, dec FROM Star WHERE ((ra BETWEEN 1 AND 4.5) and (dec BETWEEN 1 and 2)) AND (ra BETWEEN 2 AND 4)\n",
    "SELECT ra, dec FROM Star WHERE ((ra BETWEEN 1 AND 4.5) and (dec BETWEEN 1 and 2)) AND (ra BETWEEN 4 AND 6)\n",
    "```\n",
    "\n",
    "and the results of each of these will be written into the `star_large` table in `stars.db` file.\n",
    "\n",
    "This type of a hack is a common workaround around services that have download limitations. Use it carefully, though, to avoid unnecessarily overloading the SDSS servers.\n",
    "\n",
    "Implementation hints:\n",
    "* When rewriting the query, you may find the `str.split()` function useful. Or the functions in the `regex` module.\n",
    "* You're free to assume the WHERE clause is the last one in the query (i.e., there are no ORDER BY or similar following it).\n",
    "* Remember that SQL queries are case insensitive (so 'WHERE' and 'where' are equally valid).\n",
    "* Don't forget the parentheses around the original WHERE expression!\n",
    "\n"
   ]
  }
 ],
 "metadata": {
  "celltoolbar": "Slideshow",
  "kernelspec": {
   "display_name": "Python 3",
   "language": "python",
   "name": "python3"
  },
  "language_info": {
   "codemirror_mode": {
    "name": "ipython",
    "version": 3
   },
   "file_extension": ".py",
   "mimetype": "text/x-python",
   "name": "python",
   "nbconvert_exporter": "python",
   "pygments_lexer": "ipython3",
   "version": "3.8.1"
  },
  "livereveal": {
   "scroll": "true",
   "start_slideshow_at": "selected"
  }
 },
 "nbformat": 4,
 "nbformat_minor": 1
}
