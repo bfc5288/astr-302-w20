{
 "cells": [
  {
   "cell_type": "markdown",
   "metadata": {
    "slideshow": {
     "slide_type": "slide"
    }
   },
   "source": [
    "## Astroquery (continued) ##\n",
    "\n",
    "(based on https://github.com/ESO-python/ESOPythonTutorials)\n",
    "\n",
    "[Astroquery](http://astroquery.readthedocs.org) is a set of related tools for querying different astronomical database services,  e.g. SIMBAD, VizieR, and IRSA-IPAC, and for retrieving data from archives, e.g. the ESO, IRSA, and NRAO archives.  It also includes tools for querying other astronomy-related databases such as line-list servers at NIST (primarily for optical/NIR electronic transitions) and Splatalogue for mm/radio molecular transitions."
   ]
  },
  {
   "cell_type": "markdown",
   "metadata": {
    "slideshow": {
     "slide_type": "slide"
    }
   },
   "source": [
    "### Warning: Work in Progress\n",
    "\n",
    "Astroquery submodules _try_ to expose a common API (i.e., the function names, arguments, return values, should be the same from module to module). Each astroquery submodule should include a `query` method, or a set of `query_*` methods, depending on the capabilities the service offers. This is still _not_ the case universally (even if documentation says otherwise)."
   ]
  },
  {
   "cell_type": "markdown",
   "metadata": {
    "slideshow": {
     "slide_type": "slide"
    }
   },
   "source": [
    "## Examples: SIMBAD general query\n",
    "\n",
    "SIMBAD is the acronym for **S**et of **I**dentifications, **M**easurements and **B**ibliography for **A**stronomical **D**ata. The SIMBAD database is managed by the Centre de Données astronomiques de Strasbourg (CDS), France.\n",
    "\n",
    "SIMBAD supports queries by source name (`query_object`) and by region (`query_region`).  The returned values are (almost) always [astropy tables](docs.astropy.org/en/latest/tables/)."
   ]
  },
  {
   "cell_type": "code",
   "execution_count": 1,
   "metadata": {
    "slideshow": {
     "slide_type": "-"
    }
   },
   "outputs": [],
   "source": [
    "from astroquery.simbad import Simbad\n",
    "from astropy import coordinates\n",
    "from astropy import units as u"
   ]
  },
  {
   "cell_type": "markdown",
   "metadata": {
    "slideshow": {
     "slide_type": "slide"
    }
   },
   "source": [
    "Querying an object by name:"
   ]
  },
  {
   "cell_type": "code",
   "execution_count": 2,
   "metadata": {
    "slideshow": {
     "slide_type": "-"
    }
   },
   "outputs": [
    {
     "data": {
      "text/html": [
       "<i>Table length=1</i>\n",
       "<table id=\"table4602994800\" class=\"table-striped table-bordered table-condensed\">\n",
       "<thead><tr><th>MAIN_ID</th><th>RA</th><th>DEC</th><th>RA_PREC</th><th>DEC_PREC</th><th>COO_ERR_MAJA</th><th>COO_ERR_MINA</th><th>COO_ERR_ANGLE</th><th>COO_QUAL</th><th>COO_WAVELENGTH</th><th>COO_BIBCODE</th></tr></thead>\n",
       "<thead><tr><th></th><th>&quot;h:m:s&quot;</th><th>&quot;d:m:s&quot;</th><th></th><th></th><th>mas</th><th>mas</th><th>deg</th><th></th><th></th><th></th></tr></thead>\n",
       "<thead><tr><th>object</th><th>str13</th><th>str13</th><th>int16</th><th>int16</th><th>float32</th><th>float32</th><th>int16</th><th>str1</th><th>str1</th><th>object</th></tr></thead>\n",
       "<tr><td>M  31</td><td>00 42 44.330</td><td>+41 16 07.50</td><td>7</td><td>7</td><td>--</td><td>--</td><td>0</td><td>C</td><td>I</td><td>2006AJ....131.1163S</td></tr>\n",
       "</table>"
      ],
      "text/plain": [
       "<Table length=1>\n",
       "MAIN_ID      RA          DEC      ... COO_WAVELENGTH     COO_BIBCODE    \n",
       "          \"h:m:s\"      \"d:m:s\"    ...                                   \n",
       " object    str13        str13     ...      str1             object      \n",
       "------- ------------ ------------ ... -------------- -------------------\n",
       "  M  31 00 42 44.330 +41 16 07.50 ...              I 2006AJ....131.1163S"
      ]
     },
     "execution_count": 2,
     "metadata": {},
     "output_type": "execute_result"
    }
   ],
   "source": [
    "result1 = Simbad.query_object('M 31')\n",
    "result1"
   ]
  },
  {
   "cell_type": "markdown",
   "metadata": {
    "slideshow": {
     "slide_type": "slide"
    }
   },
   "source": [
    "Querying by position:"
   ]
  },
  {
   "cell_type": "code",
   "execution_count": 3,
   "metadata": {
    "scrolled": true,
    "slideshow": {
     "slide_type": "-"
    }
   },
   "outputs": [
    {
     "name": "stderr",
     "output_type": "stream",
     "text": [
      "WARNING: InputWarning: Coordinate string is being interpreted as an ICRS coordinate. [astroquery.utils.commons]\n"
     ]
    },
    {
     "data": {
      "text/html": [
       "<i>Table length=715</i>\n",
       "<table id=\"table4603231680\" class=\"table-striped table-bordered table-condensed\">\n",
       "<thead><tr><th>MAIN_ID</th><th>RA</th><th>DEC</th><th>RA_PREC</th><th>DEC_PREC</th><th>COO_ERR_MAJA</th><th>COO_ERR_MINA</th><th>COO_ERR_ANGLE</th><th>COO_QUAL</th><th>COO_WAVELENGTH</th><th>COO_BIBCODE</th></tr></thead>\n",
       "<thead><tr><th></th><th>&quot;h:m:s&quot;</th><th>&quot;d:m:s&quot;</th><th></th><th></th><th>mas</th><th>mas</th><th>deg</th><th></th><th></th><th></th></tr></thead>\n",
       "<thead><tr><th>object</th><th>str13</th><th>str13</th><th>int16</th><th>int16</th><th>float32</th><th>float32</th><th>int16</th><th>str1</th><th>str1</th><th>object</th></tr></thead>\n",
       "<tr><td>NAME Ori Region</td><td>05 35 17.30</td><td>-05 23 28.0</td><td>6</td><td>6</td><td>--</td><td>--</td><td>0</td><td>D</td><td>O</td><td></td></tr>\n",
       "<tr><td>M  42</td><td>05 35 17.3</td><td>-05 23 28</td><td>5</td><td>5</td><td>7500.000</td><td>7500.000</td><td>90</td><td>D</td><td></td><td>1981MNRAS.194..693L</td></tr>\n",
       "<tr><td>[OW94] 172-327</td><td>05 35 17.2210</td><td>-05 23 26.542</td><td>9</td><td>9</td><td>--</td><td>--</td><td>0</td><td>C</td><td>R</td><td>2016ApJ...822...93F</td></tr>\n",
       "<tr><td>DOH  7 175-328</td><td>05 35 17.5</td><td>-05 23 28</td><td>5</td><td>5</td><td>--</td><td>--</td><td>0</td><td>D</td><td></td><td>2004AJ....127.3456D</td></tr>\n",
       "<tr><td>MAX 126</td><td>05 35 17.11</td><td>-05 23 29.3</td><td>6</td><td>6</td><td>--</td><td>--</td><td>0</td><td>D</td><td>I</td><td>2005AJ....129.1534R</td></tr>\n",
       "<tr><td>DOH  7 171-327</td><td>05 35 17.1</td><td>-05 23 27</td><td>5</td><td>5</td><td>--</td><td>--</td><td>0</td><td>D</td><td></td><td>2004AJ....127.3456D</td></tr>\n",
       "<tr><td>MAX 125</td><td>05 35 17.11</td><td>-05 23 26.6</td><td>6</td><td>6</td><td>--</td><td>--</td><td>0</td><td>D</td><td>I</td><td>2005AJ....129.1534R</td></tr>\n",
       "<tr><td>[OW94] 171-326</td><td>05 35 17.1</td><td>-05 23 26</td><td>5</td><td>5</td><td>--</td><td>--</td><td>0</td><td>D</td><td></td><td>2004AJ....127.3456D</td></tr>\n",
       "<tr><td>DOH  7 171-325</td><td>05 35 17.1</td><td>-05 23 25</td><td>5</td><td>5</td><td>--</td><td>--</td><td>0</td><td>D</td><td></td><td>2004AJ....127.3456D</td></tr>\n",
       "<tr><td>...</td><td>...</td><td>...</td><td>...</td><td>...</td><td>...</td><td>...</td><td>...</td><td>...</td><td>...</td><td>...</td></tr>\n",
       "<tr><td>[FTC93] 053253.59-052542.02</td><td>05 35 21.04</td><td>-05 23 49.0</td><td>6</td><td>6</td><td>--</td><td>--</td><td>0</td><td>D</td><td></td><td></td></tr>\n",
       "<tr><td>[OW94] 133-329</td><td>05 35 13.3</td><td>-05 23 29</td><td>5</td><td>5</td><td>--</td><td>--</td><td>0</td><td>D</td><td></td><td>2004AJ....127.3456D</td></tr>\n",
       "<tr><td>V* V1399 Ori</td><td>05 35 21.0492</td><td>-05 23 48.989</td><td>14</td><td>14</td><td>0.050</td><td>0.054</td><td>90</td><td>A</td><td>O</td><td>2018yCat.1345....0G</td></tr>\n",
       "<tr><td>[FRM2016] 112</td><td>05 35 13.2944</td><td>-05 23 29.674</td><td>9</td><td>9</td><td>--</td><td>--</td><td>0</td><td>C</td><td>R</td><td>2016ApJ...822...93F</td></tr>\n",
       "<tr><td>DOH 14 210-351</td><td>05 35 21.0</td><td>-05 23 51</td><td>5</td><td>5</td><td>--</td><td>--</td><td>0</td><td>D</td><td></td><td>2004AJ....127.3456D</td></tr>\n",
       "<tr><td>COUP J053521.2-052316</td><td>05 35 21.239</td><td>-05 23 16.95</td><td>7</td><td>7</td><td>--</td><td>--</td><td>0</td><td>D</td><td></td><td>2000ApJ...540.1016L</td></tr>\n",
       "<tr><td>[H97b] 20072</td><td>05 35 16.91</td><td>-05 22 28.4</td><td>6</td><td>6</td><td>150.000</td><td>150.000</td><td>90</td><td>C</td><td>O</td><td>2009A&amp;A...502..883R</td></tr>\n",
       "<tr><td>[OW94] 134-342</td><td>05 35 13.4</td><td>-05 23 42</td><td>5</td><td>5</td><td>--</td><td>--</td><td>0</td><td>D</td><td>O</td><td>2003AJ....125..277O</td></tr>\n",
       "<tr><td>[SCB99] 181</td><td>05 35 17.608</td><td>-05 22 28.24</td><td>7</td><td>7</td><td>--</td><td>--</td><td>0</td><td>D</td><td></td><td>1999AJ....117.1375S</td></tr>\n",
       "<tr><td>MMB G208.996-19.386</td><td>05 35 14.50</td><td>-05 22 45.0</td><td>6</td><td>6</td><td>400.000</td><td>400.000</td><td>90</td><td>C</td><td>R</td><td>2010MNRAS.404.1029C</td></tr>\n",
       "</table>"
      ],
      "text/plain": [
       "<Table length=715>\n",
       "          MAIN_ID                 RA      ... COO_WAVELENGTH     COO_BIBCODE    \n",
       "                               \"h:m:s\"    ...                                   \n",
       "           object               str13     ...      str1             object      \n",
       "--------------------------- ------------- ... -------------- -------------------\n",
       "            NAME Ori Region   05 35 17.30 ...              O                    \n",
       "                      M  42    05 35 17.3 ...                1981MNRAS.194..693L\n",
       "             [OW94] 172-327 05 35 17.2210 ...              R 2016ApJ...822...93F\n",
       "             DOH  7 175-328    05 35 17.5 ...                2004AJ....127.3456D\n",
       "                    MAX 126   05 35 17.11 ...              I 2005AJ....129.1534R\n",
       "             DOH  7 171-327    05 35 17.1 ...                2004AJ....127.3456D\n",
       "                    MAX 125   05 35 17.11 ...              I 2005AJ....129.1534R\n",
       "             [OW94] 171-326    05 35 17.1 ...                2004AJ....127.3456D\n",
       "             DOH  7 171-325    05 35 17.1 ...                2004AJ....127.3456D\n",
       "                        ...           ... ...            ...                 ...\n",
       "[FTC93] 053253.59-052542.02   05 35 21.04 ...                                   \n",
       "             [OW94] 133-329    05 35 13.3 ...                2004AJ....127.3456D\n",
       "               V* V1399 Ori 05 35 21.0492 ...              O 2018yCat.1345....0G\n",
       "              [FRM2016] 112 05 35 13.2944 ...              R 2016ApJ...822...93F\n",
       "             DOH 14 210-351    05 35 21.0 ...                2004AJ....127.3456D\n",
       "      COUP J053521.2-052316  05 35 21.239 ...                2000ApJ...540.1016L\n",
       "               [H97b] 20072   05 35 16.91 ...              O 2009A&A...502..883R\n",
       "             [OW94] 134-342    05 35 13.4 ...              O 2003AJ....125..277O\n",
       "                [SCB99] 181  05 35 17.608 ...                1999AJ....117.1375S\n",
       "        MMB G208.996-19.386   05 35 14.50 ...              R 2010MNRAS.404.1029C"
      ]
     },
     "execution_count": 3,
     "metadata": {},
     "output_type": "execute_result"
    }
   ],
   "source": [
    "result2 = Simbad.query_region(\"05h35m17.3s -05d23m28s\", radius=1*u.arcmin)\n",
    "result2"
   ]
  },
  {
   "cell_type": "markdown",
   "metadata": {
    "slideshow": {
     "slide_type": "slide"
    }
   },
   "source": [
    "Better:"
   ]
  },
  {
   "cell_type": "code",
   "execution_count": 4,
   "metadata": {
    "slideshow": {
     "slide_type": "-"
    }
   },
   "outputs": [
    {
     "data": {
      "text/html": [
       "<i>Table length=4</i>\n",
       "<table id=\"table4572906976\" class=\"table-striped table-bordered table-condensed\">\n",
       "<thead><tr><th>MAIN_ID</th><th>RA</th><th>DEC</th><th>RA_PREC</th><th>DEC_PREC</th><th>COO_ERR_MAJA</th><th>COO_ERR_MINA</th><th>COO_ERR_ANGLE</th><th>COO_QUAL</th><th>COO_WAVELENGTH</th><th>COO_BIBCODE</th></tr></thead>\n",
       "<thead><tr><th></th><th>&quot;h:m:s&quot;</th><th>&quot;d:m:s&quot;</th><th></th><th></th><th>mas</th><th>mas</th><th>deg</th><th></th><th></th><th></th></tr></thead>\n",
       "<thead><tr><th>object</th><th>str13</th><th>str13</th><th>int16</th><th>int16</th><th>float32</th><th>float32</th><th>int16</th><th>str1</th><th>str1</th><th>object</th></tr></thead>\n",
       "<tr><td>NAME Barnard&apos;s star</td><td>17 57 48.4997</td><td>+04 41 36.111</td><td>14</td><td>14</td><td>0.223</td><td>0.304</td><td>90</td><td>A</td><td>O</td><td>2018yCat.1345....0G</td></tr>\n",
       "<tr><td>NAME Barnard&apos;s Star b</td><td>17 57 48.4997</td><td>+04 41 36.111</td><td>14</td><td>14</td><td>0.223</td><td>0.304</td><td>90</td><td>A</td><td>O</td><td>2018yCat.1345....0G</td></tr>\n",
       "<tr><td>TYC  425-262-1</td><td>17 57 51.9500</td><td>+04 42 20.199</td><td>14</td><td>14</td><td>0.041</td><td>0.054</td><td>90</td><td>A</td><td>O</td><td>2018yCat.1345....0G</td></tr>\n",
       "<tr><td>1RXS J175749.5+043955</td><td>17 57 49.505</td><td>+04 39 55.01</td><td>7</td><td>7</td><td>--</td><td>--</td><td>0</td><td>E</td><td></td><td>2000IAUC.7432R...1V</td></tr>\n",
       "</table>"
      ],
      "text/plain": [
       "<Table length=4>\n",
       "       MAIN_ID              RA      ... COO_WAVELENGTH     COO_BIBCODE    \n",
       "                         \"h:m:s\"    ...                                   \n",
       "        object            str13     ...      str1             object      \n",
       "--------------------- ------------- ... -------------- -------------------\n",
       "  NAME Barnard's star 17 57 48.4997 ...              O 2018yCat.1345....0G\n",
       "NAME Barnard's Star b 17 57 48.4997 ...              O 2018yCat.1345....0G\n",
       "       TYC  425-262-1 17 57 51.9500 ...              O 2018yCat.1345....0G\n",
       "1RXS J175749.5+043955  17 57 49.505 ...                2000IAUC.7432R...1V"
      ]
     },
     "execution_count": 4,
     "metadata": {},
     "output_type": "execute_result"
    }
   ],
   "source": [
    "co = coordinates.SkyCoord(l=31.0087, b=14.0627,\n",
    "                          unit=(u.deg, u.deg),\n",
    "                          frame='galactic')\n",
    "result3 = Simbad.query_region(co)\n",
    "result3"
   ]
  },
  {
   "cell_type": "markdown",
   "metadata": {
    "slideshow": {
     "slide_type": "slide"
    }
   },
   "source": [
    "### SIMBAD: Querying named catalogs"
   ]
  },
  {
   "cell_type": "markdown",
   "metadata": {
    "slideshow": {
     "slide_type": "-"
    }
   },
   "source": [
    "There are also other query tools for some services, e.g. SIMBAD has a `query_catalog` feature that allows you to query named catalogs, e.g. the NGC catalog or the ESO catalog"
   ]
  },
  {
   "cell_type": "code",
   "execution_count": 5,
   "metadata": {
    "slideshow": {
     "slide_type": "slide"
    }
   },
   "outputs": [
    {
     "data": {
      "text/html": [
       "<i>Table length=100</i>\n",
       "<table id=\"table4607701392\" class=\"table-striped table-bordered table-condensed\">\n",
       "<thead><tr><th>MAIN_ID</th><th>RA</th><th>DEC</th><th>RA_PREC</th><th>DEC_PREC</th><th>COO_ERR_MAJA</th><th>COO_ERR_MINA</th><th>COO_ERR_ANGLE</th><th>COO_QUAL</th><th>COO_WAVELENGTH</th><th>COO_BIBCODE</th></tr></thead>\n",
       "<thead><tr><th></th><th>&quot;h:m:s&quot;</th><th>&quot;d:m:s&quot;</th><th></th><th></th><th>mas</th><th>mas</th><th>deg</th><th></th><th></th><th></th></tr></thead>\n",
       "<thead><tr><th>object</th><th>str13</th><th>str13</th><th>int16</th><th>int16</th><th>float32</th><th>float32</th><th>int16</th><th>str1</th><th>str1</th><th>object</th></tr></thead>\n",
       "<tr><td>ESO-HA    1</td><td>08 30 07.4083</td><td>-43 25 46.560</td><td>9</td><td>9</td><td>60.000</td><td>60.000</td><td>90</td><td>C</td><td>N</td><td>2003yCat.2246....0C</td></tr>\n",
       "<tr><td>NGC  2573</td><td>01 41 38.0117</td><td>-89 20 04.266</td><td>14</td><td>14</td><td>0.035</td><td>0.032</td><td>90</td><td>A</td><td>O</td><td>2018yCat.1345....0G</td></tr>\n",
       "<tr><td>ESO   1-2</td><td>05 04 36.8</td><td>-87 34 19</td><td>5</td><td>5</td><td>8000.000</td><td>8000.000</td><td>90</td><td>D</td><td></td><td>1982ESO...C......0L</td></tr>\n",
       "<tr><td>ESO   1-3</td><td>05 22 36.509</td><td>-87 50 50.02</td><td>7</td><td>7</td><td>--</td><td>--</td><td>0</td><td>C</td><td>I</td><td>2006AJ....131.1163S</td></tr>\n",
       "<tr><td>ESO   1-4</td><td>07 49 28.8195</td><td>-87 56 00.293</td><td>14</td><td>14</td><td>1.913</td><td>3.141</td><td>90</td><td>C</td><td>O</td><td>2018yCat.1345....0G</td></tr>\n",
       "<tr><td>ESO   1-5</td><td>08 53 05.006</td><td>-88 05 23.00</td><td>7</td><td>7</td><td>--</td><td>--</td><td>0</td><td>C</td><td>I</td><td>2006AJ....131.1163S</td></tr>\n",
       "<tr><td>ESO   1-6</td><td>14 27 19.4897</td><td>-87 46 19.985</td><td>14</td><td>14</td><td>1.582</td><td>1.150</td><td>90</td><td>C</td><td>O</td><td>2018yCat.1345....0G</td></tr>\n",
       "<tr><td>ESO   1-7</td><td>17 02 45.879</td><td>-88 55 01.94</td><td>7</td><td>7</td><td>--</td><td>--</td><td>0</td><td>C</td><td>I</td><td>2006AJ....131.1163S</td></tr>\n",
       "<tr><td>ESO   1-8</td><td>23 07 33.618</td><td>-89 06 59.07</td><td>7</td><td>7</td><td>--</td><td>--</td><td>0</td><td>C</td><td>I</td><td>2006AJ....131.1163S</td></tr>\n",
       "<tr><td>...</td><td>...</td><td>...</td><td>...</td><td>...</td><td>...</td><td>...</td><td>...</td><td>...</td><td>...</td><td>...</td></tr>\n",
       "<tr><td>ESO   4-3</td><td>03 29 49.8</td><td>-87 09 41</td><td>5</td><td>5</td><td>8000.000</td><td>8000.000</td><td>90</td><td>D</td><td></td><td>1982ESO...C......0L</td></tr>\n",
       "<tr><td>ESO   4-4</td><td>03 42 06.1</td><td>-83 53 01</td><td>5</td><td>5</td><td>8000.000</td><td>8000.000</td><td>90</td><td>D</td><td></td><td>1982ESO...C......0L</td></tr>\n",
       "<tr><td>ESO   4-5</td><td>03 44 16.134</td><td>-83 09 12.17</td><td>7</td><td>7</td><td>--</td><td>--</td><td>0</td><td>C</td><td>I</td><td>2006AJ....131.1163S</td></tr>\n",
       "<tr><td>ESO   4-6</td><td>03 49 36.9</td><td>-83 57 41</td><td>5</td><td>5</td><td>8000.000</td><td>8000.000</td><td>90</td><td>D</td><td></td><td>1982ESO...C......0L</td></tr>\n",
       "<tr><td>IC 2051</td><td>03 52 00.7661</td><td>-83 49 50.607</td><td>14</td><td>14</td><td>1.106</td><td>1.063</td><td>90</td><td>C</td><td>O</td><td>2018yCat.1345....0G</td></tr>\n",
       "<tr><td>ESO   4-8</td><td>03 58 49.2113</td><td>-82 30 56.679</td><td>14</td><td>14</td><td>1.598</td><td>1.897</td><td>90</td><td>C</td><td>O</td><td>2018yCat.1345....0G</td></tr>\n",
       "<tr><td>ESO   4-9</td><td>03 57 53.5</td><td>-84 21 50</td><td>5</td><td>5</td><td>8000.000</td><td>8000.000</td><td>90</td><td>D</td><td></td><td>1982ESO...C......0L</td></tr>\n",
       "<tr><td>ESO   4-10</td><td>03 59 49.1875</td><td>-84 05 37.900</td><td>14</td><td>14</td><td>2.920</td><td>2.248</td><td>90</td><td>C</td><td>O</td><td>2018yCat.1345....0G</td></tr>\n",
       "<tr><td>ESO   4-11</td><td>04 00 37.201</td><td>-84 22 00.20</td><td>7</td><td>7</td><td>--</td><td>--</td><td>0</td><td>C</td><td>I</td><td>2006AJ....131.1163S</td></tr>\n",
       "<tr><td>ESO   4-12</td><td>04 22 19.590</td><td>-85 22 38.98</td><td>7</td><td>7</td><td>--</td><td>--</td><td>0</td><td>C</td><td>I</td><td>2006AJ....131.1163S</td></tr>\n",
       "</table>"
      ],
      "text/plain": [
       "<Table length=100>\n",
       "  MAIN_ID         RA           DEC      ... COO_WAVELENGTH     COO_BIBCODE    \n",
       "               \"h:m:s\"       \"d:m:s\"    ...                                   \n",
       "   object       str13         str13     ...      str1             object      \n",
       "----------- ------------- ------------- ... -------------- -------------------\n",
       "ESO-HA    1 08 30 07.4083 -43 25 46.560 ...              N 2003yCat.2246....0C\n",
       "  NGC  2573 01 41 38.0117 -89 20 04.266 ...              O 2018yCat.1345....0G\n",
       "  ESO   1-2    05 04 36.8     -87 34 19 ...                1982ESO...C......0L\n",
       "  ESO   1-3  05 22 36.509  -87 50 50.02 ...              I 2006AJ....131.1163S\n",
       "  ESO   1-4 07 49 28.8195 -87 56 00.293 ...              O 2018yCat.1345....0G\n",
       "  ESO   1-5  08 53 05.006  -88 05 23.00 ...              I 2006AJ....131.1163S\n",
       "  ESO   1-6 14 27 19.4897 -87 46 19.985 ...              O 2018yCat.1345....0G\n",
       "  ESO   1-7  17 02 45.879  -88 55 01.94 ...              I 2006AJ....131.1163S\n",
       "  ESO   1-8  23 07 33.618  -89 06 59.07 ...              I 2006AJ....131.1163S\n",
       "        ...           ...           ... ...            ...                 ...\n",
       "  ESO   4-3    03 29 49.8     -87 09 41 ...                1982ESO...C......0L\n",
       "  ESO   4-4    03 42 06.1     -83 53 01 ...                1982ESO...C......0L\n",
       "  ESO   4-5  03 44 16.134  -83 09 12.17 ...              I 2006AJ....131.1163S\n",
       "  ESO   4-6    03 49 36.9     -83 57 41 ...                1982ESO...C......0L\n",
       "    IC 2051 03 52 00.7661 -83 49 50.607 ...              O 2018yCat.1345....0G\n",
       "  ESO   4-8 03 58 49.2113 -82 30 56.679 ...              O 2018yCat.1345....0G\n",
       "  ESO   4-9    03 57 53.5     -84 21 50 ...                1982ESO...C......0L\n",
       " ESO   4-10 03 59 49.1875 -84 05 37.900 ...              O 2018yCat.1345....0G\n",
       " ESO   4-11  04 00 37.201  -84 22 00.20 ...              I 2006AJ....131.1163S\n",
       " ESO   4-12  04 22 19.590  -85 22 38.98 ...              I 2006AJ....131.1163S"
      ]
     },
     "execution_count": 5,
     "metadata": {},
     "output_type": "execute_result"
    }
   ],
   "source": [
    "Simbad.ROW_LIMIT = 100\n",
    "esocat = Simbad.query_catalog('eso')\n",
    "esocat"
   ]
  },
  {
   "cell_type": "code",
   "execution_count": 6,
   "metadata": {
    "slideshow": {
     "slide_type": "slide"
    }
   },
   "outputs": [
    {
     "data": {
      "text/html": [
       "<i>Table length=100</i>\n",
       "<table id=\"table4603232016\" class=\"table-striped table-bordered table-condensed\">\n",
       "<thead><tr><th>MAIN_ID</th><th>RA</th><th>DEC</th><th>RA_PREC</th><th>DEC_PREC</th><th>COO_ERR_MAJA</th><th>COO_ERR_MINA</th><th>COO_ERR_ANGLE</th><th>COO_QUAL</th><th>COO_WAVELENGTH</th><th>COO_BIBCODE</th></tr></thead>\n",
       "<thead><tr><th></th><th>&quot;h:m:s&quot;</th><th>&quot;d:m:s&quot;</th><th></th><th></th><th>mas</th><th>mas</th><th>deg</th><th></th><th></th><th></th></tr></thead>\n",
       "<thead><tr><th>object</th><th>str13</th><th>str13</th><th>int16</th><th>int16</th><th>float32</th><th>float32</th><th>int16</th><th>str1</th><th>str1</th><th>object</th></tr></thead>\n",
       "<tr><td>NGC     1</td><td>00 07 15.8554</td><td>+27 42 29.024</td><td>14</td><td>14</td><td>3.580</td><td>3.437</td><td>90</td><td>C</td><td>O</td><td>2018yCat.1345....0G</td></tr>\n",
       "<tr><td>NGC     2</td><td>00 07 17.1152</td><td>+27 40 42.032</td><td>14</td><td>14</td><td>2.978</td><td>2.498</td><td>90</td><td>C</td><td>O</td><td>2018yCat.1345....0G</td></tr>\n",
       "<tr><td>NGC     3</td><td>00 07 16.804</td><td>+08 18 05.84</td><td>7</td><td>7</td><td>--</td><td>--</td><td>0</td><td>C</td><td>I</td><td>2006AJ....131.1163S</td></tr>\n",
       "<tr><td>NGC     4</td><td>00 07 24.4</td><td>+08 22 30</td><td>5</td><td>5</td><td>--</td><td>--</td><td>0</td><td>D</td><td>O</td><td>2003A&amp;A...412...45P</td></tr>\n",
       "<tr><td>NGC     5</td><td>00 07 48.898</td><td>+35 21 44.46</td><td>7</td><td>7</td><td>--</td><td>--</td><td>0</td><td>C</td><td>I</td><td>2006AJ....131.1163S</td></tr>\n",
       "<tr><td>NGC     7</td><td>00 08 20.3</td><td>-29 55 01</td><td>5</td><td>5</td><td>--</td><td>--</td><td>0</td><td>D</td><td>O</td><td>2003A&amp;A...412...45P</td></tr>\n",
       "<tr><td>NGC     8</td><td>00 08 45.3</td><td>+23 50 19</td><td>5</td><td>5</td><td>--</td><td>--</td><td>0</td><td>D</td><td>O</td><td>2003A&amp;A...412...45P</td></tr>\n",
       "<tr><td>NGC     9</td><td>00 08 54.713</td><td>+23 49 00.92</td><td>7</td><td>7</td><td>--</td><td>--</td><td>0</td><td>C</td><td>I</td><td>2006AJ....131.1163S</td></tr>\n",
       "<tr><td>NGC    10</td><td>00 08 34.5366</td><td>-33 51 30.188</td><td>14</td><td>14</td><td>8.780</td><td>5.359</td><td>90</td><td>C</td><td>O</td><td>2018yCat.1345....0G</td></tr>\n",
       "<tr><td>...</td><td>...</td><td>...</td><td>...</td><td>...</td><td>...</td><td>...</td><td>...</td><td>...</td><td>...</td><td>...</td></tr>\n",
       "<tr><td>NGC    89</td><td>00 21 24.355</td><td>-48 39 55.28</td><td>7</td><td>7</td><td>--</td><td>--</td><td>0</td><td>C</td><td>I</td><td>2006AJ....131.1163S</td></tr>\n",
       "<tr><td>NGC    90</td><td>00 21 51.409</td><td>+22 24 00.15</td><td>7</td><td>7</td><td>--</td><td>--</td><td>0</td><td>C</td><td>I</td><td>2006AJ....131.1163S</td></tr>\n",
       "<tr><td>UCAC2  39602310</td><td>00 21 51.6259</td><td>+22 22 05.616</td><td>14</td><td>14</td><td>0.030</td><td>0.041</td><td>90</td><td>A</td><td>O</td><td>2018yCat.1345....0G</td></tr>\n",
       "<tr><td>NGC    92</td><td>00 21 31.713</td><td>-48 37 29.23</td><td>7</td><td>7</td><td>--</td><td>--</td><td>0</td><td>C</td><td>I</td><td>2006AJ....131.1163S</td></tr>\n",
       "<tr><td>NGC    93</td><td>00 22 03.2289</td><td>+22 24 29.188</td><td>14</td><td>14</td><td>50.459</td><td>11.111</td><td>90</td><td>C</td><td>O</td><td>2018yCat.1345....0G</td></tr>\n",
       "<tr><td>NGC    94</td><td>00 22 13.5333</td><td>+22 28 58.853</td><td>14</td><td>14</td><td>2.545</td><td>2.146</td><td>90</td><td>C</td><td>O</td><td>2018yCat.1345....0G</td></tr>\n",
       "<tr><td>NGC    95</td><td>00 22 13.5413</td><td>+10 29 29.703</td><td>14</td><td>14</td><td>2.820</td><td>1.446</td><td>90</td><td>C</td><td>O</td><td>2018yCat.1345....0G</td></tr>\n",
       "<tr><td>NGC    96</td><td>00 22 17.7201</td><td>+22 32 46.707</td><td>14</td><td>14</td><td>2.547</td><td>2.440</td><td>90</td><td>C</td><td>O</td><td>2018yCat.1345....0G</td></tr>\n",
       "<tr><td>NGC    97</td><td>00 22 30.0163</td><td>+29 44 43.124</td><td>14</td><td>14</td><td>5.674</td><td>8.794</td><td>90</td><td>C</td><td>O</td><td>2018yCat.1345....0G</td></tr>\n",
       "<tr><td>NGC    98</td><td>00 22 49.5591</td><td>-45 16 08.600</td><td>14</td><td>14</td><td>1.885</td><td>2.786</td><td>90</td><td>C</td><td>O</td><td>2018yCat.1345....0G</td></tr>\n",
       "</table>"
      ],
      "text/plain": [
       "<Table length=100>\n",
       "    MAIN_ID           RA      ... COO_WAVELENGTH     COO_BIBCODE    \n",
       "                   \"h:m:s\"    ...                                   \n",
       "     object         str13     ...      str1             object      \n",
       "--------------- ------------- ... -------------- -------------------\n",
       "      NGC     1 00 07 15.8554 ...              O 2018yCat.1345....0G\n",
       "      NGC     2 00 07 17.1152 ...              O 2018yCat.1345....0G\n",
       "      NGC     3  00 07 16.804 ...              I 2006AJ....131.1163S\n",
       "      NGC     4    00 07 24.4 ...              O 2003A&A...412...45P\n",
       "      NGC     5  00 07 48.898 ...              I 2006AJ....131.1163S\n",
       "      NGC     7    00 08 20.3 ...              O 2003A&A...412...45P\n",
       "      NGC     8    00 08 45.3 ...              O 2003A&A...412...45P\n",
       "      NGC     9  00 08 54.713 ...              I 2006AJ....131.1163S\n",
       "      NGC    10 00 08 34.5366 ...              O 2018yCat.1345....0G\n",
       "            ...           ... ...            ...                 ...\n",
       "      NGC    89  00 21 24.355 ...              I 2006AJ....131.1163S\n",
       "      NGC    90  00 21 51.409 ...              I 2006AJ....131.1163S\n",
       "UCAC2  39602310 00 21 51.6259 ...              O 2018yCat.1345....0G\n",
       "      NGC    92  00 21 31.713 ...              I 2006AJ....131.1163S\n",
       "      NGC    93 00 22 03.2289 ...              O 2018yCat.1345....0G\n",
       "      NGC    94 00 22 13.5333 ...              O 2018yCat.1345....0G\n",
       "      NGC    95 00 22 13.5413 ...              O 2018yCat.1345....0G\n",
       "      NGC    96 00 22 17.7201 ...              O 2018yCat.1345....0G\n",
       "      NGC    97 00 22 30.0163 ...              O 2018yCat.1345....0G\n",
       "      NGC    98 00 22 49.5591 ...              O 2018yCat.1345....0G"
      ]
     },
     "execution_count": 6,
     "metadata": {},
     "output_type": "execute_result"
    }
   ],
   "source": [
    "ngccat = Simbad.query_catalog('ngc')\n",
    "ngccat"
   ]
  },
  {
   "cell_type": "markdown",
   "metadata": {
    "slideshow": {
     "slide_type": "slide"
    }
   },
   "source": [
    "### Querying sources from publications\n",
    "\n",
    "In SIMBAD, you can also query a publication to find the sources"
   ]
  },
  {
   "cell_type": "code",
   "execution_count": 7,
   "metadata": {},
   "outputs": [
    {
     "data": {
      "text/html": [
       "<i>Table length=14</i>\n",
       "<table id=\"table4603277424\" class=\"table-striped table-bordered table-condensed\">\n",
       "<thead><tr><th>MAIN_ID</th><th>RA</th><th>DEC</th><th>RA_PREC</th><th>DEC_PREC</th><th>COO_ERR_MAJA</th><th>COO_ERR_MINA</th><th>COO_ERR_ANGLE</th><th>COO_QUAL</th><th>COO_WAVELENGTH</th><th>COO_BIBCODE</th></tr></thead>\n",
       "<thead><tr><th></th><th>&quot;h:m:s&quot;</th><th>&quot;d:m:s&quot;</th><th></th><th></th><th>mas</th><th>mas</th><th>deg</th><th></th><th></th><th></th></tr></thead>\n",
       "<thead><tr><th>object</th><th>str13</th><th>str13</th><th>int16</th><th>int16</th><th>float32</th><th>float32</th><th>int16</th><th>str1</th><th>str1</th><th>object</th></tr></thead>\n",
       "<tr><td>M  31</td><td>00 42 44.330</td><td>+41 16 07.50</td><td>7</td><td>7</td><td>--</td><td>--</td><td>0</td><td>C</td><td>I</td><td>2006AJ....131.1163S</td></tr>\n",
       "<tr><td>[NYR2002] S167-54-21.5</td><td>02 28</td><td>+00.0</td><td>2</td><td>2</td><td>--</td><td>--</td><td>0</td><td>E</td><td></td><td></td></tr>\n",
       "<tr><td>[NYR2002] S200-24-19.8</td><td>05 03</td><td>+00.0</td><td>2</td><td>2</td><td>--</td><td>--</td><td>0</td><td>E</td><td></td><td></td></tr>\n",
       "<tr><td>[NYR2002] S183+22-19.4</td><td>07 26</td><td>+36.0</td><td>2</td><td>2</td><td>--</td><td>--</td><td>0</td><td>E</td><td></td><td></td></tr>\n",
       "<tr><td>[NYR2002] S218+22-19.5</td><td>08 19</td><td>+06.0</td><td>2</td><td>2</td><td>--</td><td>--</td><td>0</td><td>E</td><td></td><td></td></tr>\n",
       "<tr><td>[NYR2002] S223+20-19.4</td><td>08 21</td><td>+01.0</td><td>2</td><td>2</td><td>--</td><td>--</td><td>0</td><td>E</td><td></td><td></td></tr>\n",
       "<tr><td>[NYR2002] S297+63-20.5</td><td>12 41</td><td>+00.0</td><td>2</td><td>2</td><td>--</td><td>--</td><td>0</td><td>E</td><td></td><td></td></tr>\n",
       "<tr><td>[NYR2002] S006+41-20.0</td><td>14 01</td><td>+08.0</td><td>2</td><td>2</td><td>--</td><td>--</td><td>0</td><td>E</td><td></td><td></td></tr>\n",
       "<tr><td>[NYR2002] S341+57-22.5</td><td>14 10</td><td>+00.0</td><td>2</td><td>2</td><td>--</td><td>--</td><td>0</td><td>E</td><td></td><td></td></tr>\n",
       "<tr><td>NAME Serpens Dwarf</td><td>15 16 05.30</td><td>-00 06 41.0</td><td>6</td><td>6</td><td>--</td><td>--</td><td>0</td><td>D</td><td></td><td>2006MNRAS.365.1357D</td></tr>\n",
       "<tr><td>NAME Gal Center</td><td>17 45 40.04</td><td>-29 00 28.1</td><td>6</td><td>6</td><td>--</td><td>--</td><td>0</td><td>E</td><td></td><td></td></tr>\n",
       "<tr><td>NAME SDG</td><td>18 55 03.1</td><td>-30 28 42</td><td>5</td><td>5</td><td>--</td><td>--</td><td>0</td><td>D</td><td></td><td>2004AJ....127.2031K</td></tr>\n",
       "<tr><td>[NYR2002] S052-32-20.4</td><td>21 18</td><td>+00.0</td><td>2</td><td>2</td><td>--</td><td>--</td><td>0</td><td>E</td><td></td><td></td></tr>\n",
       "<tr><td>NAME Galactic Bulge</td><td></td><td></td><td>0</td><td>0</td><td>--</td><td>--</td><td>0</td><td></td><td></td><td></td></tr>\n",
       "</table>"
      ],
      "text/plain": [
       "<Table length=14>\n",
       "       MAIN_ID              RA      ... COO_WAVELENGTH     COO_BIBCODE    \n",
       "                         \"h:m:s\"    ...                                   \n",
       "        object            str13     ...      str1             object      \n",
       "---------------------- ------------ ... -------------- -------------------\n",
       "                 M  31 00 42 44.330 ...              I 2006AJ....131.1163S\n",
       "[NYR2002] S167-54-21.5        02 28 ...                                   \n",
       "[NYR2002] S200-24-19.8        05 03 ...                                   \n",
       "[NYR2002] S183+22-19.4        07 26 ...                                   \n",
       "[NYR2002] S218+22-19.5        08 19 ...                                   \n",
       "[NYR2002] S223+20-19.4        08 21 ...                                   \n",
       "[NYR2002] S297+63-20.5        12 41 ...                                   \n",
       "[NYR2002] S006+41-20.0        14 01 ...                                   \n",
       "[NYR2002] S341+57-22.5        14 10 ...                                   \n",
       "    NAME Serpens Dwarf  15 16 05.30 ...                2006MNRAS.365.1357D\n",
       "       NAME Gal Center  17 45 40.04 ...                                   \n",
       "              NAME SDG   18 55 03.1 ...                2004AJ....127.2031K\n",
       "[NYR2002] S052-32-20.4        21 18 ...                                   \n",
       "   NAME Galactic Bulge              ...                                   "
      ]
     },
     "execution_count": 7,
     "metadata": {},
     "output_type": "execute_result"
    }
   ],
   "source": [
    "newberg2002 = Simbad.query_bibobj('2002ApJ...569..245N')\n",
    "newberg2002"
   ]
  },
  {
   "cell_type": "markdown",
   "metadata": {
    "slideshow": {
     "slide_type": "slide"
    }
   },
   "source": [
    "Finally, you can modify the default parameters of the query tool, such as the `TIMEOUT` (the maximum wait time before deciding the query has failed) and the `ROW_LIMIT` (the maximum number of entries returned) by creating a new object.  You can also tell SIMBAD to return additional information, e.g. the number of citations for each object."
   ]
  },
  {
   "cell_type": "code",
   "execution_count": 8,
   "metadata": {
    "slideshow": {
     "slide_type": "-"
    }
   },
   "outputs": [
    {
     "data": {
      "text/html": [
       "<i>Table length=14</i>\n",
       "<table id=\"table4607723072\" class=\"table-striped table-bordered table-condensed\">\n",
       "<thead><tr><th>MAIN_ID</th><th>RA</th><th>DEC</th><th>RA_PREC</th><th>DEC_PREC</th><th>COO_ERR_MAJA</th><th>COO_ERR_MINA</th><th>COO_ERR_ANGLE</th><th>COO_QUAL</th><th>COO_WAVELENGTH</th><th>COO_BIBCODE</th><th>BIBLIST_1800_2014</th></tr></thead>\n",
       "<thead><tr><th></th><th>&quot;h:m:s&quot;</th><th>&quot;d:m:s&quot;</th><th></th><th></th><th>mas</th><th>mas</th><th>deg</th><th></th><th></th><th></th><th></th></tr></thead>\n",
       "<thead><tr><th>object</th><th>str13</th><th>str13</th><th>int16</th><th>int16</th><th>float32</th><th>float32</th><th>int16</th><th>str1</th><th>str1</th><th>object</th><th>int32</th></tr></thead>\n",
       "<tr><td>M  31</td><td>00 42 44.330</td><td>+41 16 07.50</td><td>7</td><td>7</td><td>--</td><td>--</td><td>0</td><td>C</td><td>I</td><td>2006AJ....131.1163S</td><td>8389</td></tr>\n",
       "<tr><td>[NYR2002] S167-54-21.5</td><td>02 28</td><td>+00.0</td><td>2</td><td>2</td><td>--</td><td>--</td><td>0</td><td>E</td><td></td><td></td><td>8</td></tr>\n",
       "<tr><td>[NYR2002] S200-24-19.8</td><td>05 03</td><td>+00.0</td><td>2</td><td>2</td><td>--</td><td>--</td><td>0</td><td>E</td><td></td><td></td><td>4</td></tr>\n",
       "<tr><td>[NYR2002] S183+22-19.4</td><td>07 26</td><td>+36.0</td><td>2</td><td>2</td><td>--</td><td>--</td><td>0</td><td>E</td><td></td><td></td><td>3</td></tr>\n",
       "<tr><td>[NYR2002] S218+22-19.5</td><td>08 19</td><td>+06.0</td><td>2</td><td>2</td><td>--</td><td>--</td><td>0</td><td>E</td><td></td><td></td><td>3</td></tr>\n",
       "<tr><td>[NYR2002] S223+20-19.4</td><td>08 21</td><td>+01.0</td><td>2</td><td>2</td><td>--</td><td>--</td><td>0</td><td>E</td><td></td><td></td><td>6</td></tr>\n",
       "<tr><td>[NYR2002] S297+63-20.5</td><td>12 41</td><td>+00.0</td><td>2</td><td>2</td><td>--</td><td>--</td><td>0</td><td>E</td><td></td><td></td><td>14</td></tr>\n",
       "<tr><td>[NYR2002] S006+41-20.0</td><td>14 01</td><td>+08.0</td><td>2</td><td>2</td><td>--</td><td>--</td><td>0</td><td>E</td><td></td><td></td><td>2</td></tr>\n",
       "<tr><td>[NYR2002] S341+57-22.5</td><td>14 10</td><td>+00.0</td><td>2</td><td>2</td><td>--</td><td>--</td><td>0</td><td>E</td><td></td><td></td><td>6</td></tr>\n",
       "<tr><td>NAME Serpens Dwarf</td><td>15 16 05.30</td><td>-00 06 41.0</td><td>6</td><td>6</td><td>--</td><td>--</td><td>0</td><td>D</td><td></td><td>2006MNRAS.365.1357D</td><td>450</td></tr>\n",
       "<tr><td>NAME Gal Center</td><td>17 45 40.04</td><td>-29 00 28.1</td><td>6</td><td>6</td><td>--</td><td>--</td><td>0</td><td>E</td><td></td><td></td><td>7612</td></tr>\n",
       "<tr><td>NAME SDG</td><td>18 55 03.1</td><td>-30 28 42</td><td>5</td><td>5</td><td>--</td><td>--</td><td>0</td><td>D</td><td></td><td>2004AJ....127.2031K</td><td>1205</td></tr>\n",
       "<tr><td>[NYR2002] S052-32-20.4</td><td>21 18</td><td>+00.0</td><td>2</td><td>2</td><td>--</td><td>--</td><td>0</td><td>E</td><td></td><td></td><td>2</td></tr>\n",
       "<tr><td>NAME Galactic Bulge</td><td></td><td></td><td>0</td><td>0</td><td>--</td><td>--</td><td>0</td><td></td><td></td><td></td><td>2143</td></tr>\n",
       "</table>"
      ],
      "text/plain": [
       "<Table length=14>\n",
       "       MAIN_ID              RA      ...     COO_BIBCODE     BIBLIST_1800_2014\n",
       "                         \"h:m:s\"    ...                                      \n",
       "        object            str13     ...        object             int32      \n",
       "---------------------- ------------ ... ------------------- -----------------\n",
       "                 M  31 00 42 44.330 ... 2006AJ....131.1163S              8389\n",
       "[NYR2002] S167-54-21.5        02 28 ...                                     8\n",
       "[NYR2002] S200-24-19.8        05 03 ...                                     4\n",
       "[NYR2002] S183+22-19.4        07 26 ...                                     3\n",
       "[NYR2002] S218+22-19.5        08 19 ...                                     3\n",
       "[NYR2002] S223+20-19.4        08 21 ...                                     6\n",
       "[NYR2002] S297+63-20.5        12 41 ...                                    14\n",
       "[NYR2002] S006+41-20.0        14 01 ...                                     2\n",
       "[NYR2002] S341+57-22.5        14 10 ...                                     6\n",
       "    NAME Serpens Dwarf  15 16 05.30 ... 2006MNRAS.365.1357D               450\n",
       "       NAME Gal Center  17 45 40.04 ...                                  7612\n",
       "              NAME SDG   18 55 03.1 ... 2004AJ....127.2031K              1205\n",
       "[NYR2002] S052-32-20.4        21 18 ...                                     2\n",
       "   NAME Galactic Bulge              ...                                  2143"
      ]
     },
     "execution_count": 8,
     "metadata": {},
     "output_type": "execute_result"
    }
   ],
   "source": [
    "customSimbad = Simbad()\n",
    "customSimbad.ROW_LIMIT = 100\n",
    "customSimbad.add_votable_fields('bibcodelist(1800-2014)')\n",
    "\n",
    "# bibcodelist(date1-date2) lists the number of bibliography\n",
    "# items referring to each object over that date range\n",
    "newberg2002 = customSimbad.query_bibobj('2002ApJ...569..245N')\n",
    "newberg2002"
   ]
  },
  {
   "cell_type": "markdown",
   "metadata": {
    "slideshow": {
     "slide_type": "slide"
    }
   },
   "source": [
    "## More than just catalogs\n",
    "There are archive query services that return images, spectra, instrument information, and metadata in addition to catalogs."
   ]
  },
  {
   "cell_type": "markdown",
   "metadata": {
    "slideshow": {
     "slide_type": "slide"
    }
   },
   "source": [
    "### Example: ESO archive\n",
    "\n",
    "The ESO service has the following methods:\n",
    "\n",
    " * `list_instruments` to list the available instruments that can be queried\n",
    " * `list_surveys` lists the available large public surveys\n",
    " * `query_instrument` queries for data sets from a specific instrument\n",
    " * `query_surveys` does the same for surveys\n",
    " * `get_headers` gets header information for any datasets listed from a previous query\n",
    " * `login` logs you in with your username, which is *required* for *any* data retrieval (even public data)\n",
    " * `retrieve_datasets` or (deprecated) `data_retrieval` allows you to stage *and* download any data set your username is allowed to access\n",
    " \n",
    "Queries are cached, so repeating them should be fast.  Downloaded data is also cached to the `Eso.cache_location`"
   ]
  },
  {
   "cell_type": "code",
   "execution_count": 9,
   "metadata": {
    "slideshow": {
     "slide_type": "slide"
    }
   },
   "outputs": [],
   "source": [
    "from astroquery.eso import Eso"
   ]
  },
  {
   "cell_type": "code",
   "execution_count": 10,
   "metadata": {
    "slideshow": {
     "slide_type": "-"
    }
   },
   "outputs": [
    {
     "data": {
      "text/plain": [
       "['fors1',\n",
       " 'fors2',\n",
       " 'sphere',\n",
       " 'vimos',\n",
       " 'omegacam',\n",
       " 'hawki',\n",
       " 'isaac',\n",
       " 'naco',\n",
       " 'visir',\n",
       " 'vircam',\n",
       " 'apex',\n",
       " 'giraffe',\n",
       " 'uves',\n",
       " 'xshooter',\n",
       " 'espresso',\n",
       " 'muse',\n",
       " 'crires',\n",
       " 'kmos',\n",
       " 'sinfoni',\n",
       " 'amber',\n",
       " 'gravity',\n",
       " 'matisse',\n",
       " 'midi',\n",
       " 'pionier',\n",
       " 'wlgsu']"
      ]
     },
     "execution_count": 10,
     "metadata": {},
     "output_type": "execute_result"
    }
   ],
   "source": [
    "Eso.list_instruments()"
   ]
  },
  {
   "cell_type": "markdown",
   "metadata": {
    "slideshow": {
     "slide_type": "slide"
    }
   },
   "source": [
    "In order to figure out how to construct a query, you can open the form directly"
   ]
  },
  {
   "cell_type": "code",
   "execution_count": 11,
   "metadata": {
    "slideshow": {
     "slide_type": "-"
    }
   },
   "outputs": [],
   "source": [
    "Eso.query_instrument('kmos', open_form=True)"
   ]
  },
  {
   "cell_type": "markdown",
   "metadata": {
    "slideshow": {
     "slide_type": "-"
    }
   },
   "source": [
    "or use the ``help`` keyword.  The printout will then show what keywords correspond to each form name.  For example, the keyword ``pi_coi`` corresponds to the form box ``PI/CoI Name``."
   ]
  },
  {
   "cell_type": "code",
   "execution_count": 12,
   "metadata": {
    "slideshow": {
     "slide_type": "-"
    }
   },
   "outputs": [
    {
     "name": "stdout",
     "output_type": "stream",
     "text": [
      "INFO: List of accepted column_filters parameters. [astroquery.eso.core]\n",
      "INFO: The presence of a column in the result table can be controlled if prefixed with a [ ] checkbox. [astroquery.eso.core]\n",
      "INFO: The default columns in the result table are shown as already ticked: [x]. [astroquery.eso.core]\n",
      "\n",
      "Target Information\n",
      "------------------\n",
      "    target: \n",
      "    resolver: simbad (SIMBAD name), ned (NED name), none (OBJECT as specified by the observer)\n",
      "    coord_sys: eq (Equatorial (FK5)), gal (Galactic)\n",
      "    coord1: \n",
      "    coord2: \n",
      "    box: \n",
      "    format: sexagesimal (Sexagesimal), decimal (Decimal)\n",
      "[x] wdb_input_file: \n",
      "\n",
      "Observation and proposal parameters\n",
      "-----------------------------------\n",
      "[ ] night: \n",
      "    stime: \n",
      "    starttime: 00 (00 hrs [UT]), 01 (01 hrs [UT]), 02 (02 hrs [UT]), 03 (03 hrs [UT]), 04 (04 hrs [UT]), 05 (05 hrs [UT]), 06 (06 hrs [UT]), 07 (07 hrs [UT]), 08 (08 hrs [UT]), 09 (09 hrs [UT]), 10 (10 hrs [UT]), 11 (11 hrs [UT]), 12 (12 hrs [UT]), 13 (13 hrs [UT]), 14 (14 hrs [UT]), 15 (15 hrs [UT]), 16 (16 hrs [UT]), 17 (17 hrs [UT]), 18 (18 hrs [UT]), 19 (19 hrs [UT]), 20 (20 hrs [UT]), 21 (21 hrs [UT]), 22 (22 hrs [UT]), 23 (23 hrs [UT]), 24 (24 hrs [UT])\n",
      "    etime: \n",
      "    endtime: 00 (00 hrs [UT]), 01 (01 hrs [UT]), 02 (02 hrs [UT]), 03 (03 hrs [UT]), 04 (04 hrs [UT]), 05 (05 hrs [UT]), 06 (06 hrs [UT]), 07 (07 hrs [UT]), 08 (08 hrs [UT]), 09 (09 hrs [UT]), 10 (10 hrs [UT]), 11 (11 hrs [UT]), 12 (12 hrs [UT]), 13 (13 hrs [UT]), 14 (14 hrs [UT]), 15 (15 hrs [UT]), 16 (16 hrs [UT]), 17 (17 hrs [UT]), 18 (18 hrs [UT]), 19 (19 hrs [UT]), 20 (20 hrs [UT]), 21 (21 hrs [UT]), 22 (22 hrs [UT]), 23 (23 hrs [UT]), 24 (24 hrs [UT])\n",
      "[x] prog_id: \n",
      "[ ] prog_type: % (Any), 0 (Normal), 1 (GTO), 2 (DDT), 3 (ToO), 4 (Large), 5 (Short), 6 (Calibration)\n",
      "[ ] obs_mode: % (All modes), s (Service), v (Visitor)\n",
      "[ ] pi_coi: \n",
      "    pi_coi_name: PI_only (as PI only), none (as PI or CoI)\n",
      "[ ] prog_title: \n",
      "\n",
      "Generic File Information\n",
      "------------------------\n",
      "[x] dp_id: \n",
      "[x] ob_id: \n",
      "[x] obs_targ_name: \n",
      "[x] exptime: \n",
      "[x] dp_cat: % (Any), ACQUISITION (ACQUISITION), CALIB (CALIB), SCIENCE (SCIENCE)\n",
      "[x] dp_type: % (Any), DARK (DARK), FLAT% (FLAT), FLAT,LAMP (FLAT,LAMP), FLAT,OFF (FLAT,OFF), FLAT,SKY (FLAT,SKY), OBJECT (OBJECT), OBJECT,SKY (OBJECT,SKY), OBJECT,SKY,STD,FLUX (OBJECT,SKY,STD,FLUX), SKY (SKY), WAVE,LAMP (WAVE,LAMP), WAVE,OFF (WAVE,OFF)\n",
      "    dp_type_user: \n",
      "[x] dp_tech: % (Any), IFU (IFU), IMAGE (IMAGE), SPECTRUM (SPECTRUM)\n",
      "    dp_tech_user: \n",
      "[ ] tpl_id: \n",
      "[x] tpl_start: \n",
      "[ ] tpl_nexp: \n",
      "[ ] tpl_expno: \n",
      "[ ] obs_tplno: \n",
      "\n",
      "Specific Instrument Information\n",
      "-------------------------------\n",
      "[x] ins_grat1_name: % (Any), IZ% (IZ), YJ% (YJ), H% (H), K% (K), HK% (HK)\n",
      "[x] ins_filt1_name: % (Any), IZ% (IZ), YJ% (YJ), H% (H), K% (K), HK% (HK)\n",
      "[x] ins_lamp1_name: \n",
      "[x] ins_lamp2_name: \n",
      "[x] ins_lamp3_name: \n",
      "[x] det_seq1_dit: \n",
      "[x] det_ndit: \n",
      "\n",
      "Ambient Parameters\n",
      "------------------\n",
      "[x] fwhm_avg: \n",
      "[ ] airmass_range: \n",
      "[ ] night_flag: % (Any), 0 (Night), 1 (Twilight), 2 (Daytime)\n",
      "[ ] moon_illu: \n",
      "\n",
      "Result set\n",
      "----------\n",
      "    order:  (nothing (faster)), dp_id (Observation Time), dp_cat (DPR.CATG), dp_tech (DPR.TECH), tpl_start (TPL.START), ob_id asc (OB.ID (ascending)), ob_id desc (OB.ID (descending)), period asc,prog_id asc (Period and Run ID (earliest first)), period desc,prog_id desc (Period and Run ID (latest first))\n"
     ]
    }
   ],
   "source": [
    "Eso.query_instrument('kmos', help=True)"
   ]
  },
  {
   "cell_type": "code",
   "execution_count": 13,
   "metadata": {
    "slideshow": {
     "slide_type": "slide"
    }
   },
   "outputs": [
    {
     "data": {
      "text/html": [
       "<i>Table length=50</i>\n",
       "<table id=\"table4669864832\" class=\"table-striped table-bordered table-condensed\">\n",
       "<thead><tr><th>Release Date</th><th>Object</th><th>RA</th><th>DEC</th><th>Target Ra Dec</th><th>Target l b</th><th>ProgId</th><th>DP.ID</th><th>OB.ID</th><th>OBS.TARG.NAME</th><th>EXPTIME</th><th>DPR.CATG</th><th>DPR.TYPE</th><th>DPR.TECH</th><th>INS MODE</th><th>SEQ.ARM</th><th>DET.READ.CLOCK</th><th>INS.FILT1.NAME</th><th>INS.OPTI2.NAME</th><th>INS.OPTI3.NAME</th><th>INS.OPTI4.NAME</th><th>INS.OPTI5.NAME</th><th>DIMM Seeing-avg</th></tr></thead>\n",
       "<thead><tr><th>str10</th><th>str8</th><th>float64</th><th>float64</th><th>str23</th><th>str21</th><th>str13</th><th>str29</th><th>int64</th><th>str22</th><th>float64</th><th>str11</th><th>str8</th><th>str20</th><th>str8</th><th>str3</th><th>str20</th><th>str1</th><th>str4</th><th>str7</th><th>str7</th><th>str7</th><th>str11</th></tr></thead>\n",
       "<tr><td>2016-01-28</td><td>LAMP,AFC</td><td>167.009583</td><td>-76.67619</td><td>11:08:02.30 -76:40:34.3</td><td>296.960415 -15.018610</td><td>096.C-0979(A)</td><td>XSHOO.2016-01-28T05:58:34.628</td><td>1261417</td><td>LM717</td><td>2.0</td><td>CALIB</td><td>LAMP,AFC</td><td>ECHELLE</td><td>CALIB</td><td>NIR</td><td>--</td><td>--</td><td>SLOT</td><td>Pin_0.5</td><td>Pin_0.5</td><td>Pin_0.5</td><td>0.90 [0.01]</td></tr>\n",
       "<tr><td>2016-01-28</td><td>LAMP,AFC</td><td>167.009583</td><td>-76.67619</td><td>11:08:02.30 -76:40:34.3</td><td>296.960415 -15.018610</td><td>096.C-0979(A)</td><td>XSHOO.2016-01-28T05:59:04.026</td><td>1261417</td><td>LM717</td><td>1.0</td><td>CALIB</td><td>LAMP,AFC</td><td>ECHELLE</td><td>CALIB</td><td>VIS</td><td>400k/1pt/lg/AFC</td><td>--</td><td>PIN</td><td>5.0x11</td><td>5.0x11</td><td>5.0x11</td><td>0.90 [0.01]</td></tr>\n",
       "<tr><td>2016-01-28</td><td>OBJECT</td><td>167.010573</td><td>-76.67625</td><td>11:08:02.54 -76:40:34.5</td><td>296.960657 -15.018573</td><td>096.C-0979(A)</td><td>XSHOO.2016-01-28T06:02:27.308</td><td>1261417</td><td>LM717</td><td>15.0</td><td>ACQUISITION</td><td>OBJECT</td><td>IMAGE</td><td>IMAG</td><td>AGC</td><td>acetecE2V57I_ENG.clk</td><td>V</td><td>MIR</td><td>5.0x11</td><td>5.0x11</td><td>5.0x11</td><td>0.93 [0.01]</td></tr>\n",
       "<tr><td>2016-01-28</td><td>LAMP,AFC</td><td>167.009583</td><td>-76.67619</td><td>11:08:02.30 -76:40:34.3</td><td>296.960415 -15.018610</td><td>096.C-0979(A)</td><td>XSHOO.2016-01-28T05:59:03.842</td><td>1261417</td><td>LM717</td><td>2.0</td><td>CALIB</td><td>LAMP,AFC</td><td>ECHELLE</td><td>CALIB</td><td>NIR</td><td>--</td><td>--</td><td>PIN</td><td>5.0x11</td><td>5.0x11</td><td>5.0x11</td><td>0.90 [0.01]</td></tr>\n",
       "<tr><td>2016-01-28</td><td>LAMP,AFC</td><td>241.460833</td><td>-25.55378</td><td>16:05:50.60 -25:33:13.6</td><td>348.826268 19.528763</td><td>096.C-0979(A)</td><td>XSHOO.2016-01-28T09:03:47.852</td><td>1261387</td><td>PZ99J160550.5-2533</td><td>5.0</td><td>CALIB</td><td>LAMP,AFC</td><td>ECHELLE</td><td>CALIB</td><td>UVB</td><td>400k/1pt/lg/AFC</td><td>--</td><td>SLOT</td><td>Pin_0.5</td><td>Pin_0.5</td><td>Pin_0.5</td><td>1.30 [0.63]</td></tr>\n",
       "<tr><td>2016-01-28</td><td>LAMP,AFC</td><td>241.460833</td><td>-25.55378</td><td>16:05:50.60 -25:33:13.6</td><td>348.826268 19.528763</td><td>096.C-0979(A)</td><td>XSHOO.2016-01-28T09:04:17.059</td><td>1261387</td><td>PZ99J160550.5-2533</td><td>1.0</td><td>CALIB</td><td>LAMP,AFC</td><td>ECHELLE</td><td>CALIB</td><td>VIS</td><td>400k/1pt/lg/AFC</td><td>--</td><td>PIN</td><td>5.0x11</td><td>5.0x11</td><td>5.0x11</td><td>1.30 [0.63]</td></tr>\n",
       "<tr><td>2017-08-08</td><td>OBJECT</td><td>241.072175</td><td>-19.70769</td><td>16:04:17.32 -19:42:27.7</td><td>353.067645 23.863089</td><td>097.C-0378(A)</td><td>XSHOO.2016-08-07T23:52:45.367</td><td>1318219</td><td>2MASSJ16041740-1942287</td><td>4.0</td><td>ACQUISITION</td><td>OBJECT</td><td>IMAGE</td><td>IMAG</td><td>AGC</td><td>acetecE2V57I_ENG.clk</td><td>V</td><td>MIR</td><td>5.0x11</td><td>5.0x11</td><td>5.0x11</td><td>0.99 [0.01]</td></tr>\n",
       "<tr><td>2016-08-07</td><td>LAMP,AFC</td><td>241.072496</td><td>-19.70797</td><td>16:04:17.40 -19:42:28.7</td><td>353.067650 23.862677</td><td>097.C-0378(A)</td><td>XSHOO.2016-08-07T23:48:34.309</td><td>1318219</td><td>2MASSJ16041740-1942287</td><td>5.0</td><td>CALIB</td><td>LAMP,AFC</td><td>ECHELLE</td><td>CALIB</td><td>UVB</td><td>400k/1pt/lg/AFC</td><td>--</td><td>SLOT</td><td>Pin_0.5</td><td>Pin_0.5</td><td>Pin_0.5</td><td>N/A</td></tr>\n",
       "<tr><td>2016-08-07</td><td>LAMP,AFC</td><td>241.072496</td><td>-19.70797</td><td>16:04:17.40 -19:42:28.7</td><td>353.067650 23.862677</td><td>097.C-0378(A)</td><td>XSHOO.2016-08-07T23:48:35.117</td><td>1318219</td><td>2MASSJ16041740-1942287</td><td>2.0</td><td>CALIB</td><td>LAMP,AFC</td><td>ECHELLE</td><td>CALIB</td><td>NIR</td><td>--</td><td>--</td><td>SLOT</td><td>Pin_0.5</td><td>Pin_0.5</td><td>Pin_0.5</td><td>N/A</td></tr>\n",
       "<tr><td>2016-08-07</td><td>LAMP,AFC</td><td>241.072496</td><td>-19.70797</td><td>16:04:17.40 -19:42:28.7</td><td>353.067650 23.862677</td><td>097.C-0378(A)</td><td>XSHOO.2016-08-07T23:49:03.663</td><td>1318219</td><td>2MASSJ16041740-1942287</td><td>2.0</td><td>CALIB</td><td>LAMP,AFC</td><td>ECHELLE</td><td>CALIB</td><td>NIR</td><td>--</td><td>--</td><td>PIN</td><td>5.0x11</td><td>5.0x11</td><td>5.0x11</td><td>N/A</td></tr>\n",
       "<tr><td>...</td><td>...</td><td>...</td><td>...</td><td>...</td><td>...</td><td>...</td><td>...</td><td>...</td><td>...</td><td>...</td><td>...</td><td>...</td><td>...</td><td>...</td><td>...</td><td>...</td><td>...</td><td>...</td><td>...</td><td>...</td><td>...</td><td>...</td></tr>\n",
       "<tr><td>2013-03-08</td><td>OM-3125</td><td>83.840953</td><td>-5.57978</td><td>05:35:21.83 -05:34:47.2</td><td>209.201195 -19.450099</td><td>288.C-5038(A)</td><td>XSHOO.2012-03-07T01:24:01.322</td><td>729631</td><td>OM-3125</td><td>300.0</td><td>SCIENCE</td><td>OBJECT</td><td>ECHELLE,SLIT,NODDING</td><td>SLITSPEC</td><td>UVB</td><td>100k/1pt/hg</td><td>V</td><td>SLOT</td><td>0.5x11</td><td>0.4x11</td><td>0.4x11</td><td>1.07 [0.29]</td></tr>\n",
       "<tr><td>2012-03-07</td><td>LAMP,AFC</td><td>83.840363</td><td>-5.57969</td><td>05:35:21.69 -05:34:46.9</td><td>209.200829 -19.450582</td><td>288.C-5038(A)</td><td>XSHOO.2012-03-07T01:19:28.460</td><td>729631</td><td>OM-3125</td><td>10.0</td><td>CALIB</td><td>LAMP,AFC</td><td>ECHELLE</td><td>CALIB</td><td>UVB</td><td>400k/1pt/lg/AFC</td><td>U</td><td>PIN</td><td>5.0x11</td><td>5.0x11</td><td>5.0x11</td><td>1.21 [0.51]</td></tr>\n",
       "<tr><td>2013-03-08</td><td>OM-3125</td><td>83.839823</td><td>-5.57897</td><td>05:35:21.56 -05:34:44.3</td><td>209.199891 -19.450737</td><td>288.C-5038(A)</td><td>XSHOO.2012-03-07T01:32:01.407</td><td>729631</td><td>OM-3125</td><td>150.0</td><td>SCIENCE</td><td>OBJECT</td><td>ECHELLE,SLIT,NODDING</td><td>SLITSPEC</td><td>NIR</td><td>--</td><td>V</td><td>SLOT</td><td>0.5x11</td><td>0.4x11</td><td>0.4x11</td><td>1.35 [0.70]</td></tr>\n",
       "<tr><td>2013-03-08</td><td>OBJECT</td><td>83.840388</td><td>-5.57937</td><td>05:35:21.69 -05:34:45.7</td><td>209.200538 -19.450416</td><td>288.C-5038(A)</td><td>XSHOO.2012-03-07T01:23:08.218</td><td>729631</td><td>OM-3125</td><td>3.0</td><td>ACQUISITION</td><td>OBJECT</td><td>IMAGE</td><td>IMAG</td><td>--</td><td>acetecE2V57I_ENG.clk</td><td>V</td><td>MIR</td><td>5.0x11</td><td>5.0x11</td><td>5.0x11</td><td>1.17 [0.45]</td></tr>\n",
       "<tr><td>2013-03-08</td><td>OBJECT</td><td>83.840388</td><td>-5.57937</td><td>05:35:21.69 -05:34:45.7</td><td>209.200538 -19.450416</td><td>288.C-5038(A)</td><td>XSHOO.2012-03-07T01:22:57.099</td><td>729631</td><td>OM-3125</td><td>3.0</td><td>ACQUISITION</td><td>OBJECT</td><td>IMAGE</td><td>IMAG</td><td>--</td><td>acetecE2V57I_ENG.clk</td><td>V</td><td>MIR</td><td>5.0x11</td><td>5.0x11</td><td>5.0x11</td><td>1.17 [0.45]</td></tr>\n",
       "<tr><td>2013-03-08</td><td>OM-3125</td><td>83.839823</td><td>-5.57897</td><td>05:35:21.56 -05:34:44.3</td><td>209.199891 -19.450737</td><td>288.C-5038(A)</td><td>XSHOO.2012-03-07T01:39:48.331</td><td>729631</td><td>OM-3125</td><td>150.0</td><td>SCIENCE</td><td>OBJECT</td><td>ECHELLE,SLIT,NODDING</td><td>SLITSPEC</td><td>NIR</td><td>--</td><td>V</td><td>SLOT</td><td>0.5x11</td><td>0.4x11</td><td>0.4x11</td><td>1.20 [0.51]</td></tr>\n",
       "<tr><td>2013-03-08</td><td>OM-3125</td><td>83.839823</td><td>-5.57897</td><td>05:35:21.56 -05:34:44.3</td><td>209.199891 -19.450737</td><td>288.C-5038(A)</td><td>XSHOO.2012-03-07T01:31:53.481</td><td>729631</td><td>OM-3125</td><td>300.0</td><td>SCIENCE</td><td>OBJECT</td><td>ECHELLE,SLIT,NODDING</td><td>SLITSPEC</td><td>UVB</td><td>100k/1pt/hg</td><td>V</td><td>SLOT</td><td>0.5x11</td><td>0.4x11</td><td>0.4x11</td><td>1.31 [0.64]</td></tr>\n",
       "<tr><td>2012-03-07</td><td>LAMP,AFC</td><td>83.840362</td><td>-5.57969</td><td>05:35:21.69 -05:34:46.9</td><td>209.200868 -19.450602</td><td>288.C-5038(A)</td><td>XSHOO.2012-03-07T01:18:54.838</td><td>729631</td><td>OM-3125</td><td>0.5</td><td>CALIB</td><td>LAMP,AFC</td><td>ECHELLE</td><td>CALIB</td><td>VIS</td><td>400k/1pt/lg/AFC</td><td>U</td><td>SLOT</td><td>Pin_0.5</td><td>Pin_0.5</td><td>Pin_0.5</td><td>1.15 [0.42]</td></tr>\n",
       "<tr><td>2013-03-08</td><td>OM-3125</td><td>83.840953</td><td>-5.57978</td><td>05:35:21.83 -05:34:47.2</td><td>209.201235 -19.450117</td><td>288.C-5038(A)</td><td>XSHOO.2012-03-07T01:24:06.503</td><td>729631</td><td>OM-3125</td><td>300.0</td><td>SCIENCE</td><td>OBJECT</td><td>ECHELLE,SLIT,NODDING</td><td>SLITSPEC</td><td>VIS</td><td>100k/1pt/hg</td><td>V</td><td>SLOT</td><td>0.5x11</td><td>0.4x11</td><td>0.4x11</td><td>1.07 [0.29]</td></tr>\n",
       "<tr><td>2012-03-07</td><td>LAMP,AFC</td><td>83.840363</td><td>-5.57969</td><td>05:35:21.69 -05:34:46.9</td><td>209.200868 -19.450601</td><td>288.C-5038(A)</td><td>XSHOO.2012-03-07T01:19:29.680</td><td>729631</td><td>OM-3125</td><td>0.5</td><td>CALIB</td><td>LAMP,AFC</td><td>ECHELLE</td><td>CALIB</td><td>VIS</td><td>400k/1pt/lg/AFC</td><td>U</td><td>PIN</td><td>5.0x11</td><td>5.0x11</td><td>5.0x11</td><td>1.21 [0.51]</td></tr>\n",
       "</table>"
      ],
      "text/plain": [
       "<Table length=50>\n",
       "Release Date  Object      RA     ... INS.OPTI5.NAME DIMM Seeing-avg\n",
       "   str10       str8    float64   ...      str7           str11     \n",
       "------------ -------- ---------- ... -------------- ---------------\n",
       "  2016-01-28 LAMP,AFC 167.009583 ...        Pin_0.5     0.90 [0.01]\n",
       "  2016-01-28 LAMP,AFC 167.009583 ...         5.0x11     0.90 [0.01]\n",
       "  2016-01-28   OBJECT 167.010573 ...         5.0x11     0.93 [0.01]\n",
       "  2016-01-28 LAMP,AFC 167.009583 ...         5.0x11     0.90 [0.01]\n",
       "  2016-01-28 LAMP,AFC 241.460833 ...        Pin_0.5     1.30 [0.63]\n",
       "  2016-01-28 LAMP,AFC 241.460833 ...         5.0x11     1.30 [0.63]\n",
       "  2017-08-08   OBJECT 241.072175 ...         5.0x11     0.99 [0.01]\n",
       "  2016-08-07 LAMP,AFC 241.072496 ...        Pin_0.5             N/A\n",
       "  2016-08-07 LAMP,AFC 241.072496 ...        Pin_0.5             N/A\n",
       "  2016-08-07 LAMP,AFC 241.072496 ...         5.0x11             N/A\n",
       "         ...      ...        ... ...            ...             ...\n",
       "  2013-03-08  OM-3125  83.840953 ...         0.4x11     1.07 [0.29]\n",
       "  2012-03-07 LAMP,AFC  83.840363 ...         5.0x11     1.21 [0.51]\n",
       "  2013-03-08  OM-3125  83.839823 ...         0.4x11     1.35 [0.70]\n",
       "  2013-03-08   OBJECT  83.840388 ...         5.0x11     1.17 [0.45]\n",
       "  2013-03-08   OBJECT  83.840388 ...         5.0x11     1.17 [0.45]\n",
       "  2013-03-08  OM-3125  83.839823 ...         0.4x11     1.20 [0.51]\n",
       "  2013-03-08  OM-3125  83.839823 ...         0.4x11     1.31 [0.64]\n",
       "  2012-03-07 LAMP,AFC  83.840362 ...        Pin_0.5     1.15 [0.42]\n",
       "  2013-03-08  OM-3125  83.840953 ...         0.4x11     1.07 [0.29]\n",
       "  2012-03-07 LAMP,AFC  83.840363 ...         5.0x11     1.21 [0.51]"
      ]
     },
     "execution_count": 13,
     "metadata": {},
     "output_type": "execute_result"
    }
   ],
   "source": [
    "result = Eso.query_instrument('xshooter', pi_coi='manara')\n",
    "result"
   ]
  },
  {
   "cell_type": "markdown",
   "metadata": {
    "slideshow": {
     "slide_type": "slide"
    }
   },
   "source": [
    "How do I get a unique list of programs that contained these observations?\n",
    "\n",
    "A simple python trick: a ``set`` is an unordered collection of unique objects (just like in math).  ``np.unique`` does the same thing, but returns a numpy array, which is ordered."
   ]
  },
  {
   "cell_type": "code",
   "execution_count": 14,
   "metadata": {
    "slideshow": {
     "slide_type": "-"
    }
   },
   "outputs": [
    {
     "data": {
      "text/plain": [
       "{'096.C-0979(A)', '097.C-0378(A)', '288.C-5038(A)'}"
      ]
     },
     "execution_count": 14,
     "metadata": {},
     "output_type": "execute_result"
    }
   ],
   "source": [
    "set(result['ProgId'])"
   ]
  },
  {
   "cell_type": "markdown",
   "metadata": {
    "slideshow": {
     "slide_type": "slide"
    }
   },
   "source": [
    "## Line List Tools ##\n",
    "\n",
    "The LAMDA, Splatalogue, and NIST services query online resources related to spectroscopic lines.  "
   ]
  },
  {
   "cell_type": "code",
   "execution_count": 15,
   "metadata": {
    "slideshow": {
     "slide_type": "fragment"
    }
   },
   "outputs": [],
   "source": [
    "from astroquery.nist import Nist"
   ]
  },
  {
   "cell_type": "code",
   "execution_count": 16,
   "metadata": {
    "slideshow": {
     "slide_type": "fragment"
    }
   },
   "outputs": [
    {
     "data": {
      "text/html": [
       "<i>Table length=53</i>\n",
       "<table id=\"table4669913984\" class=\"table-striped table-bordered table-condensed\">\n",
       "<thead><tr><th>Observed</th><th>Ritz</th><th>Transition</th><th>Rel.</th><th>Aki</th><th>fik</th><th>Acc.</th><th>Ei           Ek</th><th>Lower level</th><th>Upper level</th><th>Type</th><th>TP</th><th>Line</th></tr></thead>\n",
       "<thead><tr><th>float64</th><th>float64</th><th>float64</th><th>int64</th><th>float64</th><th>float64</th><th>str3</th><th>str29</th><th>str19</th><th>str19</th><th>str2</th><th>str5</th><th>str8</th></tr></thead>\n",
       "<tr><td>--</td><td>4102.85985517</td><td>24373.2429403</td><td>--</td><td>4287700.0</td><td>0.021641</td><td>AAA</td><td>10.19880606  -  [13.22070303]</td><td>2p     | 2P*  | 1/2</td><td>6d     | 2D   | 3/2</td><td>--</td><td>T8637</td><td>--</td></tr>\n",
       "<tr><td>--</td><td>4102.86191087</td><td>24373.2307283</td><td>--</td><td>245010.0</td><td>0.00061831</td><td>AAA</td><td>10.19880606  -   13.22070151</td><td>2p     | 2P*  | 1/2</td><td>6s     | 2S   | 1/2</td><td>--</td><td>T8637</td><td>--</td></tr>\n",
       "<tr><td>--</td><td>4102.8632</td><td>24373.223</td><td>--</td><td>--</td><td>--</td><td>--</td><td>--</td><td>|      |</td><td>|      |</td><td>--</td><td>--</td><td>c57</td></tr>\n",
       "<tr><td>4102.86503481</td><td>4102.86503481</td><td>24373.2121704</td><td>--</td><td>--</td><td>--</td><td>--</td><td>10.19881044  -   13.22070359</td><td>2s     | 2S   | 1/2</td><td>6d     | 2D   | 5/2</td><td>E2</td><td>--</td><td>L11759</td></tr>\n",
       "<tr><td>--</td><td>4102.86579132</td><td>24373.2076763</td><td>--</td><td>2858300.0</td><td>0.014427</td><td>AAA</td><td>10.19881044  -  [13.22070303]</td><td>2s     | 2S   | 1/2</td><td>6p     | 2P*  | 3/2</td><td>--</td><td>T8637</td><td>--</td></tr>\n",
       "<tr><td>4102.86785074</td><td>4102.86785074</td><td>24373.1954423</td><td>--</td><td>--</td><td>--</td><td>--</td><td>10.19881044  -   13.22070151</td><td>2s     | 2S   | 1/2</td><td>6s     | 2S   | 1/2</td><td>M1</td><td>--</td><td>L11759</td></tr>\n",
       "<tr><td>--</td><td>4102.8680725</td><td>24373.1941249</td><td>--</td><td>2858400.0</td><td>0.0072136</td><td>AAA</td><td>10.19881044  -  [13.22070135]</td><td>2s     | 2S   | 1/2</td><td>6p     | 2P*  | 1/2</td><td>--</td><td>T8637</td><td>--</td></tr>\n",
       "<tr><td>4102.892</td><td>4102.8991</td><td>24373.05</td><td>70000</td><td>973200.0</td><td>0.022105</td><td>AAA</td><td>10.1988357   -   13.22070378</td><td>2      |      |</td><td>6      |      |</td><td>--</td><td>T8637</td><td>L7436c29</td></tr>\n",
       "<tr><td>--</td><td>4102.8922</td><td>24373.051</td><td>--</td><td>--</td><td>--</td><td>--</td><td>--</td><td>|      |</td><td>|      |</td><td>--</td><td>--</td><td>c58</td></tr>\n",
       "<tr><td>--</td><td>4102.92068748</td><td>24372.8815683</td><td>--</td><td>5145000.0</td><td>0.019477</td><td>AAA</td><td>10.19885143  -   13.22070359</td><td>2p     | 2P*  | 3/2</td><td>6d     | 2D   | 5/2</td><td>--</td><td>T8637</td><td>--</td></tr>\n",
       "<tr><td>...</td><td>...</td><td>...</td><td>...</td><td>...</td><td>...</td><td>...</td><td>...</td><td>...</td><td>...</td><td>...</td><td>...</td><td>...</td></tr>\n",
       "<tr><td>--</td><td>6564.579878</td><td>15233.267302</td><td>--</td><td>--</td><td>--</td><td>--</td><td>10.19881044  -   12.08749486</td><td>2s     | 2S   | 1/2</td><td>3s     | 2S   | 1/2</td><td>M1</td><td>--</td><td>--</td></tr>\n",
       "<tr><td>--</td><td>6564.583</td><td>15233.26</td><td>--</td><td>--</td><td>--</td><td>--</td><td>--</td><td>|      |</td><td>|      |</td><td>--</td><td>--</td><td>c66</td></tr>\n",
       "<tr><td>6564.584404</td><td>6564.584403</td><td>15233.256799</td><td>--</td><td>22449000.0</td><td>0.14503</td><td>AAA</td><td>10.19881044  -   12.08749356</td><td>2s     | 2S   | 1/2</td><td>3p     | 2P*  | 1/2</td><td>--</td><td>T8637</td><td>L6891c38</td></tr>\n",
       "<tr><td>6564.6</td><td>6564.632</td><td>15233.21</td><td>500000</td><td>44101000.0</td><td>0.64108</td><td>AAA</td><td>10.1988357   -   12.0875051</td><td>2      |      |</td><td>3      |      |</td><td>--</td><td>T8637</td><td>L7400c29</td></tr>\n",
       "<tr><td>--</td><td>6564.608</td><td>15233.202</td><td>--</td><td>--</td><td>--</td><td>--</td><td>--</td><td>|      |</td><td>|      |</td><td>--</td><td>--</td><td>c69</td></tr>\n",
       "<tr><td>6564.66464</td><td>6564.66466</td><td>15233.07061</td><td>--</td><td>64651000.0</td><td>0.62654</td><td>AAA</td><td>10.19885143  -   12.08751146</td><td>2p     | 2P*  | 3/2</td><td>3d     | 2D   | 5/2</td><td>--</td><td>T8637</td><td>L2752</td></tr>\n",
       "<tr><td>--</td><td>6564.6662</td><td>15233.067</td><td>--</td><td>--</td><td>--</td><td>--</td><td>--</td><td>|      |</td><td>|      |</td><td>--</td><td>--</td><td>c71</td></tr>\n",
       "<tr><td>--</td><td>6564.667</td><td>15233.065</td><td>--</td><td>--</td><td>--</td><td>--</td><td>--</td><td>|      |</td><td>|      |</td><td>--</td><td>--</td><td>c70</td></tr>\n",
       "<tr><td>--</td><td>6564.680232</td><td>15233.034432</td><td>--</td><td>10775000.0</td><td>0.069616</td><td>AAA</td><td>10.19885143  -   12.08750698</td><td>2p     | 2P*  | 3/2</td><td>3d     | 2D   | 3/2</td><td>--</td><td>T8637</td><td>--</td></tr>\n",
       "<tr><td>--</td><td>6564.722349</td><td>15232.9367</td><td>--</td><td>4209700.0</td><td>0.013599</td><td>AAA</td><td>10.19885143  -   12.08749486</td><td>2p     | 2P*  | 3/2</td><td>3s     | 2S   | 1/2</td><td>--</td><td>T8637</td><td>--</td></tr>\n",
       "</table>"
      ],
      "text/plain": [
       "<Table length=53>\n",
       "   Observed        Ritz       Transition   Rel.  ... Type   TP    Line  \n",
       "   float64       float64       float64    int64  ... str2  str5   str8  \n",
       "------------- ------------- ------------- ------ ... ---- ----- --------\n",
       "           -- 4102.85985517 24373.2429403     -- ...   -- T8637       --\n",
       "           -- 4102.86191087 24373.2307283     -- ...   -- T8637       --\n",
       "           --     4102.8632     24373.223     -- ...   --    --      c57\n",
       "4102.86503481 4102.86503481 24373.2121704     -- ...   E2    --   L11759\n",
       "           -- 4102.86579132 24373.2076763     -- ...   -- T8637       --\n",
       "4102.86785074 4102.86785074 24373.1954423     -- ...   M1    --   L11759\n",
       "           --  4102.8680725 24373.1941249     -- ...   -- T8637       --\n",
       "     4102.892     4102.8991      24373.05  70000 ...   -- T8637 L7436c29\n",
       "           --     4102.8922     24373.051     -- ...   --    --      c58\n",
       "           -- 4102.92068748 24372.8815683     -- ...   -- T8637       --\n",
       "          ...           ...           ...    ... ...  ...   ...      ...\n",
       "           --   6564.579878  15233.267302     -- ...   M1    --       --\n",
       "           --      6564.583      15233.26     -- ...   --    --      c66\n",
       "  6564.584404   6564.584403  15233.256799     -- ...   -- T8637 L6891c38\n",
       "       6564.6      6564.632      15233.21 500000 ...   -- T8637 L7400c29\n",
       "           --      6564.608     15233.202     -- ...   --    --      c69\n",
       "   6564.66464    6564.66466   15233.07061     -- ...   -- T8637    L2752\n",
       "           --     6564.6662     15233.067     -- ...   --    --      c71\n",
       "           --      6564.667     15233.065     -- ...   --    --      c70\n",
       "           --   6564.680232  15233.034432     -- ...   -- T8637       --\n",
       "           --   6564.722349    15232.9367     -- ...   -- T8637       --"
      ]
     },
     "execution_count": 16,
     "metadata": {},
     "output_type": "execute_result"
    }
   ],
   "source": [
    "table = Nist.query(4000 * u.AA, 7000 * u.AA, linename=\"H I\")\n",
    "table"
   ]
  },
  {
   "cell_type": "markdown",
   "metadata": {},
   "source": [
    "Note: the above module currently has issues with parsing the results."
   ]
  },
  {
   "cell_type": "code",
   "execution_count": 17,
   "metadata": {
    "slideshow": {
     "slide_type": "slide"
    }
   },
   "outputs": [],
   "source": [
    "from astroquery.splatalogue import Splatalogue"
   ]
  },
  {
   "cell_type": "markdown",
   "metadata": {
    "slideshow": {
     "slide_type": "fragment"
    }
   },
   "source": [
    "Splatalogue (\"spectral line catalogue\") provides access to mm lines."
   ]
  },
  {
   "cell_type": "code",
   "execution_count": 18,
   "metadata": {
    "slideshow": {
     "slide_type": "fragment"
    }
   },
   "outputs": [
    {
     "data": {
      "text/plain": [
       "{'02813 CO v = 1 - Carbon Monoxide': '990',\n",
       " '02812 CO v = 0 - Carbon Monoxide': '204',\n",
       " '02815 CO v = 3 - Carbon Monoxide': '1343',\n",
       " '02814 CO v = 2 - Carbon Monoxide': '991'}"
      ]
     },
     "execution_count": 18,
     "metadata": {},
     "output_type": "execute_result"
    }
   ],
   "source": [
    "just_CO = Splatalogue.get_species_ids(' CO ') # note the spaces\n",
    "just_CO"
   ]
  },
  {
   "cell_type": "code",
   "execution_count": 19,
   "metadata": {
    "slideshow": {
     "slide_type": "fragment"
    }
   },
   "outputs": [
    {
     "data": {
      "text/html": [
       "<i>Table length=1</i>\n",
       "<table id=\"table4670219936\" class=\"table-striped table-bordered table-condensed\">\n",
       "<thead><tr><th>Species</th><th>Chemical Name</th><th>Freq-GHz(rest frame,redshifted)</th><th>Freq Err(rest frame,redshifted)</th><th>Meas Freq-GHz(rest frame,redshifted)</th><th>Meas Freq Err(rest frame,redshifted)</th><th>Resolved QNs</th><th>CDMS/JPL Intensity</th><th>S&lt;sub&gt;ij&lt;/sub&gt;&amp;#956;&lt;sup&gt;2&lt;/sup&gt; (D&lt;sup&gt;2&lt;/sup&gt;)</th><th>S&lt;sub&gt;ij&lt;/sub&gt;</th><th>Log&lt;sub&gt;10&lt;/sub&gt; (A&lt;sub&gt;ij&lt;/sub&gt;)</th><th>Lovas/AST Intensity</th><th>E_L (cm^-1)</th><th>E_L (K)</th><th>E_U (cm^-1)</th><th>E_U (K)</th><th>Linelist</th></tr></thead>\n",
       "<thead><tr><th>str5</th><th>str15</th><th>int64</th><th>int64</th><th>float64</th><th>float64</th><th>str3</th><th>float64</th><th>float64</th><th>float64</th><th>float64</th><th>float64</th><th>float64</th><th>float64</th><th>float64</th><th>float64</th><th>str4</th></tr></thead>\n",
       "<tr><td>COv=0</td><td>Carbon Monoxide</td><td>--</td><td>--</td><td>230.538</td><td>5e-07</td><td>2-1</td><td>-4.1197</td><td>0.02423</td><td>2.0</td><td>-6.1605</td><td>70.0</td><td>3.845</td><td>5.53207</td><td>11.53492</td><td>16.59608</td><td>CDMS</td></tr>\n",
       "</table>"
      ],
      "text/plain": [
       "<Table length=1>\n",
       "Species  Chemical Name  Freq-GHz(rest frame,redshifted) ... E_U (K)  Linelist\n",
       "  str5       str15                   int64              ... float64    str4  \n",
       "------- --------------- ------------------------------- ... -------- --------\n",
       "  COv=0 Carbon Monoxide                              -- ... 16.59608     CDMS"
      ]
     },
     "execution_count": 19,
     "metadata": {},
     "output_type": "execute_result"
    }
   ],
   "source": [
    "CO2to1 = Splatalogue.query_lines(1*u.mm, 2*u.mm, chemical_name=\" CO \",\n",
    "                                 only_NRAO_recommended=True,\n",
    "                                 energy_max=50, energy_type='eu_k')\n",
    "CO2to1"
   ]
  },
  {
   "cell_type": "markdown",
   "metadata": {
    "slideshow": {
     "slide_type": "slide"
    }
   },
   "source": [
    "## Vizier ## \n",
    "Vizier is one of the main repositories of published catalogs (especially small ones).  It provides some very powerful interfaces including an x-match (cross-matching) service.  "
   ]
  },
  {
   "cell_type": "code",
   "execution_count": 20,
   "metadata": {
    "slideshow": {
     "slide_type": "fragment"
    }
   },
   "outputs": [],
   "source": [
    "from astroquery.vizier import Vizier"
   ]
  },
  {
   "cell_type": "markdown",
   "metadata": {
    "slideshow": {
     "slide_type": "slide"
    }
   },
   "source": [
    "A particularly useful example - search for guide stars within a set radius of your target sources."
   ]
  },
  {
   "cell_type": "markdown",
   "metadata": {
    "slideshow": {
     "slide_type": "slide"
    }
   },
   "source": [
    "The guide star catalog, ``II/246``, is queried with the restriction that the guide star must have $M_K<9$ around the selected object, given that the distance between the guide star and the object is $2\" < r < 30\"$."
   ]
  },
  {
   "cell_type": "code",
   "execution_count": 21,
   "metadata": {
    "slideshow": {
     "slide_type": "fragment"
    }
   },
   "outputs": [
    {
     "ename": "IndexError",
     "evalue": "list index out of range",
     "output_type": "error",
     "traceback": [
      "\u001b[0;31m---------------------------------------------------------------------------\u001b[0m",
      "\u001b[0;31mIndexError\u001b[0m                                Traceback (most recent call last)",
      "\u001b[0;32m<ipython-input-21-5a9fc696990d>\u001b[0m in \u001b[0;36m<module>\u001b[0;34m\u001b[0m\n\u001b[1;32m      1\u001b[0m \u001b[0magn\u001b[0m \u001b[0;34m=\u001b[0m \u001b[0mcoordinates\u001b[0m\u001b[0;34m.\u001b[0m\u001b[0mSkyCoord\u001b[0m\u001b[0;34m(\u001b[0m\u001b[0ml\u001b[0m\u001b[0;34m=\u001b[0m\u001b[0;36m131.0087\u001b[0m \u001b[0;34m*\u001b[0m \u001b[0mu\u001b[0m\u001b[0;34m.\u001b[0m\u001b[0mdeg\u001b[0m\u001b[0;34m,\u001b[0m \u001b[0mb\u001b[0m\u001b[0;34m=\u001b[0m\u001b[0;36m40.23\u001b[0m \u001b[0;34m*\u001b[0m \u001b[0mu\u001b[0m\u001b[0;34m.\u001b[0m\u001b[0mdeg\u001b[0m\u001b[0;34m,\u001b[0m \u001b[0mframe\u001b[0m\u001b[0;34m=\u001b[0m\u001b[0;34m'galactic'\u001b[0m\u001b[0;34m)\u001b[0m\u001b[0;34m\u001b[0m\u001b[0;34m\u001b[0m\u001b[0m\n\u001b[0;32m----> 2\u001b[0;31m \u001b[0mguide\u001b[0m \u001b[0;34m=\u001b[0m \u001b[0mVizier\u001b[0m\u001b[0;34m(\u001b[0m\u001b[0mcatalog\u001b[0m\u001b[0;34m=\u001b[0m\u001b[0;34m\"gsc\"\u001b[0m\u001b[0;34m,\u001b[0m \u001b[0mcolumn_filters\u001b[0m\u001b[0;34m=\u001b[0m\u001b[0;34m{\u001b[0m\u001b[0;34m\"Kmag\"\u001b[0m\u001b[0;34m:\u001b[0m\u001b[0;34m\"<9.0\"\u001b[0m\u001b[0;34m}\u001b[0m\u001b[0;34m)\u001b[0m\u001b[0;34m.\u001b[0m\u001b[0mquery_region\u001b[0m\u001b[0;34m(\u001b[0m\u001b[0magn\u001b[0m\u001b[0;34m,\u001b[0m \u001b[0mradius\u001b[0m\u001b[0;34m=\u001b[0m\u001b[0;34m\"30s\"\u001b[0m\u001b[0;34m,\u001b[0m \u001b[0minner_radius\u001b[0m\u001b[0;34m=\u001b[0m\u001b[0;34m\"2s\"\u001b[0m\u001b[0;34m)\u001b[0m\u001b[0;34m[\u001b[0m\u001b[0;36m0\u001b[0m\u001b[0;34m]\u001b[0m\u001b[0;34m\u001b[0m\u001b[0;34m\u001b[0m\u001b[0m\n\u001b[0m\u001b[1;32m      3\u001b[0m \u001b[0mguide\u001b[0m\u001b[0;34m\u001b[0m\u001b[0;34m\u001b[0m\u001b[0m\n",
      "\u001b[0;32m~/anaconda3/envs/astr-302/lib/python3.8/site-packages/astroquery/utils/commons.py\u001b[0m in \u001b[0;36m__getitem__\u001b[0;34m(self, key)\u001b[0m\n\u001b[1;32m    237\u001b[0m         \u001b[0;32mif\u001b[0m \u001b[0misinstance\u001b[0m\u001b[0;34m(\u001b[0m\u001b[0mkey\u001b[0m\u001b[0;34m,\u001b[0m \u001b[0mint\u001b[0m\u001b[0;34m)\u001b[0m\u001b[0;34m:\u001b[0m\u001b[0;34m\u001b[0m\u001b[0;34m\u001b[0m\u001b[0m\n\u001b[1;32m    238\u001b[0m             \u001b[0;31m# get the value in the (key,value) pair\u001b[0m\u001b[0;34m\u001b[0m\u001b[0;34m\u001b[0m\u001b[0;34m\u001b[0m\u001b[0m\n\u001b[0;32m--> 239\u001b[0;31m             \u001b[0;32mreturn\u001b[0m \u001b[0msuper\u001b[0m\u001b[0;34m(\u001b[0m\u001b[0mTableList\u001b[0m\u001b[0;34m,\u001b[0m \u001b[0mself\u001b[0m\u001b[0;34m)\u001b[0m\u001b[0;34m.\u001b[0m\u001b[0m__getitem__\u001b[0m\u001b[0;34m(\u001b[0m\u001b[0mkey\u001b[0m\u001b[0;34m)\u001b[0m\u001b[0;34m\u001b[0m\u001b[0;34m\u001b[0m\u001b[0m\n\u001b[0m\u001b[1;32m    240\u001b[0m         \u001b[0;32melif\u001b[0m \u001b[0mkey\u001b[0m \u001b[0;32min\u001b[0m \u001b[0mself\u001b[0m\u001b[0;34m.\u001b[0m\u001b[0m_dict\u001b[0m\u001b[0;34m:\u001b[0m\u001b[0;34m\u001b[0m\u001b[0;34m\u001b[0m\u001b[0m\n\u001b[1;32m    241\u001b[0m             \u001b[0;32mreturn\u001b[0m \u001b[0mself\u001b[0m\u001b[0;34m.\u001b[0m\u001b[0m_dict\u001b[0m\u001b[0;34m[\u001b[0m\u001b[0mkey\u001b[0m\u001b[0;34m]\u001b[0m\u001b[0;34m\u001b[0m\u001b[0;34m\u001b[0m\u001b[0m\n",
      "\u001b[0;31mIndexError\u001b[0m: list index out of range"
     ]
    }
   ],
   "source": [
    "agn = coordinates.SkyCoord(l=131.0087 * u.deg, b=40.23 * u.deg, frame='galactic')\n",
    "guide = Vizier(catalog=\"gsc\", column_filters={\"Kmag\":\"<9.0\"}).query_region(agn, radius=\"30s\", inner_radius=\"2s\")[0]\n",
    "guide"
   ]
  },
  {
   "cell_type": "markdown",
   "metadata": {},
   "source": [
    "### Cone Search services"
   ]
  },
  {
   "cell_type": "code",
   "execution_count": null,
   "metadata": {},
   "outputs": [],
   "source": [
    "from astropy.coordinates import SkyCoord\n",
    "from astroquery.vo_conesearch import ConeSearch\n",
    "ConeSearch.URL\n",
    "\n",
    "c = SkyCoord.from_name('M31')\n",
    "c.ra, c.dec\n",
    "\n",
    "result = ConeSearch.query_region(c, '0.1 deg')\n",
    "result"
   ]
  },
  {
   "cell_type": "markdown",
   "metadata": {
    "slideshow": {
     "slide_type": "slide"
    }
   },
   "source": [
    "Annoyingly, this module does _not_ return an `astropy.table` Table object, so we have to create one:"
   ]
  },
  {
   "cell_type": "code",
   "execution_count": null,
   "metadata": {},
   "outputs": [],
   "source": [
    "from astropy.table import Table\n",
    "Table(result.array)"
   ]
  },
  {
   "cell_type": "markdown",
   "metadata": {
    "slideshow": {
     "slide_type": "slide"
    }
   },
   "source": [
    "Getting a list of catalogs that are available through the cone search service:"
   ]
  },
  {
   "cell_type": "code",
   "execution_count": null,
   "metadata": {},
   "outputs": [],
   "source": [
    "from astroquery.vo_conesearch import conesearch\n",
    "conesearch.list_catalogs()"
   ]
  },
  {
   "cell_type": "markdown",
   "metadata": {
    "slideshow": {
     "slide_type": "slide"
    }
   },
   "source": [
    "Unfortunately, if you want to specify the catalog, you have to use an older API:"
   ]
  },
  {
   "cell_type": "code",
   "execution_count": null,
   "metadata": {},
   "outputs": [],
   "source": [
    "from astropy import units as u\n",
    "my_catname = 'USNO-A2 Catalogue 1'\n",
    "result = conesearch.conesearch(c, 0.1 * u.degree, catalog_db=my_catname)\n",
    "result"
   ]
  },
  {
   "cell_type": "markdown",
   "metadata": {
    "slideshow": {
     "slide_type": "slide"
    }
   },
   "source": [
    "### Cross-match services\n",
    "\n",
    "The xMatch service is a tool to cross-identify sources between very large data sets or between a user-uploaded list and a large catalog."
   ]
  },
  {
   "cell_type": "code",
   "execution_count": null,
   "metadata": {},
   "outputs": [],
   "source": [
    "%%writefile pos_list.csv\n",
    "ra,dec\n",
    "267.22029,-20.35869\n",
    "274.83971,-25.42714\n",
    "275.92229,-30.36572\n",
    "283.26621,-8.70756\n",
    "306.01575,33.86756\n",
    "322.493,12.16703"
   ]
  },
  {
   "cell_type": "code",
   "execution_count": 22,
   "metadata": {
    "scrolled": true
   },
   "outputs": [
    {
     "name": "stdout",
     "output_type": "stream",
     "text": [
      "Could not import regions, which is required for some of the functionalities of this module.\n"
     ]
    },
    {
     "data": {
      "text/html": [
       "<i>Table length=11</i>\n",
       "<table id=\"table4603278672\" class=\"table-striped table-bordered table-condensed\">\n",
       "<thead><tr><th>angDist</th><th>ra</th><th>dec</th><th>2MASS</th><th>RAJ2000</th><th>DEJ2000</th><th>errHalfMaj</th><th>errHalfMin</th><th>errPosAng</th><th>Jmag</th><th>Hmag</th><th>Kmag</th><th>e_Jmag</th><th>e_Hmag</th><th>e_Kmag</th><th>Qfl</th><th>Rfl</th><th>X</th><th>MeasureJD</th></tr></thead>\n",
       "<thead><tr><th>float64</th><th>float64</th><th>float64</th><th>str16</th><th>float64</th><th>float64</th><th>float64</th><th>float64</th><th>int64</th><th>float64</th><th>float64</th><th>float64</th><th>float64</th><th>float64</th><th>float64</th><th>str3</th><th>int64</th><th>int64</th><th>float64</th></tr></thead>\n",
       "<tr><td>1.352044</td><td>267.22029</td><td>-20.35869</td><td>17485281-2021323</td><td>267.220049</td><td>-20.35899</td><td>0.15</td><td>0.11</td><td>16</td><td>9.931</td><td>8.822</td><td>7.55</td><td>0.239</td><td>0.241</td><td>--</td><td>EEU</td><td>226</td><td>2</td><td>2450950.8609</td></tr>\n",
       "<tr><td>1.578188</td><td>267.22029</td><td>-20.35869</td><td>17485288-2021328</td><td>267.220348</td><td>-20.359125</td><td>0.14</td><td>0.12</td><td>158</td><td>8.868</td><td>7.784</td><td>8.53</td><td>--</td><td>--</td><td>0.128</td><td>UUB</td><td>662</td><td>2</td><td>2450950.8609</td></tr>\n",
       "<tr><td>3.699368</td><td>267.22029</td><td>-20.35869</td><td>17485264-2021294</td><td>267.219344</td><td>-20.358171</td><td>0.13</td><td>0.12</td><td>33</td><td>9.562</td><td>8.525</td><td>9.445</td><td>--</td><td>--</td><td>0.119</td><td>UUB</td><td>662</td><td>2</td><td>2450950.8609</td></tr>\n",
       "<tr><td>3.822922</td><td>267.22029</td><td>-20.35869</td><td>17485299-2021279</td><td>267.220825</td><td>-20.357754</td><td>0.08</td><td>0.07</td><td>7</td><td>10.756</td><td>9.725</td><td>9.287</td><td>0.139</td><td>0.127</td><td>0.103</td><td>EBA</td><td>222</td><td>2</td><td>2450950.8609</td></tr>\n",
       "<tr><td>4.576677</td><td>267.22029</td><td>-20.35869</td><td>17485255-2021326</td><td>267.218994</td><td>-20.359064</td><td>0.14</td><td>0.13</td><td>87</td><td>10.431</td><td>9.348</td><td>7.926</td><td>0.159</td><td>0.316</td><td>--</td><td>CEU</td><td>226</td><td>2</td><td>2450950.8609</td></tr>\n",
       "<tr><td>0.219609</td><td>274.83971</td><td>-25.42714</td><td>18192154-2525377</td><td>274.839773</td><td>-25.427162</td><td>0.06</td><td>0.06</td><td>90</td><td>9.368</td><td>8.431</td><td>7.919</td><td>0.024</td><td>0.044</td><td>0.036</td><td>AAA</td><td>211</td><td>0</td><td>2451407.5033</td></tr>\n",
       "<tr><td>1.633225</td><td>275.92229</td><td>-30.36572</td><td>18234133-3021582</td><td>275.922233</td><td>-30.366171</td><td>0.08</td><td>0.08</td><td>55</td><td>12.947</td><td>12.334</td><td>12.145</td><td>0.156</td><td>0.221</td><td>0.127</td><td>EEE</td><td>222</td><td>2</td><td>2451021.7212</td></tr>\n",
       "<tr><td>0.536998</td><td>283.26621</td><td>-8.70756</td><td>18530390-0842276</td><td>283.266284</td><td>-8.70769</td><td>0.06</td><td>0.06</td><td>45</td><td>12.182</td><td>11.534</td><td>11.38</td><td>0.057</td><td>0.071</td><td>0.063</td><td>AAA</td><td>222</td><td>0</td><td>2451301.7945</td></tr>\n",
       "<tr><td>1.178542</td><td>306.01575</td><td>33.86756</td><td>20240382+3352021</td><td>306.015944</td><td>33.867275</td><td>0.06</td><td>0.06</td><td>90</td><td>13.575</td><td>12.684</td><td>12.321</td><td>0.025</td><td>0.027</td><td>0.026</td><td>AAA</td><td>222</td><td>0</td><td>2450948.9708</td></tr>\n",
       "<tr><td>0.853178</td><td>322.493</td><td>12.16703</td><td>21295836+1210007</td><td>322.493171</td><td>12.166862</td><td>0.1</td><td>0.08</td><td>179</td><td>9.798</td><td>9.339</td><td>9.176</td><td>0.109</td><td>0.15</td><td>0.1</td><td>EEA</td><td>222</td><td>0</td><td>2451080.6935</td></tr>\n",
       "<tr><td>4.50395</td><td>322.493</td><td>12.16703</td><td>21295861+1210023</td><td>322.494242</td><td>12.167332</td><td>0.1</td><td>0.08</td><td>1</td><td>10.057</td><td>9.72</td><td>9.483</td><td>0.077</td><td>0.136</td><td>0.088</td><td>EEE</td><td>222</td><td>0</td><td>2451080.6935</td></tr>\n",
       "</table>"
      ],
      "text/plain": [
       "<Table length=11>\n",
       "angDist      ra       dec         2MASS       ... Qfl   Rfl    X    MeasureJD  \n",
       "float64   float64   float64       str16       ... str3 int64 int64   float64   \n",
       "-------- --------- --------- ---------------- ... ---- ----- ----- ------------\n",
       "1.352044 267.22029 -20.35869 17485281-2021323 ...  EEU   226     2 2450950.8609\n",
       "1.578188 267.22029 -20.35869 17485288-2021328 ...  UUB   662     2 2450950.8609\n",
       "3.699368 267.22029 -20.35869 17485264-2021294 ...  UUB   662     2 2450950.8609\n",
       "3.822922 267.22029 -20.35869 17485299-2021279 ...  EBA   222     2 2450950.8609\n",
       "4.576677 267.22029 -20.35869 17485255-2021326 ...  CEU   226     2 2450950.8609\n",
       "0.219609 274.83971 -25.42714 18192154-2525377 ...  AAA   211     0 2451407.5033\n",
       "1.633225 275.92229 -30.36572 18234133-3021582 ...  EEE   222     2 2451021.7212\n",
       "0.536998 283.26621  -8.70756 18530390-0842276 ...  AAA   222     0 2451301.7945\n",
       "1.178542 306.01575  33.86756 20240382+3352021 ...  AAA   222     0 2450948.9708\n",
       "0.853178   322.493  12.16703 21295836+1210007 ...  EEA   222     0 2451080.6935\n",
       " 4.50395   322.493  12.16703 21295861+1210023 ...  EEE   222     0 2451080.6935"
      ]
     },
     "execution_count": 22,
     "metadata": {},
     "output_type": "execute_result"
    }
   ],
   "source": [
    "from astropy import units as u\n",
    "from astroquery.xmatch import XMatch\n",
    "table = XMatch.query(cat1=open('pos_list.csv'),\n",
    "                     cat2='vizier:II/246/out',\n",
    "                     max_distance=5 * u.arcsec, colRA1='ra',\n",
    "                     colDec1='dec')\n",
    "table"
   ]
  },
  {
   "cell_type": "markdown",
   "metadata": {
    "slideshow": {
     "slide_type": "slide"
    }
   },
   "source": [
    "### Gaia\n",
    "\n",
    "The Gaia access module in astroquery is excellent. It provides conesearch-like functionality, as well as general SQL queries."
   ]
  },
  {
   "cell_type": "markdown",
   "metadata": {
    "slideshow": {
     "slide_type": "slide"
    }
   },
   "source": [
    "Querying around an object:"
   ]
  },
  {
   "cell_type": "code",
   "execution_count": 25,
   "metadata": {
    "scrolled": false
   },
   "outputs": [
    {
     "ename": "HTTPError",
     "evalue": "Error 500: \nCannot parse query '\n      TOP 2000                SELECT\n                      DISTANCE(\n                        POINT('ICRS', ra, dec),\n                        POINT('ICRS', 280.0000090102581, -59.999994117257366)\n                      ) as dist,\n                      *\n                    FROM\n                      gaiadr2.gaia_source\n                    WHERE\n                      1 = CONTAINS(\n                        POINT('ICRS', ra, dec),\n                        BOX(\n                          'ICRS',\n                          280.0000090102581,\n                          -59.999994117257366,\n                          0.1,\n                          0.1\n                        )\n                      )\n                    ORDER BY\n                      dist ASC\n                    ' for job '1582755817875O':  Encountered \"TOP\". Was expecting: \"SELECT\" \n",
     "output_type": "error",
     "traceback": [
      "\u001b[0;31m---------------------------------------------------------------------------\u001b[0m",
      "\u001b[0;31mHTTPError\u001b[0m                                 Traceback (most recent call last)",
      "\u001b[0;32m<ipython-input-25-30a272a020ee>\u001b[0m in \u001b[0;36m<module>\u001b[0;34m\u001b[0m\n\u001b[1;32m      1\u001b[0m \u001b[0;32mfrom\u001b[0m \u001b[0mastroquery\u001b[0m\u001b[0;34m.\u001b[0m\u001b[0mgaia\u001b[0m \u001b[0;32mimport\u001b[0m \u001b[0mGaia\u001b[0m\u001b[0;34m\u001b[0m\u001b[0;34m\u001b[0m\u001b[0m\n\u001b[1;32m      2\u001b[0m \u001b[0mcoord\u001b[0m \u001b[0;34m=\u001b[0m \u001b[0mcoordinates\u001b[0m\u001b[0;34m.\u001b[0m\u001b[0mSkyCoord\u001b[0m\u001b[0;34m(\u001b[0m\u001b[0mra\u001b[0m\u001b[0;34m=\u001b[0m\u001b[0;36m280\u001b[0m\u001b[0;34m*\u001b[0m\u001b[0mu\u001b[0m\u001b[0;34m.\u001b[0m\u001b[0mdegree\u001b[0m\u001b[0;34m,\u001b[0m \u001b[0mdec\u001b[0m\u001b[0;34m=\u001b[0m\u001b[0;34m-\u001b[0m\u001b[0;36m60\u001b[0m\u001b[0;34m*\u001b[0m\u001b[0mu\u001b[0m\u001b[0;34m.\u001b[0m\u001b[0mdegree\u001b[0m\u001b[0;34m,\u001b[0m \u001b[0mframe\u001b[0m\u001b[0;34m=\u001b[0m\u001b[0;34m'icrs'\u001b[0m\u001b[0;34m)\u001b[0m\u001b[0;34m\u001b[0m\u001b[0;34m\u001b[0m\u001b[0m\n\u001b[0;32m----> 3\u001b[0;31m \u001b[0mr\u001b[0m \u001b[0;34m=\u001b[0m \u001b[0mGaia\u001b[0m\u001b[0;34m.\u001b[0m\u001b[0mquery_object\u001b[0m\u001b[0;34m(\u001b[0m\u001b[0mcoordinate\u001b[0m\u001b[0;34m=\u001b[0m\u001b[0mcoord\u001b[0m\u001b[0;34m,\u001b[0m \u001b[0mwidth\u001b[0m\u001b[0;34m=\u001b[0m\u001b[0;36m0.1\u001b[0m\u001b[0;34m*\u001b[0m \u001b[0mu\u001b[0m\u001b[0;34m.\u001b[0m\u001b[0mdeg\u001b[0m\u001b[0;34m,\u001b[0m \u001b[0mheight\u001b[0m\u001b[0;34m=\u001b[0m\u001b[0;36m0.1\u001b[0m\u001b[0;34m*\u001b[0m \u001b[0mu\u001b[0m\u001b[0;34m.\u001b[0m\u001b[0mdeg\u001b[0m\u001b[0;34m)\u001b[0m\u001b[0;34m\u001b[0m\u001b[0;34m\u001b[0m\u001b[0m\n\u001b[0m\u001b[1;32m      4\u001b[0m \u001b[0mr\u001b[0m\u001b[0;34m\u001b[0m\u001b[0;34m\u001b[0m\u001b[0m\n",
      "\u001b[0;32m~/anaconda3/envs/astr-302/lib/python3.8/site-packages/astroquery/gaia/core.py\u001b[0m in \u001b[0;36mquery_object\u001b[0;34m(self, coordinate, radius, width, height, verbose, columns)\u001b[0m\n\u001b[1;32m    240\u001b[0m         \u001b[0mThe\u001b[0m \u001b[0mjob\u001b[0m \u001b[0mresults\u001b[0m \u001b[0;34m(\u001b[0m\u001b[0mastropy\u001b[0m\u001b[0;34m.\u001b[0m\u001b[0mtable\u001b[0m\u001b[0;34m)\u001b[0m\u001b[0;34m.\u001b[0m\u001b[0;34m\u001b[0m\u001b[0;34m\u001b[0m\u001b[0m\n\u001b[1;32m    241\u001b[0m         \"\"\"\n\u001b[0;32m--> 242\u001b[0;31m         return self.__query_object(coordinate, radius, width, height,\n\u001b[0m\u001b[1;32m    243\u001b[0m                                    async_job=False, verbose=verbose, columns=columns)\n\u001b[1;32m    244\u001b[0m \u001b[0;34m\u001b[0m\u001b[0m\n",
      "\u001b[0;32m~/anaconda3/envs/astr-302/lib/python3.8/site-packages/astroquery/gaia/core.py\u001b[0m in \u001b[0;36m__query_object\u001b[0;34m(self, coordinate, radius, width, height, async_job, verbose, columns)\u001b[0m\n\u001b[1;32m    213\u001b[0m                 \u001b[0mjob\u001b[0m \u001b[0;34m=\u001b[0m \u001b[0mself\u001b[0m\u001b[0;34m.\u001b[0m\u001b[0mlaunch_job_async\u001b[0m\u001b[0;34m(\u001b[0m\u001b[0mquery\u001b[0m\u001b[0;34m,\u001b[0m \u001b[0mverbose\u001b[0m\u001b[0;34m=\u001b[0m\u001b[0mverbose\u001b[0m\u001b[0;34m)\u001b[0m\u001b[0;34m\u001b[0m\u001b[0;34m\u001b[0m\u001b[0m\n\u001b[1;32m    214\u001b[0m             \u001b[0;32melse\u001b[0m\u001b[0;34m:\u001b[0m\u001b[0;34m\u001b[0m\u001b[0;34m\u001b[0m\u001b[0m\n\u001b[0;32m--> 215\u001b[0;31m                 \u001b[0mjob\u001b[0m \u001b[0;34m=\u001b[0m \u001b[0mself\u001b[0m\u001b[0;34m.\u001b[0m\u001b[0mlaunch_job\u001b[0m\u001b[0;34m(\u001b[0m\u001b[0mquery\u001b[0m\u001b[0;34m,\u001b[0m \u001b[0mverbose\u001b[0m\u001b[0;34m=\u001b[0m\u001b[0mverbose\u001b[0m\u001b[0;34m)\u001b[0m\u001b[0;34m\u001b[0m\u001b[0;34m\u001b[0m\u001b[0m\n\u001b[0m\u001b[1;32m    216\u001b[0m         \u001b[0;32mreturn\u001b[0m \u001b[0mjob\u001b[0m\u001b[0;34m.\u001b[0m\u001b[0mget_results\u001b[0m\u001b[0;34m(\u001b[0m\u001b[0;34m)\u001b[0m\u001b[0;34m\u001b[0m\u001b[0;34m\u001b[0m\u001b[0m\n\u001b[1;32m    217\u001b[0m \u001b[0;34m\u001b[0m\u001b[0m\n",
      "\u001b[0;32m~/anaconda3/envs/astr-302/lib/python3.8/site-packages/astroquery/utils/tap/core.py\u001b[0m in \u001b[0;36mlaunch_job\u001b[0;34m(self, query, name, output_file, output_format, verbose, dump_to_file, upload_resource, upload_table_name)\u001b[0m\n\u001b[1;32m    328\u001b[0m                 self.__connHandler.dump_to_file(suitableOutputFile,\n\u001b[1;32m    329\u001b[0m                                                 responseStr)\n\u001b[0;32m--> 330\u001b[0;31m             raise requests.exceptions.HTTPError(\n\u001b[0m\u001b[1;32m    331\u001b[0m                 taputils.parse_http_response_error(responseStr,\n\u001b[1;32m    332\u001b[0m                                                    response.status))\n",
      "\u001b[0;31mHTTPError\u001b[0m: Error 500: \nCannot parse query '\n      TOP 2000                SELECT\n                      DISTANCE(\n                        POINT('ICRS', ra, dec),\n                        POINT('ICRS', 280.0000090102581, -59.999994117257366)\n                      ) as dist,\n                      *\n                    FROM\n                      gaiadr2.gaia_source\n                    WHERE\n                      1 = CONTAINS(\n                        POINT('ICRS', ra, dec),\n                        BOX(\n                          'ICRS',\n                          280.0000090102581,\n                          -59.999994117257366,\n                          0.1,\n                          0.1\n                        )\n                      )\n                    ORDER BY\n                      dist ASC\n                    ' for job '1582755817875O':  Encountered \"TOP\". Was expecting: \"SELECT\" \n"
     ]
    }
   ],
   "source": [
    "from astroquery.gaia import Gaia\n",
    "coord = coordinates.SkyCoord(ra=280*u.degree, dec=-60*u.degree, frame='icrs')\n",
    "r = Gaia.query_object(coordinate=coord, width=0.1* u.deg, height=0.1* u.deg)\n",
    "r"
   ]
  },
  {
   "cell_type": "markdown",
   "metadata": {
    "slideshow": {
     "slide_type": "slide"
    }
   },
   "source": [
    "And a more general SQL query:"
   ]
  },
  {
   "cell_type": "code",
   "execution_count": 66,
   "metadata": {
    "scrolled": true
   },
   "outputs": [
    {
     "name": "stdout",
     "output_type": "stream",
     "text": [
      "Launched query: 'select top 100 * from gaiadr1.gaia_source order by source_id'\n",
      "Retrieving async. results...\n",
      "Query finished.\n"
     ]
    },
    {
     "data": {
      "text/html": [
       "&lt;Table masked=True length=100&gt;\n",
       "<table id=\"table103374254880\" class=\"table-striped table-bordered table-condensed\">\n",
       "<thead><tr><th>solution_id</th><th>source_id</th><th>random_index</th><th>ref_epoch</th><th>ra</th><th>ra_error</th><th>dec</th><th>dec_error</th><th>parallax</th><th>parallax_error</th><th>pmra</th><th>pmra_error</th><th>pmdec</th><th>pmdec_error</th><th>ra_dec_corr</th><th>ra_parallax_corr</th><th>ra_pmra_corr</th><th>ra_pmdec_corr</th><th>dec_parallax_corr</th><th>dec_pmra_corr</th><th>dec_pmdec_corr</th><th>parallax_pmra_corr</th><th>parallax_pmdec_corr</th><th>pmra_pmdec_corr</th><th>astrometric_n_obs_al</th><th>astrometric_n_obs_ac</th><th>astrometric_n_good_obs_al</th><th>astrometric_n_good_obs_ac</th><th>astrometric_n_bad_obs_al</th><th>astrometric_n_bad_obs_ac</th><th>astrometric_delta_q</th><th>astrometric_excess_noise</th><th>astrometric_excess_noise_sig</th><th>astrometric_primary_flag</th><th>astrometric_relegation_factor</th><th>astrometric_weight_al</th><th>astrometric_weight_ac</th><th>astrometric_priors_used</th><th>matched_observations</th><th>duplicated_source</th><th>scan_direction_strength_k1</th><th>scan_direction_strength_k2</th><th>scan_direction_strength_k3</th><th>scan_direction_strength_k4</th><th>scan_direction_mean_k1</th><th>scan_direction_mean_k2</th><th>scan_direction_mean_k3</th><th>scan_direction_mean_k4</th><th>phot_g_n_obs</th><th>phot_g_mean_flux</th><th>phot_g_mean_flux_error</th><th>phot_g_mean_mag</th><th>phot_variable_flag</th><th>l</th><th>b</th><th>ecl_lon</th><th>ecl_lat</th></tr></thead>\n",
       "<thead><tr><th></th><th></th><th></th><th>Time[Julian Years]</th><th>deg</th><th>Angle[mas]</th><th>deg</th><th>Angle[mas]</th><th>Angle[mas]</th><th>Angle[mas]</th><th>mas / yr</th><th>mas / yr</th><th>mas / yr</th><th>mas / yr</th><th>Dimensionless[see description]</th><th>Dimensionless[see description]</th><th>Dimensionless[see description]</th><th>Dimensionless[see description]</th><th>Dimensionless[see description]</th><th>Dimensionless[see description]</th><th>Dimensionless[see description]</th><th>Dimensionless[see description]</th><th>Dimensionless[see description]</th><th>Dimensionless[see description]</th><th></th><th></th><th></th><th></th><th></th><th></th><th></th><th>Angle[mas]</th><th></th><th></th><th></th><th>Angle[mas^-2]</th><th>Angle[mas^-2]</th><th></th><th></th><th></th><th></th><th></th><th></th><th></th><th>deg</th><th>deg</th><th>deg</th><th>deg</th><th></th><th>Flux[e-/s]</th><th>Flux[e-/s]</th><th>Magnitude[mag]</th><th>Dimensionless[see description]</th><th>deg</th><th>deg</th><th>deg</th><th>deg</th></tr></thead>\n",
       "<thead><tr><th>int64</th><th>int64</th><th>int64</th><th>float64</th><th>float64</th><th>float64</th><th>float64</th><th>float64</th><th>float64</th><th>float64</th><th>float64</th><th>float64</th><th>float64</th><th>float64</th><th>float32</th><th>float32</th><th>float32</th><th>float32</th><th>float32</th><th>float32</th><th>float32</th><th>float32</th><th>float32</th><th>float32</th><th>int32</th><th>int32</th><th>int32</th><th>int32</th><th>int32</th><th>int32</th><th>float32</th><th>float64</th><th>float64</th><th>bool</th><th>float32</th><th>float32</th><th>float32</th><th>int32</th><th>int16</th><th>bool</th><th>float32</th><th>float32</th><th>float32</th><th>float32</th><th>float32</th><th>float32</th><th>float32</th><th>float32</th><th>int32</th><th>float64</th><th>float64</th><th>float64</th><th>object</th><th>float64</th><th>float64</th><th>float64</th><th>float64</th></tr></thead>\n",
       "<tr><td>1635378410781933568</td><td>65408</td><td>973786105</td><td>2015.0</td><td>44.996152209366933</td><td>14.379929330502144</td><td>0.0056163477545743768</td><td>6.5170279514910998</td><td>--</td><td>--</td><td>--</td><td>--</td><td>--</td><td>--</td><td>0.99220002</td><td>--</td><td>--</td><td>--</td><td>--</td><td>--</td><td>--</td><td>--</td><td>--</td><td>--</td><td>31</td><td>0</td><td>31</td><td>0</td><td>0</td><td>0</td><td>--</td><td>0.89136184437049748</td><td>3.2112361791803297</td><td>False</td><td>1.5695707</td><td>0.56867576</td><td>--</td><td>2</td><td>5</td><td>False</td><td>0.43375897</td><td>0.43249661</td><td>0.54358345</td><td>0.83828545</td><td>-116.46045</td><td>13.97333</td><td>-46.448372</td><td>25.226347</td><td>30</td><td>1567.2551097905996</td><td>5.8560728560710071</td><td>17.53692082768389</td><td>NOT_AVAILABLE</td><td>176.95107160690853</td><td>-48.901522375415745</td><td>42.533723032872217</td><td>-16.329572161037468</td></tr>\n",
       "<tr><td>1635378410781933568</td><td>34359896320</td><td>1010840134</td><td>2015.0</td><td>45.004970066352456</td><td>0.15623072846755337</td><td>0.019874651251498416</td><td>0.52885121949987235</td><td>--</td><td>--</td><td>--</td><td>--</td><td>--</td><td>--</td><td>-0.61935002</td><td>--</td><td>--</td><td>--</td><td>--</td><td>--</td><td>--</td><td>--</td><td>--</td><td>--</td><td>60</td><td>0</td><td>60</td><td>0</td><td>0</td><td>0</td><td>--</td><td>0.49417441313555815</td><td>54.550402895173882</td><td>False</td><td>1.706128</td><td>3.6726799</td><td>--</td><td>2</td><td>8</td><td>False</td><td>0.67304224</td><td>0.18623264</td><td>0.78783804</td><td>0.91073388</td><td>-116.56138</td><td>10.280677</td><td>-44.287266</td><td>28.650621</td><td>68</td><td>40086.238958190377</td><td>27.159845202722678</td><td>14.017281786292781</td><td>NOT_AVAILABLE</td><td>176.94475885355897</td><td>-48.885279591396063</td><td>42.546862210800917</td><td>-16.318524345129177</td></tr>\n",
       "<tr><td>1635378410781933568</td><td>34361129088</td><td>388985243</td><td>2015.0</td><td>45.004312265559328</td><td>0.34781432918086913</td><td>0.021042471450865907</td><td>1.1000950644350347</td><td>--</td><td>--</td><td>--</td><td>--</td><td>--</td><td>--</td><td>-0.66385001</td><td>--</td><td>--</td><td>--</td><td>--</td><td>--</td><td>--</td><td>--</td><td>--</td><td>--</td><td>53</td><td>0</td><td>53</td><td>0</td><td>0</td><td>0</td><td>--</td><td>0.53244056231634018</td><td>1.8034637042289303</td><td>False</td><td>1.1930124</td><td>1.0081722</td><td>--</td><td>2</td><td>8</td><td>False</td><td>0.70151556</td><td>0.32050699</td><td>0.79869306</td><td>0.90236515</td><td>-125.77541</td><td>18.417574</td><td>-42.16853</td><td>28.207079</td><td>52</td><td>1761.8800815465204</td><td>19.831303716830632</td><td>17.409829199358377</td><td>NOT_AVAILABLE</td><td>176.94278585420437</td><td>-48.884943002342659</td><td>42.546563489754284</td><td>-16.317215026257962</td></tr>\n",
       "<tr><td>1635378410781933568</td><td>309238066432</td><td>590730619</td><td>2015.0</td><td>44.995037410057414</td><td>2.1681515359364987</td><td>0.038151966968870271</td><td>1.215308936668632</td><td>--</td><td>--</td><td>--</td><td>--</td><td>--</td><td>--</td><td>-0.7956</td><td>--</td><td>--</td><td>--</td><td>--</td><td>--</td><td>--</td><td>--</td><td>--</td><td>--</td><td>61</td><td>0</td><td>61</td><td>0</td><td>0</td><td>0</td><td>--</td><td>1.5258177714773933</td><td>1.22845670292639</td><td>False</td><td>1.2036664</td><td>0.070923366</td><td>--</td><td>2</td><td>10</td><td>False</td><td>0.29365668</td><td>0.69462836</td><td>0.29740977</td><td>0.89781886</td><td>-119.1077</td><td>21.855402</td><td>-38.366596</td><td>25.310766</td><td>61</td><td>275.45128995046122</td><td>2.733062075693919</td><td>19.424658037505058</td><td>NOT_AVAILABLE</td><td>176.91426544928731</td><td>-48.879746934733355</td><td>42.542548491309226</td><td>-16.298138638762591</td></tr>\n",
       "<tr><td>1635378410781933568</td><td>343597448960</td><td>329156827</td><td>2015.0</td><td>44.963892230513906</td><td>11.881098084030311</td><td>0.043596456958136721</td><td>5.4117480481007245</td><td>--</td><td>--</td><td>--</td><td>--</td><td>--</td><td>--</td><td>-0.99874997</td><td>--</td><td>--</td><td>--</td><td>--</td><td>--</td><td>--</td><td>--</td><td>--</td><td>--</td><td>53</td><td>0</td><td>52</td><td>0</td><td>1</td><td>0</td><td>--</td><td>0.48618768000871554</td><td>0.71946197903391684</td><td>False</td><td>1.0917889</td><td>0.55888712</td><td>--</td><td>2</td><td>9</td><td>False</td><td>0.27639589</td><td>0.65158379</td><td>0.24106677</td><td>0.94592333</td><td>-97.368477</td><td>24.034065</td><td>-32.833885</td><td>27.213011</td><td>53</td><td>1025.7233096094583</td><td>10.073989411681636</td><td>17.997194501364273</td><td>NOT_AVAILABLE</td><td>176.87541844090353</td><td>-48.898381239918464</td><td>42.513188750805412</td><td>-16.283803394252779</td></tr>\n",
       "<tr><td>1635378410781933568</td><td>515396233856</td><td>260581828</td><td>2015.0</td><td>44.998326380657794</td><td>1.9536132180916206</td><td>0.066334635408168044</td><td>1.1121988743923741</td><td>--</td><td>--</td><td>--</td><td>--</td><td>--</td><td>--</td><td>-0.81774998</td><td>--</td><td>--</td><td>--</td><td>--</td><td>--</td><td>--</td><td>--</td><td>--</td><td>--</td><td>52</td><td>0</td><td>52</td><td>0</td><td>0</td><td>0</td><td>--</td><td>0.0</td><td>0.0</td><td>False</td><td>1.0</td><td>0.089112848</td><td>--</td><td>2</td><td>9</td><td>False</td><td>0.21581903</td><td>0.64998794</td><td>0.20400557</td><td>0.88989103</td><td>-94.5951</td><td>19.781263</td><td>-45.181236</td><td>24.463037</td><td>52</td><td>292.29711056214029</td><td>2.3634951443367922</td><td>19.360208758196869</td><td>NOT_AVAILABLE</td><td>176.88690012837574</td><td>-48.857813820845863</td><td>42.554428497847724</td><td>-16.27215703817933</td></tr>\n",
       "<tr><td>1635378410781933568</td><td>549755818112</td><td>278964178</td><td>2015.0</td><td>45.048282032831146</td><td>0.14334569310759751</td><td>0.048258591559421658</td><td>0.15078352124196079</td><td>--</td><td>--</td><td>--</td><td>--</td><td>--</td><td>--</td><td>-0.28029999</td><td>--</td><td>--</td><td>--</td><td>--</td><td>--</td><td>--</td><td>--</td><td>--</td><td>--</td><td>69</td><td>0</td><td>69</td><td>0</td><td>0</td><td>0</td><td>--</td><td>0.57600151719812098</td><td>29.871186333796125</td><td>False</td><td>2.2834213</td><td>2.5091691</td><td>--</td><td>2</td><td>9</td><td>False</td><td>0.57485348</td><td>0.47039524</td><td>0.6185841</td><td>0.91701651</td><td>-125.95466</td><td>21.985344</td><td>-40.709221</td><td>27.246462</td><td>77</td><td>18064.661352813331</td><td>18.664497058329903</td><td>14.882695502523974</td><td>NOT_AVAILABLE</td><td>176.9593602580002</td><td>-48.83439449928693</td><td>42.598674193075496</td><td>-16.304072893936116</td></tr>\n",
       "<tr><td>1635378410781933568</td><td>824633879296</td><td>201645987</td><td>2015.0</td><td>45.023616453966554</td><td>7.686523932335751</td><td>0.068421125189836743</td><td>14.300410796230324</td><td>--</td><td>--</td><td>--</td><td>--</td><td>--</td><td>--</td><td>-0.99919999</td><td>--</td><td>--</td><td>--</td><td>--</td><td>--</td><td>--</td><td>--</td><td>--</td><td>--</td><td>41</td><td>0</td><td>41</td><td>0</td><td>0</td><td>0</td><td>--</td><td>0.38117702814045962</td><td>2.5179645966355331</td><td>False</td><td>1.2335583</td><td>2.4381435</td><td>--</td><td>2</td><td>8</td><td>False</td><td>0.77514589</td><td>0.54717392</td><td>0.8357175</td><td>0.88075393</td><td>-138.44899</td><td>22.225468</td><td>-39.211887</td><td>27.421402</td><td>40</td><td>4228.8389108143701</td><td>8.266022099817981</td><td>16.459217209141229</td><td>NOT_AVAILABLE</td><td>176.91129977139531</td><td>-48.838163573568011</td><td>42.580255141716492</td><td>-16.277570967548215</td></tr>\n",
       "<tr><td>1635378410781933568</td><td>927713095040</td><td>1018609930</td><td>2015.0</td><td>45.02672729705548</td><td>18.851057471221178</td><td>0.081701739994637132</td><td>46.240572039444949</td><td>--</td><td>--</td><td>--</td><td>--</td><td>--</td><td>--</td><td>0.87765002</td><td>--</td><td>--</td><td>--</td><td>--</td><td>--</td><td>--</td><td>--</td><td>--</td><td>--</td><td>35</td><td>0</td><td>35</td><td>0</td><td>0</td><td>0</td><td>--</td><td>0.0</td><td>4.5865336372792082e-16</td><td>False</td><td>1.0</td><td>0.14009042</td><td>--</td><td>2</td><td>7</td><td>False</td><td>0.74246943</td><td>0.47424141</td><td>0.82201833</td><td>0.86047256</td><td>-135.34503</td><td>20.154688</td><td>-40.679493</td><td>27.308582</td><td>35</td><td>327.81592953606156</td><td>4.9183266127380847</td><td>19.235694930370549</td><td>NOT_AVAILABLE</td><td>176.90005881578571</td><td>-48.826704982402269</td><td>42.587405599212623</td><td>-16.265783811911223</td></tr>\n",
       "<tr><td>...</td><td>...</td><td>...</td><td>...</td><td>...</td><td>...</td><td>...</td><td>...</td><td>...</td><td>...</td><td>...</td><td>...</td><td>...</td><td>...</td><td>...</td><td>...</td><td>...</td><td>...</td><td>...</td><td>...</td><td>...</td><td>...</td><td>...</td><td>...</td><td>...</td><td>...</td><td>...</td><td>...</td><td>...</td><td>...</td><td>...</td><td>...</td><td>...</td><td>...</td><td>...</td><td>...</td><td>...</td><td>...</td><td>...</td><td>...</td><td>...</td><td>...</td><td>...</td><td>...</td><td>...</td><td>...</td><td>...</td><td>...</td><td>...</td><td>...</td><td>...</td><td>...</td><td>...</td><td>...</td><td>...</td><td>...</td><td>...</td></tr>\n",
       "<tr><td>1635378410781933568</td><td>7559142613632</td><td>805783675</td><td>2015.0</td><td>45.045507440083576</td><td>64.23562545168312</td><td>0.22953226047452618</td><td>24.140565887386529</td><td>--</td><td>--</td><td>--</td><td>--</td><td>--</td><td>--</td><td>-0.93120003</td><td>--</td><td>--</td><td>--</td><td>--</td><td>--</td><td>--</td><td>--</td><td>--</td><td>--</td><td>44</td><td>0</td><td>44</td><td>0</td><td>0</td><td>0</td><td>--</td><td>0.90170443418626034</td><td>0.55639355300806681</td><td>False</td><td>1.1068484</td><td>0.12743591</td><td>--</td><td>2</td><td>8</td><td>False</td><td>0.17922908</td><td>0.97502077</td><td>0.16552596</td><td>0.90232331</td><td>-146.42915</td><td>23.029112</td><td>-24.625162</td><td>23.076626</td><td>43</td><td>344.48846069183929</td><td>3.3984831326302314</td><td>19.181833366459237</td><td>NOT_AVAILABLE</td><td>176.75857648244909</td><td>-48.710469139417619</td><td>42.651166061921117</td><td>-16.129925384913665</td></tr>\n",
       "<tr><td>1635378410781933568</td><td>7627862074752</td><td>883950605</td><td>2015.0</td><td>45.03433035439128</td><td>0.30598928200282727</td><td>0.23539164875137225</td><td>0.21880220693566088</td><td>6.35295075173405</td><td>0.30791036068520861</td><td>43.75231341609215</td><td>0.070542206426400814</td><td>-7.6419899883511491</td><td>0.087401793345547471</td><td>-0.41497213</td><td>0.1799662</td><td>0.15920649</td><td>-0.085759692</td><td>-0.40733817</td><td>-0.099451326</td><td>0.06065882</td><td>-0.0015767893</td><td>-0.10195717</td><td>0.21467718</td><td>79</td><td>79</td><td>79</td><td>78</td><td>0</td><td>1</td><td>1.9190567</td><td>0.71710100009160027</td><td>412.60597272336872</td><td>True</td><td>2.9360971</td><td>1.8181574</td><td>1.2669624e-05</td><td>3</td><td>9</td><td>False</td><td>0.38234848</td><td>0.53826606</td><td>0.39237851</td><td>0.91630632</td><td>-113.76032</td><td>21.392918</td><td>-41.678398</td><td>26.201841</td><td>77</td><td>10312332.172993332</td><td>10577.365273118843</td><td>7.9913778295058258</td><td>NOT_AVAILABLE</td><td>176.74041338370182</td><td>-48.714421900088148</td><td>42.64182504417002</td><td>-16.121052173353853</td></tr>\n",
       "<tr><td>1635378410781933568</td><td>7834020517760</td><td>620182825</td><td>2015.0</td><td>44.976164977688924</td><td>0.25045896295833414</td><td>0.21728172930522227</td><td>0.15739075973007077</td><td>--</td><td>--</td><td>--</td><td>--</td><td>--</td><td>--</td><td>-0.54519999</td><td>--</td><td>--</td><td>--</td><td>--</td><td>--</td><td>--</td><td>--</td><td>--</td><td>--</td><td>72</td><td>0</td><td>71</td><td>0</td><td>1</td><td>0</td><td>--</td><td>0.3697156656283237</td><td>1.634936672568726</td><td>False</td><td>1.1318821</td><td>1.5466828</td><td>--</td><td>2</td><td>9</td><td>False</td><td>0.37946746</td><td>0.73242164</td><td>0.38129085</td><td>0.9112348</td><td>-131.47333</td><td>22.934044</td><td>-36.931458</td><td>25.306192</td><td>70</td><td>2368.7927285291162</td><td>7.5359307283020156</td><td>17.088452410761171</td><td>NOT_AVAILABLE</td><td>176.69874824602977</td><td>-48.768792658842251</td><td>42.578413123781203</td><td>-16.121340439640161</td></tr>\n",
       "<tr><td>1635378410781933568</td><td>7902739996160</td><td>338184528</td><td>2015.0</td><td>44.966479182980471</td><td>54.649004871686408</td><td>0.22398162428751675</td><td>25.5145001037112</td><td>--</td><td>--</td><td>--</td><td>--</td><td>--</td><td>--</td><td>-0.99124998</td><td>--</td><td>--</td><td>--</td><td>--</td><td>--</td><td>--</td><td>--</td><td>--</td><td>--</td><td>53</td><td>0</td><td>52</td><td>0</td><td>1</td><td>0</td><td>--</td><td>16.231299934232258</td><td>45.377152394230457</td><td>False</td><td>8.6599474</td><td>0.0032139926</td><td>--</td><td>2</td><td>8</td><td>False</td><td>0.6496399</td><td>0.97731215</td><td>0.61788517</td><td>0.91210622</td><td>-152.73636</td><td>24.99992</td><td>-32.466663</td><td>25.163664</td><td>52</td><td>158.76779239190859</td><td>2.5203001751808296</td><td>20.022864048542523</td><td>NOT_AVAILABLE</td><td>176.68121961230523</td><td>-48.771080364002593</td><td>42.570816246308794</td><td>-16.112097250599199</td></tr>\n",
       "<tr><td>1635378410781933568</td><td>8040178924672</td><td>978798713</td><td>2015.0</td><td>44.927662446713931</td><td>0.1222335963841248</td><td>0.21913065324032402</td><td>0.094749649164251049</td><td>--</td><td>--</td><td>--</td><td>--</td><td>--</td><td>--</td><td>-0.33270001</td><td>--</td><td>--</td><td>--</td><td>--</td><td>--</td><td>--</td><td>--</td><td>--</td><td>--</td><td>81</td><td>0</td><td>81</td><td>0</td><td>0</td><td>0</td><td>--</td><td>0.51875373799715718</td><td>30.609650420317575</td><td>False</td><td>1.7458436</td><td>3.0446203</td><td>--</td><td>2</td><td>10</td><td>False</td><td>0.38742378</td><td>0.34980273</td><td>0.41717067</td><td>0.90453702</td><td>-92.415222</td><td>14.906487</td><td>-48.274841</td><td>26.412928</td><td>86</td><td>18975.10630294144</td><td>23.881073234589387</td><td>14.829309519858956</td><td>NOT_AVAILABLE</td><td>176.64546925558417</td><td>-48.80231220617528</td><td>42.530707483352273</td><td>-16.105360657031962</td></tr>\n",
       "<tr><td>1635378410781933568</td><td>8040178948096</td><td>91234372</td><td>2015.0</td><td>44.921047571659422</td><td>0.88124594940835199</td><td>0.21891807311036876</td><td>0.48172225705244742</td><td>--</td><td>--</td><td>--</td><td>--</td><td>--</td><td>--</td><td>-0.85944998</td><td>--</td><td>--</td><td>--</td><td>--</td><td>--</td><td>--</td><td>--</td><td>--</td><td>--</td><td>63</td><td>0</td><td>62</td><td>0</td><td>1</td><td>0</td><td>--</td><td>0.73703245396207206</td><td>1.7913761847449126</td><td>False</td><td>1.1947598</td><td>0.4481355</td><td>--</td><td>2</td><td>10</td><td>False</td><td>0.29679528</td><td>0.70206457</td><td>0.31512174</td><td>0.90070546</td><td>-122.47764</td><td>21.142637</td><td>-39.887154</td><td>24.719925</td><td>61</td><td>963.47484264597801</td><td>3.1066029655388694</td><td>18.06516911572011</td><td>NOT_AVAILABLE</td><td>176.63870361410872</td><td>-48.807205557258321</td><td>42.524060082321469</td><td>-16.103624790495527</td></tr>\n",
       "<tr><td>1635378410781933568</td><td>8040178950144</td><td>915163825</td><td>2015.0</td><td>44.928212467858486</td><td>0.78337058140812121</td><td>0.22750294463478418</td><td>0.43923498426949231</td><td>--</td><td>--</td><td>--</td><td>--</td><td>--</td><td>--</td><td>-0.84855002</td><td>--</td><td>--</td><td>--</td><td>--</td><td>--</td><td>--</td><td>--</td><td>--</td><td>--</td><td>63</td><td>0</td><td>63</td><td>0</td><td>0</td><td>0</td><td>--</td><td>0.98757911652191377</td><td>5.1887536667474805</td><td>False</td><td>1.4936737</td><td>0.49521667</td><td>--</td><td>2</td><td>9</td><td>False</td><td>0.30621642</td><td>0.70610029</td><td>0.32411036</td><td>0.90133435</td><td>-123.86226</td><td>21.332981</td><td>-39.435482</td><td>24.806511</td><td>62</td><td>1523.6696170541497</td><td>4.1980061648608809</td><td>17.567543045027783</td><td>NOT_AVAILABLE</td><td>176.63693316150082</td><td>-48.796084626792656</td><td>42.533809120995407</td><td>-16.097517342845141</td></tr>\n",
       "<tr><td>1635378410781933568</td><td>8143258139648</td><td>462214684</td><td>2015.0</td><td>44.972656161584453</td><td>0.23794261965515809</td><td>0.2378521049173547</td><td>0.1754341778251152</td><td>--</td><td>--</td><td>--</td><td>--</td><td>--</td><td>--</td><td>-0.48554999</td><td>--</td><td>--</td><td>--</td><td>--</td><td>--</td><td>--</td><td>--</td><td>--</td><td>--</td><td>61</td><td>0</td><td>61</td><td>0</td><td>0</td><td>0</td><td>--</td><td>0.73060788355788897</td><td>44.160028894947459</td><td>False</td><td>2.4916503</td><td>1.648882</td><td>--</td><td>2</td><td>7</td><td>False</td><td>0.56019062</td><td>0.68975866</td><td>0.57611763</td><td>0.9062587</td><td>-138.03749</td><td>23.171942</td><td>-37.764725</td><td>25.905552</td><td>58</td><td>16055.062613792836</td><td>15.593454493365289</td><td>15.010740054769116</td><td>NOT_AVAILABLE</td><td>176.67264319764715</td><td>-48.756988326667674</td><td>42.58119243103549</td><td>-16.100644492346841</td></tr>\n",
       "<tr><td>1635378410781933568</td><td>8177618164608</td><td>935229935</td><td>2015.0</td><td>44.952552187995416</td><td>47.428977394547672</td><td>0.2411470067860344</td><td>21.912631860442467</td><td>--</td><td>--</td><td>--</td><td>--</td><td>--</td><td>--</td><td>-0.99965</td><td>--</td><td>--</td><td>--</td><td>--</td><td>--</td><td>--</td><td>--</td><td>--</td><td>--</td><td>53</td><td>0</td><td>52</td><td>0</td><td>1</td><td>0</td><td>--</td><td>1.5212399931665934</td><td>2.9918284360704464</td><td>False</td><td>1.2284441</td><td>0.096775666</td><td>--</td><td>2</td><td>8</td><td>False</td><td>0.34252378</td><td>0.97827452</td><td>0.31603476</td><td>0.91505706</td><td>-151.97112</td><td>23.246798</td><td>-31.352043</td><td>23.330873</td><td>52</td><td>328.70265893170932</td><td>2.8682942097178969</td><td>19.232762020896146</td><td>NOT_AVAILABLE</td><td>176.64781367605605</td><td>-48.769118487020378</td><td>42.562190858660621</td><td>-16.091604966055254</td></tr>\n",
       "<tr><td>1635378410781933568</td><td>8246337381248</td><td>589344551</td><td>2015.0</td><td>44.998577138059026</td><td>0.26684247204382011</td><td>0.2307688915505906</td><td>0.16700276359809443</td><td>--</td><td>--</td><td>--</td><td>--</td><td>--</td><td>--</td><td>-0.54909998</td><td>--</td><td>--</td><td>--</td><td>--</td><td>--</td><td>--</td><td>--</td><td>--</td><td>--</td><td>71</td><td>0</td><td>70</td><td>0</td><td>1</td><td>0</td><td>--</td><td>0.47849841200113974</td><td>2.9955287078763027</td><td>False</td><td>1.2123007</td><td>1.3870915</td><td>--</td><td>2</td><td>9</td><td>False</td><td>0.37156236</td><td>0.72880799</td><td>0.37290302</td><td>0.91018534</td><td>-130.69337</td><td>22.839378</td><td>-37.110554</td><td>25.26746</td><td>68</td><td>2396.5956228658515</td><td>5.7348335893557234</td><td>17.075783159370918</td><td>NOT_AVAILABLE</td><td>176.70772578260733</td><td>-48.743313822235351</td><td>42.60483065453176</td><td>-16.115007770295282</td></tr>\n",
       "</table>"
      ],
      "text/plain": [
       "<Table masked=True length=100>\n",
       "    solution_id       source_id   ...      ecl_lon             ecl_lat      \n",
       "                                  ...        deg                 deg        \n",
       "       int64            int64     ...      float64             float64      \n",
       "------------------- ------------- ... ------------------ -------------------\n",
       "1635378410781933568         65408 ... 42.533723032872217 -16.329572161037468\n",
       "1635378410781933568   34359896320 ... 42.546862210800917 -16.318524345129177\n",
       "1635378410781933568   34361129088 ... 42.546563489754284 -16.317215026257962\n",
       "1635378410781933568  309238066432 ... 42.542548491309226 -16.298138638762591\n",
       "1635378410781933568  343597448960 ... 42.513188750805412 -16.283803394252779\n",
       "1635378410781933568  515396233856 ... 42.554428497847724  -16.27215703817933\n",
       "1635378410781933568  549755818112 ... 42.598674193075496 -16.304072893936116\n",
       "1635378410781933568  824633879296 ... 42.580255141716492 -16.277570967548215\n",
       "1635378410781933568  927713095040 ... 42.587405599212623 -16.265783811911223\n",
       "                ...           ... ...                ...                 ...\n",
       "1635378410781933568 7559142613632 ... 42.651166061921117 -16.129925384913665\n",
       "1635378410781933568 7627862074752 ...  42.64182504417002 -16.121052173353853\n",
       "1635378410781933568 7834020517760 ... 42.578413123781203 -16.121340439640161\n",
       "1635378410781933568 7902739996160 ... 42.570816246308794 -16.112097250599199\n",
       "1635378410781933568 8040178924672 ... 42.530707483352273 -16.105360657031962\n",
       "1635378410781933568 8040178948096 ... 42.524060082321469 -16.103624790495527\n",
       "1635378410781933568 8040178950144 ... 42.533809120995407 -16.097517342845141\n",
       "1635378410781933568 8143258139648 ...  42.58119243103549 -16.100644492346841\n",
       "1635378410781933568 8177618164608 ... 42.562190858660621 -16.091604966055254\n",
       "1635378410781933568 8246337381248 ...  42.60483065453176 -16.115007770295282"
      ]
     },
     "execution_count": 66,
     "metadata": {},
     "output_type": "execute_result"
    }
   ],
   "source": [
    "from astroquery.gaia import Gaia\n",
    "\n",
    "job = Gaia.launch_job_async(\"select top 100 * from gaiadr1.gaia_source order by source_id\")\n",
    "r = job.get_results()\n",
    "r"
   ]
  },
  {
   "cell_type": "markdown",
   "metadata": {
    "slideshow": {
     "slide_type": "slide"
    }
   },
   "source": [
    "## Summary\n",
    "\n",
    "The `astroquery` package provides you with a one-stop-shop for a number of Python modules to access diverse data existing in remote archives. If you need to grab some data from an archive, check the [astroquery documentation](http://astroquery.readthedocs.io/en/latest/index.html) first.\n",
    "\n",
    "`astroquery` is not without it's faults, though:\n",
    "* The API can vary from module to module (though there's an ongoing push to fix that)\n",
    "* The implementation quality of the individual modules is highly variable\n",
    "* The documentation could be better.\n",
    "* It doesn't expose all functionality that is available through web interfaces.\n",
    "\n",
    "All those issues aside, it's still much better than doing the equivalent manually!\n",
    "\n",
    "*** Note: this is an excellent package to begin with, if you want to contribute to open source astronomical software development!***"
   ]
  },
  {
   "cell_type": "markdown",
   "metadata": {
    "slideshow": {
     "slide_type": "slide"
    }
   },
   "source": [
    "## Homework 5\n",
    "\n",
    "We'll write a small utility to download arbitrarily large pieces of the SDSS catalog.\n",
    "\n",
    "### Part A\n",
    "\n",
    "Using the `astroquery` package, write a utility to run SQL queries on the SDSS database and store the results into a local `sqlite` database file:\n",
    "\n",
    "```bash\n",
    "$ ./query-sdss\n",
    "error: insufficient arguments.\n",
    "\n",
    "usage: ./query-sdss <sql_query> <database_file> <destination_table>\n",
    "```\n",
    "\n",
    "For example, the following invocation:\n",
    "\n",
    "```bash\n",
    "$ ./query-sdss \"SELECT ra, dec FROM Star WHERE (ra BETWEEN 1 AND 2) and (dec BETWEEN 1 and 2)\" stars.db star_sample\n",
    "```\n",
    "\n",
    "should result in a table named `star_sample` in the SQLite database file `stars.db`.\n",
    "\n",
    "### Part B\n",
    "\n",
    "Now extend the utility above to take three more _optional_ arguments: `ra0`, `ra1` and `n_steps`:\n",
    "\n",
    "```bash\n",
    "$ ./query-sdss\n",
    "error: insufficient arguments.\n",
    "\n",
    "usage: ./query-sdss <sql_query> <database_file> <destination_table> [ra0] [ra1] [n_steps]\n",
    "```\n",
    "\n",
    "If these are given, instead of directly calling `SDSS.query_sql()` with the passed query, make `n_steps` calls, with each querying for a _slice_ of the catalog that's $\\Delta RA = (ra_1 - ra_0) / n_{\\rm steps}$ wide.  The idea is to break up the original query (returning a result that is too large) into a number of \"child queries\" returning smaller subsets of the large result. Then these subsets can be merged as they're written into the (same) local table.\n",
    "\n",
    "An easy way to break up an arbitrary query is to divide it up into a number of smaller stripes by right ascension. You can do that by _rewriting_ the original query's WHERE clause: add a condition that limits each child query to the $\\Delta RA$-wide range of RAs. For example, given the following invocation:\n",
    "\n",
    "```sql\n",
    "$ ./query-sdss \"SELECT ra, dec FROM Star WHERE (ra BETWEEN 1 AND 4.5) and (dec BETWEEN 1 and 2)\" stars.db star_large 0 6 3\n",
    "```\n",
    "\n",
    "your code should end up calling `SDSS.query_sql()` with these queries:\n",
    "\n",
    "```sql\n",
    "SELECT ra, dec FROM Star WHERE ((ra BETWEEN 1 AND 4.5) and (dec BETWEEN 1 and 2)) AND (ra BETWEEN 0 AND 2)\n",
    "SELECT ra, dec FROM Star WHERE ((ra BETWEEN 1 AND 4.5) and (dec BETWEEN 1 and 2)) AND (ra BETWEEN 2 AND 4)\n",
    "SELECT ra, dec FROM Star WHERE ((ra BETWEEN 1 AND 4.5) and (dec BETWEEN 1 and 2)) AND (ra BETWEEN 4 AND 6)\n",
    "```\n",
    "\n",
    "and the results of each of these will be written into the `star_large` table in `stars.db` file.\n",
    "\n",
    "This type of a hack is a common workaround around services that have download limitations. Use it carefully, though, to avoid unnecessarily overloading the SDSS servers.\n",
    "\n",
    "Implementation hints:\n",
    "* When rewriting the query, you may find the `str.split()` function useful. Or the functions in the `regex` module.\n",
    "* You're free to assume the WHERE clause is the last one in the query (i.e., there are no ORDER BY or similar following it).\n",
    "* Remember that SQL queries are case insensitive (so 'WHERE' and 'where' are equally valid).\n",
    "* Don't forget the parentheses around the original WHERE expression!\n",
    "\n"
   ]
  },
  {
   "cell_type": "code",
   "execution_count": null,
   "metadata": {
    "collapsed": true
   },
   "outputs": [],
   "source": []
  }
 ],
 "metadata": {
  "celltoolbar": "Slideshow",
  "kernelspec": {
   "display_name": "Python 3",
   "language": "python",
   "name": "python3"
  },
  "language_info": {
   "codemirror_mode": {
    "name": "ipython",
    "version": 3
   },
   "file_extension": ".py",
   "mimetype": "text/x-python",
   "name": "python",
   "nbconvert_exporter": "python",
   "pygments_lexer": "ipython3",
   "version": "3.8.1"
  },
  "livereveal": {
   "scroll": "true",
   "start_slideshow_at": "selected"
  }
 },
 "nbformat": 4,
 "nbformat_minor": 1
}
